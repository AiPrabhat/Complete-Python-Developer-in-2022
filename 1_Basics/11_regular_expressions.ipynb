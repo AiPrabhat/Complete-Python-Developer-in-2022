{
 "cells": [
  {
   "cell_type": "markdown",
   "id": "b0714dd8",
   "metadata": {},
   "source": [
    "### Regular Expressions"
   ]
  },
  {
   "cell_type": "code",
   "execution_count": 47,
   "id": "f0d567cf",
   "metadata": {},
   "outputs": [],
   "source": [
    "import re"
   ]
  },
  {
   "cell_type": "code",
   "execution_count": 48,
   "id": "e87b5ce8",
   "metadata": {},
   "outputs": [
    {
     "name": "stdout",
     "output_type": "stream",
     "text": [
      "True\n",
      "<re.Match object; span=(17, 21), match='this'>\n",
      "(17, 21)\n",
      "17\n",
      "21\n",
      "this\n"
     ]
    }
   ],
   "source": [
    "string = 'search inside of this text please!'\n",
    "print('search' in string)\n",
    "\n",
    "a = re.search('this', string)\n",
    "\n",
    "print(a)\n",
    "print(a.span())\n",
    "print(a.start())\n",
    "print(a.end())\n",
    "print(a.group())"
   ]
  },
  {
   "cell_type": "code",
   "execution_count": 49,
   "id": "50ad123f",
   "metadata": {},
   "outputs": [
    {
     "name": "stdout",
     "output_type": "stream",
     "text": [
      "<re.Match object; span=(7, 13), match='inside'>\n",
      "(7, 13)\n",
      "7\n",
      "13\n",
      "inside\n"
     ]
    }
   ],
   "source": [
    "pattern = re.compile('inside')\n",
    "a = pattern.search(string)\n",
    "\n",
    "print(a)\n",
    "print(a.span())\n",
    "print(a.start())\n",
    "print(a.end())\n",
    "print(a.group())"
   ]
  },
  {
   "cell_type": "code",
   "execution_count": 50,
   "id": "2dce09e7",
   "metadata": {},
   "outputs": [
    {
     "name": "stdout",
     "output_type": "stream",
     "text": [
      "['inside']\n"
     ]
    }
   ],
   "source": [
    "b = pattern.findall(string)\n",
    "print(b)"
   ]
  },
  {
   "cell_type": "code",
   "execution_count": 51,
   "id": "a52eeefc",
   "metadata": {},
   "outputs": [
    {
     "name": "stdout",
     "output_type": "stream",
     "text": [
      "None\n"
     ]
    }
   ],
   "source": [
    "pattern = re.compile('search inside of this text please! extra')\n",
    "c = pattern.search(string)\n",
    "\n",
    "c = pattern.fullmatch(string)\n",
    "print(c)"
   ]
  },
  {
   "cell_type": "code",
   "execution_count": 52,
   "id": "41fab9cd",
   "metadata": {},
   "outputs": [
    {
     "name": "stdout",
     "output_type": "stream",
     "text": [
      "<re.Match object; span=(0, 34), match='search inside of this text please!'>\n"
     ]
    }
   ],
   "source": [
    "pattern = re.compile('search inside of this text please!')\n",
    "d = pattern.search(string)\n",
    "\n",
    "d = pattern.match(string)\n",
    "print(d)"
   ]
  },
  {
   "cell_type": "code",
   "execution_count": 56,
   "id": "d95c5dd4",
   "metadata": {},
   "outputs": [
    {
     "name": "stdout",
     "output_type": "stream",
     "text": [
      "sea\n"
     ]
    }
   ],
   "source": [
    "pattern = re.compile(r'[a-zA-Z].[a]')\n",
    "e = pattern.search(string)\n",
    "\n",
    "e = pattern.search(string)\n",
    "print(e.group())"
   ]
  },
  {
   "cell_type": "code",
   "execution_count": 60,
   "id": "163d8920",
   "metadata": {},
   "outputs": [
    {
     "name": "stdout",
     "output_type": "stream",
     "text": [
      "None\n"
     ]
    }
   ],
   "source": [
    "pattern = re.compile(r'^new')\n",
    "e = pattern.search(string)\n",
    "\n",
    "e = pattern.search(string)\n",
    "print(e)"
   ]
  },
  {
   "cell_type": "code",
   "execution_count": 66,
   "id": "b6109ef7",
   "metadata": {},
   "outputs": [
    {
     "name": "stdout",
     "output_type": "stream",
     "text": [
      "search\n"
     ]
    }
   ],
   "source": [
    "pattern = re.compile(r'^search')\n",
    "e = pattern.search(string)\n",
    "\n",
    "e = pattern.search(string)\n",
    "print(e.group())"
   ]
  },
  {
   "cell_type": "markdown",
   "id": "c7341815",
   "metadata": {},
   "source": [
    "#### email validator"
   ]
  },
  {
   "cell_type": "code",
   "execution_count": 73,
   "id": "14dcb3c9",
   "metadata": {},
   "outputs": [
    {
     "name": "stdout",
     "output_type": "stream",
     "text": [
      "<re.Match object; span=(0, 20), match='gprabhat06@gmail.com'>\n",
      "None\n"
     ]
    }
   ],
   "source": [
    "pattern = re.compile(r\"(^[a-zA-Z0-9_.+-]+@[a-zA-Z0-9-]+\\.[a-zA-Z0-9-.]+$)\")\n",
    "email = 'gprabhat06@gmail.com'\n",
    "email2 = 'gprabhat@dd'\n",
    "\n",
    "x = pattern.search(email)\n",
    "y = pattern.search(email2)\n",
    "print(x)\n",
    "print(y)"
   ]
  },
  {
   "cell_type": "markdown",
   "id": "a0496710",
   "metadata": {},
   "source": [
    "#### password checker\n",
    "\n",
    "At least 8 char long\n",
    "\n",
    "contain any sort of letters, numbers @#$%\n",
    "\n",
    "has to end with a number"
   ]
  },
  {
   "cell_type": "code",
   "execution_count": 85,
   "id": "5056eb8b",
   "metadata": {},
   "outputs": [
    {
     "name": "stdout",
     "output_type": "stream",
     "text": [
      "<re.Match object; span=(0, 18), match='supersecret111@#23'>\n"
     ]
    }
   ],
   "source": [
    "pattern = re.compile(r\"[a-zA-Z0-9@#$%]{8,}\\d\")\n",
    "password = 'supersecret111@#23'\n",
    "\n",
    "check = pattern.fullmatch(password)\n",
    "print(check)"
   ]
  },
  {
   "cell_type": "code",
   "execution_count": 88,
   "id": "a992f093",
   "metadata": {},
   "outputs": [
    {
     "name": "stdout",
     "output_type": "stream",
     "text": [
      "Match 1 was found at 0-15: supersecret@#82\n"
     ]
    }
   ],
   "source": [
    "# from internet\n",
    "\n",
    "import re\n",
    "regex = r\"[a-zA-Z0-9@#$%]{8,}\\d\"\n",
    "test_str = \"supersecret@#82sdfsdf\"\n",
    "matches = re.finditer(regex, test_str, re.MULTILINE)\n",
    "\n",
    "for matchNum, match in enumerate(matches, start=1):\n",
    "    print (\"Match {matchNum} was found at {start}-{end}: {match}\".format(matchNum = matchNum, start = match.start(), end = match.end(), match = match.group()))\n",
    "    for groupNum in range(0, len(match.groups())):\n",
    "        groupNum = groupNum + 1\n",
    "        print (\"Group {groupNum} found at {start}-{end}: {group}\".format(groupNum = groupNum, start = match.start(groupNum), end = match.end(groupNum), group = match.group(groupNum)))"
   ]
  }
 ],
 "metadata": {
  "kernelspec": {
   "display_name": "Python 3 (ipykernel)",
   "language": "python",
   "name": "python3"
  },
  "language_info": {
   "codemirror_mode": {
    "name": "ipython",
    "version": 3
   },
   "file_extension": ".py",
   "mimetype": "text/x-python",
   "name": "python",
   "nbconvert_exporter": "python",
   "pygments_lexer": "ipython3",
   "version": "3.9.7"
  },
  "toc": {
   "base_numbering": 1,
   "nav_menu": {},
   "number_sections": true,
   "sideBar": true,
   "skip_h1_title": false,
   "title_cell": "Table of Contents",
   "title_sidebar": "Contents",
   "toc_cell": false,
   "toc_position": {
    "height": "calc(100% - 180px)",
    "left": "10px",
    "top": "150px",
    "width": "249.188px"
   },
   "toc_section_display": true,
   "toc_window_display": false
  }
 },
 "nbformat": 4,
 "nbformat_minor": 5
}
