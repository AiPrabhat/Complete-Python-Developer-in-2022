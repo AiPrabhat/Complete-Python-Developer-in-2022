{
 "cells": [
  {
   "cell_type": "markdown",
   "id": "b0714dd8",
   "metadata": {},
   "source": [
    "### Regular Expressions\n"
   ]
  },
  {
   "cell_type": "code",
   "execution_count": 18,
   "id": "f0d567cf",
   "metadata": {},
   "outputs": [],
   "source": [
    "import re\n"
   ]
  },
  {
   "cell_type": "code",
   "execution_count": 19,
   "id": "e87b5ce8",
   "metadata": {},
   "outputs": [
    {
     "name": "stdout",
     "output_type": "stream",
     "text": [
      "True\n",
      "<re.Match object; span=(17, 21), match='this'>\n",
      "(17, 21)\n",
      "17\n",
      "21\n",
      "this\n"
     ]
    }
   ],
   "source": [
    "string = 'search inside of this text please!'\n",
    "print('search' in string)\n",
    "\n",
    "a = re.search('this', string)\n",
    "\n",
    "print(a)\n",
    "print(a.span())\n",
    "print(a.start())\n",
    "print(a.end())\n",
    "print(a.group())\n"
   ]
  },
  {
   "cell_type": "code",
   "execution_count": 20,
   "id": "50ad123f",
   "metadata": {},
   "outputs": [
    {
     "name": "stdout",
     "output_type": "stream",
     "text": [
      "<re.Match object; span=(7, 13), match='inside'>\n",
      "(7, 13)\n",
      "7\n",
      "13\n",
      "inside\n"
     ]
    }
   ],
   "source": [
    "pattern = re.compile('inside')\n",
    "a = pattern.search(string)\n",
    "\n",
    "print(a)\n",
    "print(a.span())\n",
    "print(a.start())\n",
    "print(a.end())\n",
    "print(a.group())\n"
   ]
  },
  {
   "cell_type": "code",
   "execution_count": 21,
   "id": "2dce09e7",
   "metadata": {},
   "outputs": [
    {
     "name": "stdout",
     "output_type": "stream",
     "text": [
      "['inside']\n"
     ]
    }
   ],
   "source": [
    "b = pattern.findall(string)\n",
    "print(b)\n"
   ]
  },
  {
   "cell_type": "code",
   "execution_count": 22,
   "id": "a52eeefc",
   "metadata": {},
   "outputs": [
    {
     "name": "stdout",
     "output_type": "stream",
     "text": [
      "None\n"
     ]
    }
   ],
   "source": [
    "pattern = re.compile('search inside of this text please! extra')\n",
    "c = pattern.search(string)\n",
    "\n",
    "c = pattern.fullmatch(string)\n",
    "print(c)\n"
   ]
  },
  {
   "cell_type": "code",
   "execution_count": 23,
   "id": "41fab9cd",
   "metadata": {},
   "outputs": [
    {
     "name": "stdout",
     "output_type": "stream",
     "text": [
      "<re.Match object; span=(0, 34), match='search inside of this text please!'>\n"
     ]
    }
   ],
   "source": [
    "pattern = re.compile('search inside of this text please!')\n",
    "d = pattern.search(string)\n",
    "\n",
    "d = pattern.match(string)\n",
    "print(d)\n"
   ]
  },
  {
   "cell_type": "code",
   "execution_count": 24,
   "id": "d95c5dd4",
   "metadata": {},
   "outputs": [
    {
     "name": "stdout",
     "output_type": "stream",
     "text": [
      "sea\n"
     ]
    }
   ],
   "source": [
    "pattern = re.compile(r'[a-zA-Z].[a]')\n",
    "e = pattern.search(string)\n",
    "\n",
    "e = pattern.search(string)\n",
    "print(e.group())\n"
   ]
  },
  {
   "cell_type": "code",
   "execution_count": 25,
   "id": "163d8920",
   "metadata": {},
   "outputs": [
    {
     "name": "stdout",
     "output_type": "stream",
     "text": [
      "None\n"
     ]
    }
   ],
   "source": [
    "pattern = re.compile(r'^new')\n",
    "e = pattern.search(string)\n",
    "\n",
    "e = pattern.search(string)\n",
    "print(e)\n"
   ]
  },
  {
   "cell_type": "code",
   "execution_count": 26,
   "id": "b6109ef7",
   "metadata": {},
   "outputs": [
    {
     "name": "stdout",
     "output_type": "stream",
     "text": [
      "search\n"
     ]
    }
   ],
   "source": [
    "pattern = re.compile(r'^search')\n",
    "e = pattern.search(string)\n",
    "\n",
    "e = pattern.search(string)\n",
    "print(e.group())\n"
   ]
  },
  {
   "cell_type": "markdown",
   "id": "c7341815",
   "metadata": {},
   "source": [
    "#### email validator\n"
   ]
  },
  {
   "cell_type": "code",
   "execution_count": 27,
   "id": "14dcb3c9",
   "metadata": {},
   "outputs": [
    {
     "name": "stdout",
     "output_type": "stream",
     "text": [
      "<re.Match object; span=(0, 20), match='gprabhat06@gmail.com'>\n",
      "None\n"
     ]
    }
   ],
   "source": [
    "pattern = re.compile(r\"(^[a-zA-Z0-9_.+-]+@[a-zA-Z0-9-]+\\.[a-zA-Z0-9-.]+$)\")\n",
    "email = 'gprabhat06@gmail.com'\n",
    "email2 = 'gprabhat@dd'\n",
    "\n",
    "x = pattern.search(email)\n",
    "y = pattern.search(email2)\n",
    "print(x)\n",
    "print(y)\n"
   ]
  },
  {
   "cell_type": "markdown",
   "id": "a0496710",
   "metadata": {},
   "source": [
    "#### password checker\n",
    "\n",
    "At least 8 char long\n",
    "\n",
    "contain any sort of letters, numbers @#$%\n",
    "\n",
    "has to end with a number\n"
   ]
  },
  {
   "cell_type": "code",
   "execution_count": 28,
   "id": "5056eb8b",
   "metadata": {},
   "outputs": [
    {
     "name": "stdout",
     "output_type": "stream",
     "text": [
      "<re.Match object; span=(0, 18), match='supersec1#@dfg#123'>\n"
     ]
    }
   ],
   "source": [
    "pattern = re.compile(r\"[a-zA-Z0-9@#$%]{8,}\\d\")\n",
    "password = 'supersec1#@dfg#123'\n",
    "\n",
    "check = pattern.fullmatch(password)\n",
    "print(check)\n"
   ]
  },
  {
   "cell_type": "code",
   "execution_count": 6,
   "id": "3048f5ff",
   "metadata": {},
   "outputs": [
    {
     "name": "stdout",
     "output_type": "stream",
     "text": [
      "Match 1 was found at 0-24: Prabhxgdg#54375[[[at@123\n"
     ]
    }
   ],
   "source": [
    "import re\n",
    "\n",
    "regex = r\"^(?=.*\\d)(?=.*[a-z])(?=.*[A-Z])(?=.*\\W).{8,}$\"\n",
    "\n",
    "test_str = \"Prabhxgdg#54375[[[at@123\"\n",
    "\n",
    "matches = re.finditer(regex, test_str, re.MULTILINE)\n",
    "\n",
    "for matchNum, match in enumerate(matches, start=1):\n",
    "\n",
    "    print(\"Match {matchNum} was found at {start}-{end}: {match}\".format(\n",
    "        matchNum=matchNum, start=match.start(), end=match.end(), match=match.group()))\n",
    "\n",
    "    for groupNum in range(0, len(match.groups())):\n",
    "        groupNum = groupNum + 1\n",
    "\n",
    "        print(\"Group {groupNum} found at {start}-{end}: {group}\".format(groupNum=groupNum,\n",
    "              start=match.start(groupNum), end=match.end(groupNum), group=match.group(groupNum)))\n"
   ]
  },
  {
   "cell_type": "code",
   "execution_count": 68,
   "id": "463626d7",
   "metadata": {},
   "outputs": [
    {
     "name": "stdout",
     "output_type": "stream",
     "text": [
      "Strong Password Checker!\n",
      "checking....\n",
      "Result: Failed! Please try different password\n"
     ]
    }
   ],
   "source": [
    "import re\n",
    "import time\n",
    "\n",
    "\n",
    "def password_checker(password):\n",
    "    regex = r\"^(?=.*\\d)(?=.*[a-z])(?=.*[A-Z])(?=.*\\W).{8,}$\"\n",
    "    matches = re.match(regex, password)\n",
    "\n",
    "    print('Strong Password Checker!\\nchecking....')\n",
    "    time.sleep(3)\n",
    "    if matches:\n",
    "        print(f'Result: Passed')\n",
    "    else:\n",
    "        print(f'Result: Failed! Please try different password')\n",
    "\n",
    "\n",
    "password = input('Enter your password here: ')\n",
    "password_checker(password)\n"
   ]
  }
 ],
 "metadata": {
  "interpreter": {
   "hash": "610f53f6574e74870c25a90d1508403301c7403161a2cfe28317d1cc7b964d92"
  },
  "kernelspec": {
   "display_name": "Python 3.9.7 ('dev')",
   "language": "python",
   "name": "python3"
  },
  "language_info": {
   "codemirror_mode": {
    "name": "ipython",
    "version": 3
   },
   "file_extension": ".py",
   "mimetype": "text/x-python",
   "name": "python",
   "nbconvert_exporter": "python",
   "pygments_lexer": "ipython3",
   "version": "3.9.7"
  },
  "toc": {
   "base_numbering": 1,
   "nav_menu": {},
   "number_sections": true,
   "sideBar": true,
   "skip_h1_title": false,
   "title_cell": "Table of Contents",
   "title_sidebar": "Contents",
   "toc_cell": false,
   "toc_position": {
    "height": "calc(100% - 180px)",
    "left": "10px",
    "top": "150px",
    "width": "249.188px"
   },
   "toc_section_display": true,
   "toc_window_display": false
  }
 },
 "nbformat": 4,
 "nbformat_minor": 5
}
