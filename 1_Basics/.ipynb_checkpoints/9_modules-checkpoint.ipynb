{
 "cells": [
  {
   "cell_type": "markdown",
   "id": "9b5f9fa9",
   "metadata": {},
   "source": [
    "#### Modules"
   ]
  },
  {
   "cell_type": "code",
   "execution_count": 1,
   "id": "98286372",
   "metadata": {},
   "outputs": [
    {
     "data": {
      "text/plain": [
       "'If you put a million monkeys at a million keyboards, one of them will eventually write a Java program. The rest of them will write Perl.'"
      ]
     },
     "execution_count": 1,
     "metadata": {},
     "output_type": "execute_result"
    }
   ],
   "source": [
    "import pyjokes\n",
    "\n",
    "pyjokes.get_joke('en', 'neutral')"
   ]
  },
  {
   "cell_type": "code",
   "execution_count": 2,
   "id": "b63c33f4",
   "metadata": {},
   "outputs": [
    {
     "data": {
      "text/plain": [
       "\"Pirates go 'arg!', computer pirates go 'argv!'\""
      ]
     },
     "execution_count": 2,
     "metadata": {},
     "output_type": "execute_result"
    }
   ],
   "source": [
    "pyjokes.get_joke('en', 'all')"
   ]
  },
  {
   "cell_type": "code",
   "execution_count": 3,
   "id": "40c27178",
   "metadata": {},
   "outputs": [
    {
     "name": "stdout",
     "output_type": "stream",
     "text": [
      "Counter({5: 3, 2: 2, 1: 1, 3: 1, 4: 1, 7: 1}) \n",
      "\n",
      "Counter({'h': 5, ' ': 5, 'b': 4, 'a': 4, 'l': 3, 't': 3, 'n': 3, 'i': 2, 'o': 2, 'k': 1, 'g': 1, 'u': 1, 'p': 1, 'y': 1})\n"
     ]
    }
   ],
   "source": [
    "from collections import Counter, defaultdict, OrderedDict\n",
    "\n",
    "li = [1,2,3,4,5,5,2,5,7]\n",
    "print(Counter(li),'\\n')\n",
    "\n",
    "sen = 'blah blah blah thinking about python'\n",
    "print(Counter(sen))"
   ]
  },
  {
   "cell_type": "markdown",
   "id": "854919a2",
   "metadata": {},
   "source": [
    "#### defaultdict()"
   ]
  },
  {
   "cell_type": "code",
   "execution_count": 4,
   "id": "f9c2ddd1",
   "metadata": {},
   "outputs": [
    {
     "name": "stdout",
     "output_type": "stream",
     "text": [
      "Does not exists\n"
     ]
    }
   ],
   "source": [
    "dictionary = defaultdict(lambda:'Does not exists',{'a': 1, 'b': 2})\n",
    "\n",
    "print(dictionary['c'])"
   ]
  },
  {
   "cell_type": "markdown",
   "id": "237aa158",
   "metadata": {},
   "source": [
    "#### OrderedDict()"
   ]
  },
  {
   "cell_type": "code",
   "execution_count": 5,
   "id": "8b6c043a",
   "metadata": {},
   "outputs": [
    {
     "name": "stdout",
     "output_type": "stream",
     "text": [
      "True\n"
     ]
    }
   ],
   "source": [
    "# Normal Dictionary\n",
    "\n",
    "d = {'c': 100}\n",
    "d['a'] = 1\n",
    "d['b'] = 2\n",
    "\n",
    "d2 = {'c': 100}\n",
    "d2['b'] = 2\n",
    "d2['a'] = 1\n",
    "\n",
    "print(d2 == d)"
   ]
  },
  {
   "cell_type": "code",
   "execution_count": 6,
   "id": "57375a41",
   "metadata": {},
   "outputs": [
    {
     "name": "stdout",
     "output_type": "stream",
     "text": [
      "False\n"
     ]
    }
   ],
   "source": [
    "d = OrderedDict()\n",
    "d['a'] = 1\n",
    "d['b'] = 2\n",
    "\n",
    "d2 = OrderedDict()\n",
    "d2['b'] = 2\n",
    "d2['a'] = 1\n",
    "\n",
    "print(d2 == d)"
   ]
  },
  {
   "cell_type": "code",
   "execution_count": 7,
   "id": "f3022619",
   "metadata": {},
   "outputs": [
    {
     "name": "stdout",
     "output_type": "stream",
     "text": [
      "True\n"
     ]
    }
   ],
   "source": [
    "d = OrderedDict()\n",
    "d['a'] = 1\n",
    "d['b'] = 2\n",
    "\n",
    "d2 = OrderedDict()\n",
    "d2['a'] = 1\n",
    "d2['b'] = 2\n",
    "\n",
    "print(d2 == d)"
   ]
  },
  {
   "cell_type": "code",
   "execution_count": 8,
   "id": "bf5e712c",
   "metadata": {},
   "outputs": [
    {
     "name": "stdout",
     "output_type": "stream",
     "text": [
      "00:00:00\n",
      "05:45:02\n"
     ]
    }
   ],
   "source": [
    "import datetime\n",
    "\n",
    "print(datetime.time())\n",
    "print(datetime.time(5,45,2))"
   ]
  },
  {
   "cell_type": "code",
   "execution_count": 9,
   "id": "2f435539",
   "metadata": {},
   "outputs": [
    {
     "name": "stdout",
     "output_type": "stream",
     "text": [
      "2022-05-16\n"
     ]
    }
   ],
   "source": [
    "print(datetime.date.today())"
   ]
  },
  {
   "cell_type": "code",
   "execution_count": 10,
   "id": "ee28627d",
   "metadata": {},
   "outputs": [
    {
     "name": "stdout",
     "output_type": "stream",
     "text": [
      "1\n"
     ]
    }
   ],
   "source": [
    "from array import array\n",
    "\n",
    "arr = array('i', [1,2,3])\n",
    "print(arr[0])"
   ]
  },
  {
   "cell_type": "code",
   "execution_count": 14,
   "id": "6c0c329c",
   "metadata": {},
   "outputs": [
    {
     "name": "stdout",
     "output_type": "stream",
     "text": [
      "> \u001b[1;32mc:\\users\\gprab\\appdata\\local\\temp\\ipykernel_8628\\2606235866.py\u001b[0m(5)\u001b[0;36madd\u001b[1;34m()\u001b[0m\n",
      "\n",
      "ipdb> continue\n"
     ]
    },
    {
     "ename": "TypeError",
     "evalue": "unsupported operand type(s) for +: 'int' and 'str'",
     "output_type": "error",
     "traceback": [
      "\u001b[1;31m---------------------------------------------------------------------------\u001b[0m",
      "\u001b[1;31mTypeError\u001b[0m                                 Traceback (most recent call last)",
      "\u001b[1;32m~\\AppData\\Local\\Temp/ipykernel_8628/2606235866.py\u001b[0m in \u001b[0;36m<module>\u001b[1;34m\u001b[0m\n\u001b[0;32m      6\u001b[0m     \u001b[1;32mreturn\u001b[0m \u001b[0mnum1\u001b[0m \u001b[1;33m+\u001b[0m \u001b[0mnum2\u001b[0m\u001b[1;33m\u001b[0m\u001b[1;33m\u001b[0m\u001b[0m\n\u001b[0;32m      7\u001b[0m \u001b[1;33m\u001b[0m\u001b[0m\n\u001b[1;32m----> 8\u001b[1;33m \u001b[0madd\u001b[0m\u001b[1;33m(\u001b[0m\u001b[1;36m4\u001b[0m\u001b[1;33m,\u001b[0m \u001b[1;34m'sdfdd'\u001b[0m\u001b[1;33m)\u001b[0m\u001b[1;33m\u001b[0m\u001b[1;33m\u001b[0m\u001b[0m\n\u001b[0m",
      "\u001b[1;32m~\\AppData\\Local\\Temp/ipykernel_8628/2606235866.py\u001b[0m in \u001b[0;36madd\u001b[1;34m(num1, num2)\u001b[0m\n\u001b[0;32m      3\u001b[0m \u001b[1;32mdef\u001b[0m \u001b[0madd\u001b[0m\u001b[1;33m(\u001b[0m\u001b[0mnum1\u001b[0m\u001b[1;33m,\u001b[0m \u001b[0mnum2\u001b[0m\u001b[1;33m)\u001b[0m\u001b[1;33m:\u001b[0m\u001b[1;33m\u001b[0m\u001b[1;33m\u001b[0m\u001b[0m\n\u001b[0;32m      4\u001b[0m     \u001b[0mpdb\u001b[0m\u001b[1;33m.\u001b[0m\u001b[0mset_trace\u001b[0m\u001b[1;33m(\u001b[0m\u001b[1;33m)\u001b[0m\u001b[1;33m\u001b[0m\u001b[1;33m\u001b[0m\u001b[0m\n\u001b[1;32m----> 5\u001b[1;33m     \u001b[0mt\u001b[0m \u001b[1;33m=\u001b[0m \u001b[1;36m4\u001b[0m\u001b[1;33m*\u001b[0m\u001b[1;36m5\u001b[0m\u001b[1;33m\u001b[0m\u001b[1;33m\u001b[0m\u001b[0m\n\u001b[0m\u001b[0;32m      6\u001b[0m     \u001b[1;32mreturn\u001b[0m \u001b[0mnum1\u001b[0m \u001b[1;33m+\u001b[0m \u001b[0mnum2\u001b[0m\u001b[1;33m\u001b[0m\u001b[1;33m\u001b[0m\u001b[0m\n\u001b[0;32m      7\u001b[0m \u001b[1;33m\u001b[0m\u001b[0m\n",
      "\u001b[1;31mTypeError\u001b[0m: unsupported operand type(s) for +: 'int' and 'str'"
     ]
    }
   ],
   "source": [
    "import pdb\n",
    "\n",
    "def add(num1, num2):\n",
    "    pdb.set_trace()\n",
    "    t = 4*5\n",
    "    return num1 + num2\n",
    "\n",
    "add(4, 'sdfdd')"
   ]
  }
 ],
 "metadata": {
  "kernelspec": {
   "display_name": "Python 3 (ipykernel)",
   "language": "python",
   "name": "python3"
  },
  "language_info": {
   "codemirror_mode": {
    "name": "ipython",
    "version": 3
   },
   "file_extension": ".py",
   "mimetype": "text/x-python",
   "name": "python",
   "nbconvert_exporter": "python",
   "pygments_lexer": "ipython3",
   "version": "3.9.7"
  },
  "toc": {
   "base_numbering": 1,
   "nav_menu": {},
   "number_sections": false,
   "sideBar": true,
   "skip_h1_title": false,
   "title_cell": "Table of Contents",
   "title_sidebar": "Contents",
   "toc_cell": false,
   "toc_position": {},
   "toc_section_display": true,
   "toc_window_display": true
  }
 },
 "nbformat": 4,
 "nbformat_minor": 5
}
