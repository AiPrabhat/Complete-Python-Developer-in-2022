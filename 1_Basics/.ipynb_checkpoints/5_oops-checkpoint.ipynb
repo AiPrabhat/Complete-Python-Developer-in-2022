{
 "cells": [
  {
   "cell_type": "markdown",
   "id": "3f3151e7",
   "metadata": {},
   "source": [
    "### Object Oriented Programming"
   ]
  },
  {
   "cell_type": "code",
   "execution_count": 37,
   "id": "62092523",
   "metadata": {},
   "outputs": [
    {
     "name": "stdout",
     "output_type": "stream",
     "text": [
      "<class 'NoneType'>\n",
      "<class 'bool'>\n",
      "<class 'int'>\n",
      "<class 'float'>\n",
      "<class 'str'>\n",
      "<class 'list'>\n",
      "<class 'tuple'>\n",
      "<class 'dict'>\n",
      "<class 'set'> \n",
      "\n",
      "<class '__main__.BigObject'>\n"
     ]
    }
   ],
   "source": [
    "# OOP\n",
    "\n",
    "class BigObject:    # class\n",
    "    pass\n",
    "\n",
    "obj1 = BigObject()\n",
    "\n",
    "print(type(None))\n",
    "print(type(True))\n",
    "print(type(5))\n",
    "print(type(5.5))\n",
    "print(type('hi'))\n",
    "print(type([]))\n",
    "print(type(()))\n",
    "print(type({}))\n",
    "print(type(set()),'\\n')\n",
    "\n",
    "print(type(obj1))"
   ]
  },
  {
   "cell_type": "code",
   "execution_count": 38,
   "id": "075e3e83",
   "metadata": {},
   "outputs": [
    {
     "name": "stdout",
     "output_type": "stream",
     "text": [
      "<__main__.PlayerCharacter object at 0x000002419600F5E0> \n",
      "\n",
      "Prabhat\n",
      "Tom\n"
     ]
    }
   ],
   "source": [
    "class PlayerCharacter:\n",
    "    def __init__(self, name):\n",
    "        self.name = name\n",
    "        \n",
    "    def run(self):\n",
    "        print('run')\n",
    "        \n",
    "player1 = PlayerCharacter('Prabhat')\n",
    "player2 = PlayerCharacter('Tom')\n",
    "\n",
    "print(player1,'\\n')\n",
    "\n",
    "print(player1.name)\n",
    "print(player2.name)"
   ]
  },
  {
   "cell_type": "code",
   "execution_count": 39,
   "id": "74425f1f",
   "metadata": {},
   "outputs": [
    {
     "name": "stdout",
     "output_type": "stream",
     "text": [
      "<__main__.PlayerCharacter object at 0x000002419610FDC0> \n",
      "\n",
      "Prabhat 22\n",
      "Tom 34 \n",
      "\n",
      "run\n",
      "None\n"
     ]
    }
   ],
   "source": [
    "class PlayerCharacter:\n",
    "    def __init__(self, name, age):\n",
    "        self.name = name\n",
    "        self.age = age\n",
    "        \n",
    "    def run(self):\n",
    "        print('run')\n",
    "        \n",
    "player1 = PlayerCharacter('Prabhat', 22)\n",
    "player2 = PlayerCharacter('Tom', 34)\n",
    "\n",
    "print(player1,'\\n')\n",
    "\n",
    "print(player1.name, player1.age)\n",
    "print(player2.name, player2.age, '\\n')\n",
    "\n",
    "print(player1.run())"
   ]
  },
  {
   "cell_type": "code",
   "execution_count": 40,
   "id": "ad8046af",
   "metadata": {},
   "outputs": [
    {
     "name": "stdout",
     "output_type": "stream",
     "text": [
      "Help on PlayerCharacter in module __main__ object:\n",
      "\n",
      "class PlayerCharacter(builtins.object)\n",
      " |  PlayerCharacter(name, age)\n",
      " |  \n",
      " |  Methods defined here:\n",
      " |  \n",
      " |  __init__(self, name, age)\n",
      " |      Initialize self.  See help(type(self)) for accurate signature.\n",
      " |  \n",
      " |  run(self)\n",
      " |  \n",
      " |  ----------------------------------------------------------------------\n",
      " |  Data descriptors defined here:\n",
      " |  \n",
      " |  __dict__\n",
      " |      dictionary for instance variables (if defined)\n",
      " |  \n",
      " |  __weakref__\n",
      " |      list of weak references to the object (if defined)\n",
      "\n"
     ]
    }
   ],
   "source": [
    "help(player1)"
   ]
  },
  {
   "cell_type": "code",
   "execution_count": 41,
   "id": "bc0b137a",
   "metadata": {},
   "outputs": [
    {
     "name": "stdout",
     "output_type": "stream",
     "text": [
      "Help on built-in function print in module builtins:\n",
      "\n",
      "print(...)\n",
      "    print(value, ..., sep=' ', end='\\n', file=sys.stdout, flush=False)\n",
      "    \n",
      "    Prints the values to a stream, or to sys.stdout by default.\n",
      "    Optional keyword arguments:\n",
      "    file:  a file-like object (stream); defaults to the current sys.stdout.\n",
      "    sep:   string inserted between values, default a space.\n",
      "    end:   string appended after the last value, default a newline.\n",
      "    flush: whether to forcibly flush the stream.\n",
      "\n"
     ]
    }
   ],
   "source": [
    "help(print)"
   ]
  },
  {
   "cell_type": "code",
   "execution_count": 42,
   "id": "3452d738",
   "metadata": {},
   "outputs": [
    {
     "name": "stdout",
     "output_type": "stream",
     "text": [
      "<__main__.PlayerCharacter object at 0x00000241961B29A0> \n",
      "\n",
      "50\n",
      "True\n",
      "True\n"
     ]
    }
   ],
   "source": [
    "class PlayerCharacter:\n",
    "    # Class Object Attribute\n",
    "    membership = True\n",
    "    def __init__(self, name, age):\n",
    "        self.name = name\n",
    "        self.age = age\n",
    "        \n",
    "    def run(self):\n",
    "        print('running....')\n",
    "        return 'done'\n",
    "        \n",
    "player1 = PlayerCharacter('Prabhat', 22)\n",
    "player2 = PlayerCharacter('Tom', 34)\n",
    "player2.attack = 50\n",
    "\n",
    "print(player1,'\\n')\n",
    "\n",
    "print(player2.attack)\n",
    "print(player1.membership)\n",
    "print(player2.membership)"
   ]
  },
  {
   "cell_type": "code",
   "execution_count": 43,
   "id": "b14bae18",
   "metadata": {},
   "outputs": [
    {
     "name": "stdout",
     "output_type": "stream",
     "text": [
      "my name is Prabhat\n",
      "returns shout \n",
      "\n",
      "hello Prabhat\n",
      "returns run\n"
     ]
    }
   ],
   "source": [
    "class PlayerCharacter:\n",
    "    # Class Object Attribute\n",
    "    membership = True\n",
    "    def __init__(self, name, age):\n",
    "        if (self.membership):    \n",
    "            self.name = name\n",
    "            self.age = age\n",
    "        \n",
    "    def shout(self):\n",
    "        print(f'my name is {self.name}')\n",
    "        return 'returns shout'\n",
    "    \n",
    "    def run(self, hello):\n",
    "        print(f'{hello} {self.name}')\n",
    "        return 'returns run'\n",
    "    \n",
    "player1 = PlayerCharacter('Prabhat', 22)\n",
    "player2 = PlayerCharacter('Tom', 34)\n",
    "player2.attack = 50\n",
    "\n",
    "print(player1.shout(),'\\n')\n",
    "\n",
    "print(player1.run('hello'))"
   ]
  },
  {
   "cell_type": "code",
   "execution_count": 44,
   "id": "5464e28b",
   "metadata": {},
   "outputs": [
    {
     "name": "stdout",
     "output_type": "stream",
     "text": [
      "my name is Prabhat and i am 18 years old\n",
      "returns shout\n"
     ]
    }
   ],
   "source": [
    "class PlayerCharacter:\n",
    "    def __init__(self, name='anonymus', age=0):\n",
    "        if (age >= 18):    \n",
    "            self.name = name\n",
    "            self.age = age\n",
    "        \n",
    "    def shout(self):\n",
    "        print(f'my name is {self.name} and i am {self.age} years old')\n",
    "        return 'returns shout'\n",
    "    \n",
    "player1 = PlayerCharacter('Prabhat', 18)\n",
    "player2 = PlayerCharacter('Tom', 17)\n",
    "\n",
    "print(player1.shout())"
   ]
  },
  {
   "cell_type": "code",
   "execution_count": 52,
   "id": "ec7c074f",
   "metadata": {},
   "outputs": [
    {
     "name": "stdout",
     "output_type": "stream",
     "text": [
      "5 \n",
      "\n",
      "7\n"
     ]
    }
   ],
   "source": [
    "class PlayerCharacter:\n",
    "    def __init__(self, name='anonymus', age=0):   \n",
    "            self.name = name\n",
    "            self.age = age\n",
    "        \n",
    "    def shout(self):\n",
    "        print(f'my name is {self.name} and i am {self.age} years old')\n",
    "        return 'returns shout'\n",
    "\n",
    "    @classmethod\n",
    "    def adding_things(cls, num1, num2):\n",
    "        return cls('Teddy', num1 + num2)\n",
    "    \n",
    "    @staticmethod\n",
    "    def adding_static(num1, num2):\n",
    "        return num1 + num2\n",
    "    \n",
    "player1 = PlayerCharacter.adding_things(2,3)\n",
    "print(player1.age,'\\n')\n",
    "\n",
    "print(player1.adding_static(4,3))"
   ]
  },
  {
   "cell_type": "code",
   "execution_count": 55,
   "id": "cfa51750",
   "metadata": {},
   "outputs": [],
   "source": [
    "class NameOfClass():\n",
    "    class_attribute = 'value'\n",
    "    def __init__(self, param1, param2):\n",
    "        self.param1 = param1\n",
    "        self.param2 = param2\n",
    "        \n",
    "    def method(self):\n",
    "        #code\n",
    "        return 'Done'\n",
    "    \n",
    "    @classmethod\n",
    "    #code\n",
    "    def cls_method(cls, param1, param2):\n",
    "        return 'Done'\n",
    "    \n",
    "    @staticmethod\n",
    "    def stc_method(param1, param2):\n",
    "        #code\n",
    "        return 'Done'\n",
    "    \n",
    "# calling"
   ]
  },
  {
   "cell_type": "markdown",
   "id": "879dbe40",
   "metadata": {},
   "source": [
    "#### 4 Pillers of OOP\n",
    "\n",
    "#Encapsulation\n",
    "\n",
    "#s"
   ]
  },
  {
   "cell_type": "markdown",
   "id": "7047dea2",
   "metadata": {},
   "source": [
    "Encapsulation"
   ]
  },
  {
   "cell_type": "code",
   "execution_count": 68,
   "id": "296c20fa",
   "metadata": {},
   "outputs": [
    {
     "name": "stdout",
     "output_type": "stream",
     "text": [
      "My name is Prabhat, and I am 22 years old\n"
     ]
    }
   ],
   "source": [
    "class PlayerChar:\n",
    "    def __init__(self, name, age):\n",
    "        self.name = name\n",
    "        self.age = age\n",
    "        \n",
    "    def speak(self):\n",
    "        print(f'My name is {self.name}, and I am {self.age} years old')\n",
    "        \n",
    "player1 = PlayerChar('Prabhat', 22)\n",
    "\n",
    "player1.speak()"
   ]
  },
  {
   "cell_type": "markdown",
   "id": "7d671dac",
   "metadata": {},
   "source": [
    "Abstraction"
   ]
  },
  {
   "cell_type": "code",
   "execution_count": 88,
   "id": "4dcdfed9",
   "metadata": {},
   "outputs": [
    {
     "name": "stdout",
     "output_type": "stream",
     "text": [
      "My name is Prabhat, and I am 22 years old\n",
      "None\n"
     ]
    }
   ],
   "source": [
    "# private variable\n",
    "class PlayerChar:\n",
    "    def __init__(self, name, age):\n",
    "        self._name = name\n",
    "        self._age = age\n",
    "        \n",
    "    def speak(self):\n",
    "        print(f'My name is {self._name}, and I am {self._age} years old')\n",
    "        \n",
    "player1 = PlayerChar('Prabhat', 22)\n",
    "print(player1.speak())"
   ]
  },
  {
   "cell_type": "markdown",
   "id": "af311aa5",
   "metadata": {},
   "source": [
    "Inheritance"
   ]
  },
  {
   "cell_type": "code",
   "execution_count": 100,
   "id": "eb7c86d4",
   "metadata": {},
   "outputs": [
    {
     "ename": "NameError",
     "evalue": "name 'self' is not defined",
     "output_type": "error",
     "traceback": [
      "\u001b[1;31m---------------------------------------------------------------------------\u001b[0m",
      "\u001b[1;31mNameError\u001b[0m                                 Traceback (most recent call last)",
      "\u001b[1;32m~\\AppData\\Local\\Temp/ipykernel_8900/2210861276.py\u001b[0m in \u001b[0;36m<module>\u001b[1;34m\u001b[0m\n\u001b[0;32m     11\u001b[0m         \u001b[0mprint\u001b[0m\u001b[1;33m(\u001b[0m\u001b[1;34mf'attacking with power of {self.power}'\u001b[0m\u001b[1;33m)\u001b[0m\u001b[1;33m\u001b[0m\u001b[1;33m\u001b[0m\u001b[0m\n\u001b[0;32m     12\u001b[0m \u001b[1;33m\u001b[0m\u001b[0m\n\u001b[1;32m---> 13\u001b[1;33m \u001b[1;32mclass\u001b[0m \u001b[0mArcher\u001b[0m\u001b[1;33m(\u001b[0m\u001b[0mUser\u001b[0m\u001b[1;33m)\u001b[0m\u001b[1;33m:\u001b[0m\u001b[1;33m\u001b[0m\u001b[1;33m\u001b[0m\u001b[0m\n\u001b[0m\u001b[0;32m     14\u001b[0m     \u001b[1;32mdef\u001b[0m \u001b[0m__init__\u001b[0m\u001b[1;33m(\u001b[0m\u001b[0mself\u001b[0m\u001b[1;33m,\u001b[0m \u001b[0mname\u001b[0m\u001b[1;33m,\u001b[0m \u001b[0mnum_arrows\u001b[0m\u001b[1;33m)\u001b[0m\u001b[1;33m:\u001b[0m\u001b[1;33m\u001b[0m\u001b[1;33m\u001b[0m\u001b[0m\n\u001b[0;32m     15\u001b[0m         \u001b[0mself\u001b[0m\u001b[1;33m.\u001b[0m\u001b[0mname\u001b[0m \u001b[1;33m=\u001b[0m \u001b[0mname\u001b[0m\u001b[1;33m\u001b[0m\u001b[1;33m\u001b[0m\u001b[0m\n",
      "\u001b[1;32m~\\AppData\\Local\\Temp/ipykernel_8900/2210861276.py\u001b[0m in \u001b[0;36mArcher\u001b[1;34m()\u001b[0m\n\u001b[0;32m     15\u001b[0m         \u001b[0mself\u001b[0m\u001b[1;33m.\u001b[0m\u001b[0mname\u001b[0m \u001b[1;33m=\u001b[0m \u001b[0mname\u001b[0m\u001b[1;33m\u001b[0m\u001b[1;33m\u001b[0m\u001b[0m\n\u001b[0;32m     16\u001b[0m         \u001b[0mself\u001b[0m\u001b[1;33m.\u001b[0m\u001b[0mnum_arrows\u001b[0m \u001b[1;33m=\u001b[0m \u001b[0mnum_arrows\u001b[0m\u001b[1;33m\u001b[0m\u001b[1;33m\u001b[0m\u001b[0m\n\u001b[1;32m---> 17\u001b[1;33m     \u001b[0mprint\u001b[0m\u001b[1;33m(\u001b[0m\u001b[1;34mf'attacking with power of arrows: arrows left - {self.num_arrows}'\u001b[0m\u001b[1;33m)\u001b[0m\u001b[1;33m\u001b[0m\u001b[1;33m\u001b[0m\u001b[0m\n\u001b[0m\u001b[0;32m     18\u001b[0m \u001b[1;33m\u001b[0m\u001b[0m\n\u001b[0;32m     19\u001b[0m \u001b[0mwizard1\u001b[0m \u001b[1;33m=\u001b[0m \u001b[0mWizard\u001b[0m\u001b[1;33m(\u001b[0m\u001b[1;33m)\u001b[0m\u001b[1;33m\u001b[0m\u001b[1;33m\u001b[0m\u001b[0m\n",
      "\u001b[1;31mNameError\u001b[0m: name 'self' is not defined"
     ]
    }
   ],
   "source": [
    "class User():\n",
    "    def sign_in(self):\n",
    "        print('logged in')\n",
    "        \n",
    "class Wizard(User):\n",
    "    def __init__(self, name, power):\n",
    "        self.name = name\n",
    "        self.power = power\n",
    "        \n",
    "    def attack():\n",
    "        print(f'attacking with power of {self.power}')\n",
    "\n",
    "class Archer(User):\n",
    "    def __init__(self, name, num_arrows):\n",
    "        self.name = name\n",
    "        self.num_arrows = num_arrows\n",
    "    \n",
    "    def attack():\n",
    "        print(f'attacking with power of arrows: arrows left - {self.num_arrows}')\n",
    "    \n",
    "\n",
    "wizard1 = Wizard()\n",
    "wizard1.sign_in()"
   ]
  }
 ],
 "metadata": {
  "kernelspec": {
   "display_name": "Python 3 (ipykernel)",
   "language": "python",
   "name": "python3"
  },
  "language_info": {
   "codemirror_mode": {
    "name": "ipython",
    "version": 3
   },
   "file_extension": ".py",
   "mimetype": "text/x-python",
   "name": "python",
   "nbconvert_exporter": "python",
   "pygments_lexer": "ipython3",
   "version": "3.9.7"
  }
 },
 "nbformat": 4,
 "nbformat_minor": 5
}
