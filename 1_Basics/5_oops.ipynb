{
 "cells": [
  {
   "cell_type": "markdown",
   "id": "3f3151e7",
   "metadata": {},
   "source": [
    "### Object Oriented Programming"
   ]
  },
  {
   "cell_type": "code",
   "execution_count": 189,
   "id": "62092523",
   "metadata": {},
   "outputs": [
    {
     "name": "stdout",
     "output_type": "stream",
     "text": [
      "<class 'NoneType'>\n",
      "<class 'bool'>\n",
      "<class 'int'>\n",
      "<class 'float'>\n",
      "<class 'str'>\n",
      "<class 'list'>\n",
      "<class 'tuple'>\n",
      "<class 'dict'>\n",
      "<class 'set'> \n",
      "\n",
      "<class '__main__.BigObject'>\n"
     ]
    }
   ],
   "source": [
    "# OOP\n",
    "\n",
    "class BigObject:    # class\n",
    "    pass\n",
    "\n",
    "obj1 = BigObject()\n",
    "\n",
    "print(type(None))\n",
    "print(type(True))\n",
    "print(type(5))\n",
    "print(type(5.5))\n",
    "print(type('hi'))\n",
    "print(type([]))\n",
    "print(type(()))\n",
    "print(type({}))\n",
    "print(type(set()),'\\n')\n",
    "\n",
    "print(type(obj1))"
   ]
  },
  {
   "cell_type": "code",
   "execution_count": 190,
   "id": "075e3e83",
   "metadata": {},
   "outputs": [
    {
     "name": "stdout",
     "output_type": "stream",
     "text": [
      "<__main__.PlayerCharacter object at 0x0000024195E6F0A0> \n",
      "\n",
      "Prabhat\n",
      "Tom\n"
     ]
    }
   ],
   "source": [
    "class PlayerCharacter:\n",
    "    def __init__(self, name):\n",
    "        self.name = name\n",
    "        \n",
    "    def run(self):\n",
    "        print('run')\n",
    "        \n",
    "player1 = PlayerCharacter('Prabhat')\n",
    "player2 = PlayerCharacter('Tom')\n",
    "\n",
    "print(player1,'\\n')\n",
    "\n",
    "print(player1.name)\n",
    "print(player2.name)"
   ]
  },
  {
   "cell_type": "code",
   "execution_count": 191,
   "id": "74425f1f",
   "metadata": {},
   "outputs": [
    {
     "name": "stdout",
     "output_type": "stream",
     "text": [
      "<__main__.PlayerCharacter object at 0x0000024195E779D0> \n",
      "\n",
      "Prabhat 22\n",
      "Tom 34 \n",
      "\n",
      "run\n",
      "None\n"
     ]
    }
   ],
   "source": [
    "class PlayerCharacter:\n",
    "    def __init__(self, name, age):\n",
    "        self.name = name\n",
    "        self.age = age\n",
    "        \n",
    "    def run(self):\n",
    "        print('run')\n",
    "        \n",
    "player1 = PlayerCharacter('Prabhat', 22)\n",
    "player2 = PlayerCharacter('Tom', 34)\n",
    "\n",
    "print(player1,'\\n')\n",
    "\n",
    "print(player1.name, player1.age)\n",
    "print(player2.name, player2.age, '\\n')\n",
    "\n",
    "print(player1.run())"
   ]
  },
  {
   "cell_type": "code",
   "execution_count": 192,
   "id": "ad8046af",
   "metadata": {},
   "outputs": [
    {
     "name": "stdout",
     "output_type": "stream",
     "text": [
      "Help on PlayerCharacter in module __main__ object:\n",
      "\n",
      "class PlayerCharacter(builtins.object)\n",
      " |  PlayerCharacter(name, age)\n",
      " |  \n",
      " |  Methods defined here:\n",
      " |  \n",
      " |  __init__(self, name, age)\n",
      " |      Initialize self.  See help(type(self)) for accurate signature.\n",
      " |  \n",
      " |  run(self)\n",
      " |  \n",
      " |  ----------------------------------------------------------------------\n",
      " |  Data descriptors defined here:\n",
      " |  \n",
      " |  __dict__\n",
      " |      dictionary for instance variables (if defined)\n",
      " |  \n",
      " |  __weakref__\n",
      " |      list of weak references to the object (if defined)\n",
      "\n"
     ]
    }
   ],
   "source": [
    "help(player1)"
   ]
  },
  {
   "cell_type": "code",
   "execution_count": 193,
   "id": "bc0b137a",
   "metadata": {},
   "outputs": [
    {
     "name": "stdout",
     "output_type": "stream",
     "text": [
      "Help on built-in function print in module builtins:\n",
      "\n",
      "print(...)\n",
      "    print(value, ..., sep=' ', end='\\n', file=sys.stdout, flush=False)\n",
      "    \n",
      "    Prints the values to a stream, or to sys.stdout by default.\n",
      "    Optional keyword arguments:\n",
      "    file:  a file-like object (stream); defaults to the current sys.stdout.\n",
      "    sep:   string inserted between values, default a space.\n",
      "    end:   string appended after the last value, default a newline.\n",
      "    flush: whether to forcibly flush the stream.\n",
      "\n"
     ]
    }
   ],
   "source": [
    "help(print)"
   ]
  },
  {
   "cell_type": "code",
   "execution_count": 194,
   "id": "3452d738",
   "metadata": {},
   "outputs": [
    {
     "name": "stdout",
     "output_type": "stream",
     "text": [
      "<__main__.PlayerCharacter object at 0x0000024195E533D0> \n",
      "\n",
      "50\n",
      "True\n",
      "True\n"
     ]
    }
   ],
   "source": [
    "class PlayerCharacter:\n",
    "    # Class Object Attribute\n",
    "    membership = True\n",
    "    def __init__(self, name, age):\n",
    "        self.name = name\n",
    "        self.age = age\n",
    "        \n",
    "    def run(self):\n",
    "        print('running....')\n",
    "        return 'done'\n",
    "        \n",
    "player1 = PlayerCharacter('Prabhat', 22)\n",
    "player2 = PlayerCharacter('Tom', 34)\n",
    "player2.attack = 50\n",
    "\n",
    "print(player1,'\\n')\n",
    "\n",
    "print(player2.attack)\n",
    "print(player1.membership)\n",
    "print(player2.membership)"
   ]
  },
  {
   "cell_type": "code",
   "execution_count": 195,
   "id": "b14bae18",
   "metadata": {},
   "outputs": [
    {
     "name": "stdout",
     "output_type": "stream",
     "text": [
      "my name is Prabhat\n",
      "returns shout \n",
      "\n",
      "hello Prabhat\n",
      "returns run\n"
     ]
    }
   ],
   "source": [
    "class PlayerCharacter:\n",
    "    # Class Object Attribute\n",
    "    membership = True\n",
    "    def __init__(self, name, age):\n",
    "        if (self.membership):    \n",
    "            self.name = name\n",
    "            self.age = age\n",
    "        \n",
    "    def shout(self):\n",
    "        print(f'my name is {self.name}')\n",
    "        return 'returns shout'\n",
    "    \n",
    "    def run(self, hello):\n",
    "        print(f'{hello} {self.name}')\n",
    "        return 'returns run'\n",
    "    \n",
    "player1 = PlayerCharacter('Prabhat', 22)\n",
    "player2 = PlayerCharacter('Tom', 34)\n",
    "player2.attack = 50\n",
    "\n",
    "print(player1.shout(),'\\n')\n",
    "\n",
    "print(player1.run('hello'))"
   ]
  },
  {
   "cell_type": "code",
   "execution_count": 196,
   "id": "5464e28b",
   "metadata": {},
   "outputs": [
    {
     "name": "stdout",
     "output_type": "stream",
     "text": [
      "my name is Prabhat and i am 18 years old\n",
      "returns shout\n"
     ]
    }
   ],
   "source": [
    "class PlayerCharacter:\n",
    "    def __init__(self, name='anonymus', age=0):\n",
    "        if (age >= 18):    \n",
    "            self.name = name\n",
    "            self.age = age\n",
    "        \n",
    "    def shout(self):\n",
    "        print(f'my name is {self.name} and i am {self.age} years old')\n",
    "        return 'returns shout'\n",
    "    \n",
    "player1 = PlayerCharacter('Prabhat', 18)\n",
    "player2 = PlayerCharacter('Tom', 17)\n",
    "\n",
    "print(player1.shout())"
   ]
  },
  {
   "cell_type": "code",
   "execution_count": 197,
   "id": "ec7c074f",
   "metadata": {},
   "outputs": [
    {
     "name": "stdout",
     "output_type": "stream",
     "text": [
      "5 \n",
      "\n",
      "7\n"
     ]
    }
   ],
   "source": [
    "class PlayerCharacter:\n",
    "    def __init__(self, name='anonymus', age=0):   \n",
    "            self.name = name\n",
    "            self.age = age\n",
    "        \n",
    "    def shout(self):\n",
    "        print(f'my name is {self.name} and i am {self.age} years old')\n",
    "        return 'returns shout'\n",
    "\n",
    "    @classmethod\n",
    "    def adding_things(cls, num1, num2):\n",
    "        return cls('Teddy', num1 + num2)\n",
    "    \n",
    "    @staticmethod\n",
    "    def adding_static(num1, num2):\n",
    "        return num1 + num2\n",
    "    \n",
    "player1 = PlayerCharacter.adding_things(2,3)\n",
    "print(player1.age,'\\n')\n",
    "\n",
    "print(player1.adding_static(4,3))"
   ]
  },
  {
   "cell_type": "code",
   "execution_count": 198,
   "id": "cfa51750",
   "metadata": {},
   "outputs": [],
   "source": [
    "class NameOfClass():\n",
    "    class_attribute = 'value'\n",
    "    def __init__(self, param1, param2):\n",
    "        self.param1 = param1\n",
    "        self.param2 = param2\n",
    "        \n",
    "    def method(self):\n",
    "        #code\n",
    "        return 'Done'\n",
    "    \n",
    "    @classmethod\n",
    "    #code\n",
    "    def cls_method(cls, param1, param2):\n",
    "        return 'Done'\n",
    "    \n",
    "    @staticmethod\n",
    "    def stc_method(param1, param2):\n",
    "        #code\n",
    "        return 'Done'\n",
    "    \n",
    "# calling"
   ]
  },
  {
   "cell_type": "markdown",
   "id": "a10e79e3",
   "metadata": {},
   "source": [
    "#### 4 Pillers of OOP"
   ]
  },
  {
   "cell_type": "markdown",
   "id": "74a88c5a",
   "metadata": {},
   "source": [
    "##### Encapsulation"
   ]
  },
  {
   "cell_type": "code",
   "execution_count": 199,
   "id": "c95bf20c",
   "metadata": {},
   "outputs": [
    {
     "name": "stdout",
     "output_type": "stream",
     "text": [
      "My name is Prabhat, and I am 22 years old\n"
     ]
    }
   ],
   "source": [
    "class PlayerChar:\n",
    "    def __init__(self, name, age):\n",
    "        self.name = name\n",
    "        self.age = age\n",
    "        \n",
    "    def speak(self):\n",
    "        print(f'My name is {self.name}, and I am {self.age} years old')\n",
    "        \n",
    "player1 = PlayerChar('Prabhat', 22)\n",
    "\n",
    "player1.speak()"
   ]
  },
  {
   "cell_type": "markdown",
   "id": "d11f052f",
   "metadata": {},
   "source": [
    "##### Abstraction"
   ]
  },
  {
   "cell_type": "code",
   "execution_count": 200,
   "id": "d7216835",
   "metadata": {},
   "outputs": [
    {
     "name": "stdout",
     "output_type": "stream",
     "text": [
      "My name is Prabhat, and I am 22 years old\n",
      "None\n"
     ]
    }
   ],
   "source": [
    "# private variable\n",
    "class PlayerChar:\n",
    "    def __init__(self, name, age):\n",
    "        self._name = name\n",
    "        self._age = age\n",
    "        \n",
    "    def speak(self):\n",
    "        print(f'My name is {self._name}, and I am {self._age} years old')\n",
    "        \n",
    "player1 = PlayerChar('Prabhat', 22)\n",
    "print(player1.speak())"
   ]
  },
  {
   "cell_type": "markdown",
   "id": "49142a2d",
   "metadata": {},
   "source": [
    "##### Inheritance"
   ]
  },
  {
   "cell_type": "code",
   "execution_count": 201,
   "id": "47529269",
   "metadata": {},
   "outputs": [
    {
     "name": "stdout",
     "output_type": "stream",
     "text": [
      "attacking with power of Fire\n",
      "attacking with arrows: arrows left - 32\n"
     ]
    }
   ],
   "source": [
    "class User():\n",
    "    def sign_in(self):\n",
    "        print('logged in')\n",
    "        \n",
    "class Wizard(User):    # sub-classes\n",
    "    def __init__(self, name, power):\n",
    "        self.name = name\n",
    "        self.power = power\n",
    "        \n",
    "    def attack(self):\n",
    "        print(f'attacking with power of {self.power}')\n",
    "\n",
    "class Archer(User):    # sub-classes\n",
    "    def __init__(self, name, num_arrows):\n",
    "        self.name = name\n",
    "        self.num_arrows = num_arrows\n",
    "    \n",
    "    def attack(self):\n",
    "        print(f'attacking with arrows: arrows left - {self.num_arrows}')\n",
    "        \n",
    "\n",
    "wizard1 = Wizard('Merlin', 'Fire')\n",
    "archer1 = Archer('John', 32)\n",
    "\n",
    "wizard1.attack()\n",
    "archer1.attack()"
   ]
  },
  {
   "cell_type": "code",
   "execution_count": 202,
   "id": "9ae19f44",
   "metadata": {
    "scrolled": true
   },
   "outputs": [
    {
     "name": "stdout",
     "output_type": "stream",
     "text": [
      "True\n",
      "True\n",
      "True \n",
      "\n",
      "True\n",
      "True\n",
      "True \n",
      "\n",
      "False\n",
      "False\n"
     ]
    }
   ],
   "source": [
    "class User():\n",
    "    def sign_in(self):\n",
    "        print('logged in')\n",
    "        \n",
    "class Wizard(User):    # sub-classes\n",
    "    def __init__(self, name, power):\n",
    "        self.name = name\n",
    "        self.power = power\n",
    "        \n",
    "    def attack(self):\n",
    "        print(f'attacking with power of {self.power}')\n",
    "\n",
    "class Archer(User):    # sub-classes\n",
    "    def __init__(self, name, num_arrows):\n",
    "        self.name = name\n",
    "        self.num_arrows = num_arrows\n",
    "    \n",
    "    def attack(self):\n",
    "        print(f'attacking with arrows: arrows left - {self.num_arrows}')\n",
    "        \n",
    "wizard1 = Wizard('Merlin', 'Fire')\n",
    "archer1 = Archer('John', 32)\n",
    "\n",
    "print(isinstance(wizard1, Wizard))\n",
    "print(isinstance(wizard1, User))\n",
    "print(isinstance(wizard1, object),'\\n')\n",
    "\n",
    "print(isinstance(archer1, Archer))\n",
    "print(isinstance(archer1, User))\n",
    "print(isinstance(archer1, object),'\\n')\n",
    "\n",
    "print(isinstance(archer1, Wizard))\n",
    "print(isinstance(wizard1, Archer))"
   ]
  },
  {
   "cell_type": "markdown",
   "id": "448ea954",
   "metadata": {},
   "source": [
    "##### Polymorphism"
   ]
  },
  {
   "cell_type": "code",
   "execution_count": 203,
   "id": "fe21c280",
   "metadata": {},
   "outputs": [
    {
     "name": "stdout",
     "output_type": "stream",
     "text": [
      "attacking with power of Fire\n",
      "attacking with arrows: arrows left - 32\n"
     ]
    }
   ],
   "source": [
    "class User():\n",
    "    def sign_in(self):\n",
    "        print('logged in')\n",
    "        \n",
    "class Wizard(User):    # sub-classes\n",
    "    def __init__(self, name, power):\n",
    "        self.name = name\n",
    "        self.power = power\n",
    "        \n",
    "    def attack(self):\n",
    "        print(f'attacking with power of {self.power}')\n",
    "\n",
    "class Archer(User):    # sub-classes\n",
    "    def __init__(self, name, num_arrows):\n",
    "        self.name = name\n",
    "        self.num_arrows = num_arrows\n",
    "    \n",
    "    def attack(self):\n",
    "        print(f'attacking with arrows: arrows left - {self.num_arrows}')\n",
    "        \n",
    "wizard1 = Wizard('Merlin', 'Fire')\n",
    "archer1 = Archer('John', 32)\n",
    "\n",
    "# def player_attack(char):\n",
    "#     char.attack()    \n",
    "# player_attack(wizard1)\n",
    "# player_attack(archer1, '\\n')\n",
    "\n",
    "for char in [wizard1, archer1]:\n",
    "    char.attack()"
   ]
  },
  {
   "cell_type": "code",
   "execution_count": 204,
   "id": "f660a122",
   "metadata": {},
   "outputs": [
    {
     "name": "stdout",
     "output_type": "stream",
     "text": [
      "Do nothing\n",
      "attacking with power of Fire\n",
      "None\n"
     ]
    }
   ],
   "source": [
    "class User():\n",
    "    def sign_in(self):\n",
    "        print('logged in')\n",
    "        \n",
    "    def attak(self):\n",
    "        print('Do nothing')\n",
    "        \n",
    "class Wizard(User):    # sub-classes\n",
    "    def __init__(self, name, power):\n",
    "        self.name = name\n",
    "        self.power = power\n",
    "        \n",
    "    def attack(self):\n",
    "        User.attak(self)\n",
    "        print(f'attacking with power of {self.power}')\n",
    "\n",
    "class Archer(User):    # sub-classes\n",
    "    def __init__(self, name, num_arrows):\n",
    "        self.name = name\n",
    "        self.num_arrows = num_arrows\n",
    "    \n",
    "    def attack(self):\n",
    "        print(f'attacking with arrows: arrows left - {self.num_arrows}')\n",
    "        \n",
    "wizard1 = Wizard('Merlin', 'Fire')\n",
    "archer1 = Archer('John', 32)\n",
    "\n",
    "print(wizard1.attack())"
   ]
  },
  {
   "cell_type": "markdown",
   "id": "822fbcdf",
   "metadata": {},
   "source": [
    "#### super()"
   ]
  },
  {
   "cell_type": "code",
   "execution_count": 205,
   "id": "986bc745",
   "metadata": {},
   "outputs": [
    {
     "name": "stdout",
     "output_type": "stream",
     "text": [
      "merlin@gmail.com\n"
     ]
    }
   ],
   "source": [
    "class User():\n",
    "    def __init__(self, email):\n",
    "        self.email = email\n",
    "        \n",
    "    def sign_in(self):\n",
    "        print('logged in')\n",
    "        \n",
    "class Wizard(User):    # sub-classes\n",
    "    def __init__(self, name, power, email):\n",
    "#         User.__init__(self, email)\n",
    "        super().__init__(email)\n",
    "        self.name = name\n",
    "        self.power = power\n",
    "        \n",
    "    def attack(self):\n",
    "        print(f'attacking with power of {self.power}')\n",
    "        \n",
    "wizard1 = Wizard('Merlin', 'Fire', 'merlin@gmail.com')\n",
    "\n",
    "print(wizard1.email)"
   ]
  },
  {
   "cell_type": "markdown",
   "id": "1bad5a40",
   "metadata": {},
   "source": [
    "#### Introspection"
   ]
  },
  {
   "cell_type": "code",
   "execution_count": 206,
   "id": "5fa9ccc7",
   "metadata": {},
   "outputs": [
    {
     "name": "stdout",
     "output_type": "stream",
     "text": [
      "['__class__', '__delattr__', '__dict__', '__dir__', '__doc__', '__eq__', '__format__', '__ge__', '__getattribute__', '__gt__', '__hash__', '__init__', '__init_subclass__', '__le__', '__lt__', '__module__', '__ne__', '__new__', '__reduce__', '__reduce_ex__', '__repr__', '__setattr__', '__sizeof__', '__str__', '__subclasshook__', '__weakref__', 'attack', 'email', 'name', 'power', 'sign_in']\n"
     ]
    }
   ],
   "source": [
    "print(dir(wizard1))"
   ]
  },
  {
   "cell_type": "markdown",
   "id": "d75972e0",
   "metadata": {},
   "source": [
    "#### Dunder Methods\n",
    "\n",
    "dunder methods starts with double _ and ends with double _"
   ]
  },
  {
   "cell_type": "code",
   "execution_count": 207,
   "id": "c46ab554",
   "metadata": {},
   "outputs": [
    {
     "name": "stdout",
     "output_type": "stream",
     "text": [
      "deleted\n",
      "<__main__.Toy object at 0x0000024195E91550>\n",
      "<__main__.Toy object at 0x0000024195E91550>\n"
     ]
    }
   ],
   "source": [
    "class Toy():\n",
    "    def __init__(self, color, age):\n",
    "        self.color = color\n",
    "        self.age = age\n",
    "        \n",
    "action_figure = Toy('red', 0)\n",
    "\n",
    "print(action_figure.__str__())\n",
    "print(str(action_figure))"
   ]
  },
  {
   "cell_type": "code",
   "execution_count": 208,
   "id": "ac2fcfb4",
   "metadata": {},
   "outputs": [],
   "source": [
    "# class Toy():\n",
    "#     def __init__(self, color, age):\n",
    "#         self.color = color\n",
    "#         self.age = age\n",
    "        \n",
    "#     def __str__(self):\n",
    "#         return f'{self.color}'\n",
    "        \n",
    "#     def __len__(self):\n",
    "#         return 5\n",
    "    \n",
    "#     def __del__(self):\n",
    "#         print('deleted')\n",
    "        \n",
    "#     def __call__(self):\n",
    "#         return 'Yes!!!!'\n",
    "        \n",
    "# action_figure = Toy('red', 0)\n",
    "# print(action_figure.__str__())\n",
    "# print(str(action_figure))\n",
    "# print(len(action_figure))\n",
    "# print((action_figure))\n",
    "\n",
    "# action_figure()"
   ]
  },
  {
   "cell_type": "code",
   "execution_count": 217,
   "id": "61ff0696",
   "metadata": {},
   "outputs": [
    {
     "name": "stdout",
     "output_type": "stream",
     "text": [
      "1000\n",
      "5 \n",
      "\n",
      "True\n",
      "True\n"
     ]
    }
   ],
   "source": [
    "class SuperList(list):\n",
    "    def __len__(self):\n",
    "        return 1000\n",
    "    \n",
    "super_list1 = SuperList()\n",
    "\n",
    "print(len(super_list1))\n",
    "super_list1.append(5)\n",
    "\n",
    "print(super_list1[0],'\\n')\n",
    "\n",
    "print(issubclass(SuperList, list))\n",
    "print(issubclass(list, object))"
   ]
  },
  {
   "cell_type": "markdown",
   "id": "7cf3d4e2",
   "metadata": {},
   "source": [
    "multiple inheritance"
   ]
  },
  {
   "cell_type": "code",
   "execution_count": 242,
   "id": "a608f29c",
   "metadata": {},
   "outputs": [
    {
     "name": "stdout",
     "output_type": "stream",
     "text": [
      "logged in\n",
      "None \n",
      "\n",
      "ran really fast\n",
      "None \n",
      "\n",
      "attacking with arrows: arrows left - 100\n",
      "None \n",
      "\n",
      "attacking with power of 50\n",
      "None\n"
     ]
    }
   ],
   "source": [
    "class User():\n",
    "    def sign_in(self):\n",
    "        print('logged in')\n",
    "        \n",
    "class Wizard(User):    # sub-classes\n",
    "    def __init__(self, name, power):\n",
    "        self.name = name\n",
    "        self.power = power\n",
    "        \n",
    "    def attack(self):\n",
    "        print(f'attacking with power of {self.power}')\n",
    "\n",
    "class Archer(User):    # sub-classes\n",
    "    def __init__(self, name, num_arrows):\n",
    "        self.name = name\n",
    "        self.num_arrows = num_arrows\n",
    "    \n",
    "    def check_arrows(self):\n",
    "        print(f'attacking with arrows: arrows left - {self.num_arrows}')\n",
    "        \n",
    "    def run(self):\n",
    "        print('ran really fast')\n",
    "\n",
    "class HybridBorg(Wizard, Archer):\n",
    "    def __init__(self, name, power, arrows):\n",
    "        Archer.__init__(self, name, arrows)\n",
    "        Wizard.__init__(self, name, power)\n",
    "    \n",
    "hb1 = HybridBorg('Prabhat', 50, 100)\n",
    "\n",
    "print(hb1.sign_in(),'\\n')\n",
    "print(hb1.run(),'\\n')\n",
    "print(hb1.check_arrows(),'\\n')\n",
    "print(hb1.attack())"
   ]
  },
  {
   "cell_type": "markdown",
   "id": "1906f5b5",
   "metadata": {},
   "source": [
    "#### MRO -> Method Resolution Order"
   ]
  },
  {
   "cell_type": "code",
   "execution_count": 247,
   "id": "db6c4a9c",
   "metadata": {},
   "outputs": [
    {
     "name": "stdout",
     "output_type": "stream",
     "text": [
      "1\n",
      "[<class '__main__.D'>, <class '__main__.B'>, <class '__main__.C'>, <class '__main__.A'>, <class 'object'>]\n"
     ]
    },
    {
     "data": {
      "text/plain": [
       "<slot wrapper '__str__' of 'object' objects>"
      ]
     },
     "execution_count": 247,
     "metadata": {},
     "output_type": "execute_result"
    }
   ],
   "source": [
    "# Example:\n",
    "\n",
    "#         A\n",
    "#      /      \\\n",
    "#    /         \\\n",
    "#   B           C\n",
    "#    \\         /\n",
    "#     \\      /\n",
    "#        D\n",
    "\n",
    "class A:\n",
    "    num = 10\n",
    "    \n",
    "class B(A):\n",
    "    pass\n",
    "\n",
    "class C(A):\n",
    "    num = 1\n",
    "\n",
    "class D(B, C):\n",
    "    pass\n",
    "\n",
    "print(D.num)\n",
    "\n",
    "print(D.mro())\n",
    "D.__str__"
   ]
  },
  {
   "cell_type": "code",
   "execution_count": 249,
   "id": "a01201bc",
   "metadata": {},
   "outputs": [
    {
     "data": {
      "text/plain": [
       "[__main__.M,\n",
       " __main__.B,\n",
       " __main__.A,\n",
       " __main__.X,\n",
       " __main__.Y,\n",
       " __main__.Z,\n",
       " object]"
      ]
     },
     "execution_count": 249,
     "metadata": {},
     "output_type": "execute_result"
    }
   ],
   "source": [
    "class X:pass\n",
    "class Y:pass\n",
    "class Z:pass\n",
    "class A(X,Y):pass\n",
    "class B(Y,Z):pass\n",
    "class M(B,A,Z):pass\n",
    "\n",
    "M.mro()"
   ]
  }
 ],
 "metadata": {
  "kernelspec": {
   "display_name": "Python 3 (ipykernel)",
   "language": "python",
   "name": "python3"
  },
  "language_info": {
   "codemirror_mode": {
    "name": "ipython",
    "version": 3
   },
   "file_extension": ".py",
   "mimetype": "text/x-python",
   "name": "python",
   "nbconvert_exporter": "python",
   "pygments_lexer": "ipython3",
   "version": "3.9.7"
  },
  "toc": {
   "base_numbering": 1,
   "nav_menu": {},
   "number_sections": false,
   "sideBar": true,
   "skip_h1_title": false,
   "title_cell": "Table of Contents",
   "title_sidebar": "Contents",
   "toc_cell": false,
   "toc_position": {
    "height": "calc(100% - 180px)",
    "left": "10px",
    "top": "150px",
    "width": "273.188px"
   },
   "toc_section_display": true,
   "toc_window_display": true
  }
 },
 "nbformat": 4,
 "nbformat_minor": 5
}
