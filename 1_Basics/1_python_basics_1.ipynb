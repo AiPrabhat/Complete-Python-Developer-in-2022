{
 "cells": [
  {
   "cell_type": "markdown",
   "id": "e4187675",
   "metadata": {},
   "source": [
    "#### Print Hello World"
   ]
  },
  {
   "cell_type": "code",
   "execution_count": 39,
   "id": "5a89823b",
   "metadata": {},
   "outputs": [
    {
     "name": "stdout",
     "output_type": "stream",
     "text": [
      "Hello World\n",
      "2\n",
      "34.45\n",
      "True\n",
      "6\n"
     ]
    }
   ],
   "source": [
    "print(\"Hello World\")\n",
    "print(2)\n",
    "print(34.45)\n",
    "print(True)\n",
    "print(2+4)"
   ]
  },
  {
   "cell_type": "markdown",
   "id": "0c1e5929",
   "metadata": {},
   "source": [
    "#### comments"
   ]
  },
  {
   "cell_type": "code",
   "execution_count": 40,
   "id": "d9892992",
   "metadata": {},
   "outputs": [],
   "source": [
    "### Comments\n",
    "# Comments start with #\n",
    "# This is a example of comment"
   ]
  },
  {
   "cell_type": "markdown",
   "id": "02466e0b",
   "metadata": {},
   "source": [
    "#### int and float"
   ]
  },
  {
   "cell_type": "code",
   "execution_count": 130,
   "id": "c41954af",
   "metadata": {},
   "outputs": [
    {
     "name": "stdout",
     "output_type": "stream",
     "text": [
      "6\n",
      "<class 'int'>\n",
      "-2\n",
      "<class 'int'>\n",
      "8\n",
      "<class 'int'>\n",
      "0.5\n",
      "<class 'float'>\n",
      "0\n",
      "<class 'int'>\n",
      "10.34\n",
      "<class 'float'>\n"
     ]
    }
   ],
   "source": [
    "print(2+4)\n",
    "print(type(2+4))\n",
    "\n",
    "print(2-4)\n",
    "print(type(2-4))\n",
    "\n",
    "print(2*4)\n",
    "print(type(2*4))\n",
    "\n",
    "print(2/4)\n",
    "print(type(2/4))\n",
    "\n",
    "print(0)\n",
    "print(type(0))\n",
    "\n",
    "print(10.34)\n",
    "print(type(10.34))"
   ]
  },
  {
   "cell_type": "code",
   "execution_count": 131,
   "id": "bdc25ab4",
   "metadata": {},
   "outputs": [
    {
     "name": "stdout",
     "output_type": "stream",
     "text": [
      "3\n",
      "2 \n",
      "\n",
      "20\n",
      "20\n"
     ]
    }
   ],
   "source": [
    "#Math functions\n",
    "print(round(2.6))\n",
    "print(round(2.4),'\\n')\n",
    "\n",
    "print(abs(-20))\n",
    "print(abs(20))"
   ]
  },
  {
   "cell_type": "markdown",
   "id": "980ca346",
   "metadata": {},
   "source": [
    "#### Operator Precedence "
   ]
  },
  {
   "cell_type": "code",
   "execution_count": 132,
   "id": "048063b4",
   "metadata": {},
   "outputs": [
    {
     "name": "stdout",
     "output_type": "stream",
     "text": [
      "21\n"
     ]
    }
   ],
   "source": [
    "print((20 - 3) + 2 ** 2)\n",
    "\n",
    "# Sequence\n",
    "# ()\n",
    "# **\n",
    "# * /\n",
    "# + -"
   ]
  },
  {
   "cell_type": "markdown",
   "id": "6f8d42f7",
   "metadata": {},
   "source": [
    "#### bin() -> binary"
   ]
  },
  {
   "cell_type": "code",
   "execution_count": 133,
   "id": "23d8d880",
   "metadata": {},
   "outputs": [
    {
     "name": "stdout",
     "output_type": "stream",
     "text": [
      "0b101\n",
      "5\n"
     ]
    }
   ],
   "source": [
    "print(bin(5))\n",
    "print(int('0b101', 2))"
   ]
  },
  {
   "cell_type": "markdown",
   "id": "1667bc19",
   "metadata": {},
   "source": [
    "#### Variables"
   ]
  },
  {
   "cell_type": "code",
   "execution_count": 182,
   "id": "61515d42",
   "metadata": {},
   "outputs": [
    {
     "name": "stdout",
     "output_type": "stream",
     "text": [
      "Prabhat\n",
      "22\n",
      "True\n"
     ]
    }
   ],
   "source": [
    "# Variable name - Must start with character\n",
    "    # user\n",
    "    # user_id\n",
    "    # _user_id\n",
    "    # user2_id4\n",
    "\n",
    "_name = \"Prabhat\"\n",
    "user_age = 22\n",
    "python3 = True\n",
    "\n",
    "print(_name)\n",
    "print(user_age)\n",
    "print(python3)"
   ]
  },
  {
   "cell_type": "code",
   "execution_count": 135,
   "id": "8f0bddde",
   "metadata": {},
   "outputs": [
    {
     "name": "stdout",
     "output_type": "stream",
     "text": [
      "190\n",
      "47.5\n",
      "47.5\n"
     ]
    }
   ],
   "source": [
    "iq = 190\n",
    "user1_age = iq/4\n",
    "\n",
    "print(iq)\n",
    "print(user1_age)\n",
    "\n",
    "a = user1_age\n",
    "print(a)"
   ]
  },
  {
   "cell_type": "markdown",
   "id": "05694e56",
   "metadata": {},
   "source": [
    "Constants - should never be change"
   ]
  },
  {
   "cell_type": "code",
   "execution_count": 136,
   "id": "edfc88e3",
   "metadata": {},
   "outputs": [
    {
     "name": "stdout",
     "output_type": "stream",
     "text": [
      "3.14\n",
      "0\n"
     ]
    }
   ],
   "source": [
    "PI = 3.14\n",
    "print(PI)\n",
    "\n",
    "PI = 0\n",
    "print(PI)"
   ]
  },
  {
   "cell_type": "code",
   "execution_count": 137,
   "id": "615e71da",
   "metadata": {},
   "outputs": [
    {
     "name": "stdout",
     "output_type": "stream",
     "text": [
      "1\n",
      "2\n",
      "3\n"
     ]
    }
   ],
   "source": [
    "a,b,c = 1,2,3\n",
    "\n",
    "print(a)\n",
    "print(b)\n",
    "print(c)"
   ]
  },
  {
   "cell_type": "markdown",
   "id": "d28daa61",
   "metadata": {},
   "source": [
    "#### augmented assignment operator"
   ]
  },
  {
   "cell_type": "code",
   "execution_count": 138,
   "id": "ee9a394d",
   "metadata": {},
   "outputs": [
    {
     "name": "stdout",
     "output_type": "stream",
     "text": [
      "7\n",
      "9 \n",
      "\n",
      "10\n"
     ]
    }
   ],
   "source": [
    "some_value = 5\n",
    "\n",
    "some_value = some_value + 2\n",
    "print(some_value)\n",
    "\n",
    "some_value += 2\n",
    "print(some_value, '\\n')\n",
    "\n",
    "some_mul = 5\n",
    "some_mul *= 2\n",
    "print(some_mul)"
   ]
  },
  {
   "cell_type": "markdown",
   "id": "f8c16d3e",
   "metadata": {},
   "source": [
    "#### string"
   ]
  },
  {
   "cell_type": "code",
   "execution_count": 139,
   "id": "18ddfa14",
   "metadata": {},
   "outputs": [
    {
     "name": "stdout",
     "output_type": "stream",
     "text": [
      "<class 'str'>\n",
      "<class 'str'>\n",
      "\n",
      "WOW\n",
      "O O\n",
      "---\n",
      "\n"
     ]
    }
   ],
   "source": [
    "name = \"Prabhat\"\n",
    "print(type(name))\n",
    "\n",
    "intro = \"Hello, my name is prabhat and i am 22 years old\"\n",
    "print(type(intro))\n",
    "\n",
    "long_string = '''\n",
    "WOW\n",
    "O O\n",
    "---\n",
    "'''\n",
    "\n",
    "print(long_string)"
   ]
  },
  {
   "cell_type": "markdown",
   "id": "2db021b9",
   "metadata": {},
   "source": [
    "#### String Concatenation"
   ]
  },
  {
   "cell_type": "code",
   "execution_count": 184,
   "id": "cc85c293",
   "metadata": {},
   "outputs": [
    {
     "name": "stdout",
     "output_type": "stream",
     "text": [
      "hello prabhat\n",
      "Prabhat Gupta\n"
     ]
    }
   ],
   "source": [
    "print('hello ' + 'prabhat')\n",
    "\n",
    "first_name = \"Prabhat\"\n",
    "last_name = \"Gupta\"\n",
    "full_name = first_name + ' ' + last_name\n",
    "\n",
    "print(full_name)"
   ]
  },
  {
   "cell_type": "markdown",
   "id": "d6b7328b",
   "metadata": {},
   "source": [
    "str()"
   ]
  },
  {
   "cell_type": "code",
   "execution_count": 186,
   "id": "d2ae0e4c",
   "metadata": {
    "scrolled": true
   },
   "outputs": [
    {
     "name": "stdout",
     "output_type": "stream",
     "text": [
      "<class 'int'>\n",
      "<class 'str'>\n",
      "<class 'int'> \n",
      "\n",
      "<class 'str'>\n",
      "<class 'int'>\n",
      "<class 'float'>\n"
     ]
    }
   ],
   "source": [
    "print(type(5))\n",
    "print(type(str(5)))\n",
    "print(type(int(str(5))), '\\n')\n",
    "\n",
    "a = str(100)\n",
    "b = int(a)\n",
    "c = float(a)\n",
    "print(type(a))\n",
    "print(type(b))\n",
    "print(type(c))"
   ]
  },
  {
   "cell_type": "markdown",
   "id": "9fb6f7d5",
   "metadata": {},
   "source": [
    "#### Escape Sequence, tab and new line"
   ]
  },
  {
   "cell_type": "code",
   "execution_count": 142,
   "id": "4bb24ac0",
   "metadata": {},
   "outputs": [
    {
     "name": "stdout",
     "output_type": "stream",
     "text": [
      "\t Its's \"kind of\" sunny \n",
      " New line\n"
     ]
    }
   ],
   "source": [
    "weather = \"\\t Its\\'s \\\"kind of\\\" sunny \\n New line\"\n",
    "print(weather)"
   ]
  },
  {
   "cell_type": "markdown",
   "id": "a00f8847",
   "metadata": {},
   "source": [
    "#### Formatted Strings"
   ]
  },
  {
   "cell_type": "code",
   "execution_count": 143,
   "id": "d34febb0",
   "metadata": {},
   "outputs": [
    {
     "name": "stdout",
     "output_type": "stream",
     "text": [
      "hi Prabhat You are 22 years old.\n",
      "hi Prabhat You are 22 years old.\n"
     ]
    }
   ],
   "source": [
    "name = \"Prabhat\"\n",
    "age = 22\n",
    "\n",
    "print(\"hi \" + name + \" You are\", age, \"years old.\")\n",
    "\n",
    "print(\"hi {} You are {} years old.\".format(name, age))"
   ]
  },
  {
   "cell_type": "code",
   "execution_count": 144,
   "id": "0f9039f8",
   "metadata": {},
   "outputs": [
    {
     "name": "stdout",
     "output_type": "stream",
     "text": [
      "hi Prabhat you are 22 years old. \n",
      "\n",
      "hi 22 you are Prabhat years old. \n",
      "\n",
      "hi Jhonny you are 43 years old.\n"
     ]
    }
   ],
   "source": [
    "print(\"hi {} you are {} years old.\".format(name, age), '\\n')\n",
    "\n",
    "print(\"hi {1} you are {0} years old.\".format(name, age),'\\n')\n",
    "\n",
    "print(\"hi {name} you are {age} years old.\".format(name = \"Jhonny\", age = 43))"
   ]
  },
  {
   "cell_type": "code",
   "execution_count": 145,
   "id": "e7823778",
   "metadata": {},
   "outputs": [
    {
     "name": "stdout",
     "output_type": "stream",
     "text": [
      "hi Prabhat you are 22 years old.\n"
     ]
    }
   ],
   "source": [
    "print(f\"hi {name} you are {age} years old.\")"
   ]
  },
  {
   "cell_type": "markdown",
   "id": "d4402419",
   "metadata": {},
   "source": [
    "String indexes -> Strings are immutable"
   ]
  },
  {
   "cell_type": "code",
   "execution_count": 190,
   "id": "04ce01a2",
   "metadata": {},
   "outputs": [
    {
     "name": "stdout",
     "output_type": "stream",
     "text": [
      "3\n",
      "1 \n",
      "\n",
      "234\n",
      "0123456789\n",
      "01234567\n",
      "0123456789\n"
     ]
    }
   ],
   "source": [
    "name = \"0123456789\"\n",
    "\n",
    "print(name[3])\n",
    "print(name[1], '\\n')\n",
    "\n",
    "print(name[2:5])\n",
    "print(name[0:])\n",
    "print(name[0:8])\n",
    "print(name[:])"
   ]
  },
  {
   "cell_type": "markdown",
   "id": "f8fa32f8",
   "metadata": {},
   "source": [
    "[start:stop:stepover]"
   ]
  },
  {
   "cell_type": "code",
   "execution_count": 191,
   "id": "9f00b494",
   "metadata": {},
   "outputs": [
    {
     "name": "stdout",
     "output_type": "stream",
     "text": [
      "02468\n",
      "02468 \n",
      "\n",
      "9876543210\n"
     ]
    }
   ],
   "source": [
    "print(name[0:9:2])\n",
    "print(name[::2], '\\n')\n",
    "\n",
    "print(name[::-1])"
   ]
  },
  {
   "cell_type": "markdown",
   "id": "e2a9ff88",
   "metadata": {},
   "source": [
    "#### String Methods"
   ]
  },
  {
   "cell_type": "code",
   "execution_count": 147,
   "id": "784592c0",
   "metadata": {},
   "outputs": [
    {
     "name": "stdout",
     "output_type": "stream",
     "text": [
      "TO BE OR NOT TO BE\n",
      "To be or not to be\n",
      "to be or not to be\n",
      "3\n",
      "to me OR not to me\n",
      "to be OR not to be\n"
     ]
    }
   ],
   "source": [
    "quote = \"to be OR not to be\"\n",
    "\n",
    "print(quote.upper())\n",
    "print(quote.capitalize())\n",
    "print(quote.lower())\n",
    "\n",
    "print(quote.find('be'))\n",
    "\n",
    "print(quote.replace('be', 'me'))\n",
    "\n",
    "print(quote)"
   ]
  },
  {
   "cell_type": "markdown",
   "id": "9b8c7467",
   "metadata": {},
   "source": [
    "#### Boolean"
   ]
  },
  {
   "cell_type": "code",
   "execution_count": 148,
   "id": "6a754026",
   "metadata": {},
   "outputs": [
    {
     "name": "stdout",
     "output_type": "stream",
     "text": [
      "True\n",
      "False\n",
      "False\n",
      "True\n",
      "True\n",
      "False\n"
     ]
    }
   ],
   "source": [
    "name = \"Prabhat\"\n",
    "is_cool = True\n",
    "\n",
    "print(bool(1))   # True\n",
    "print(bool(0))   # False\n",
    "print(bool([]))  # empty - False\n",
    "print(bool([0]))  # True\n",
    "print(bool(\"Hello\"))  # True\n",
    "print(bool(None))  # False"
   ]
  },
  {
   "cell_type": "markdown",
   "id": "5e5a089b",
   "metadata": {},
   "source": [
    "#### Taking input from user"
   ]
  },
  {
   "cell_type": "code",
   "execution_count": 149,
   "id": "b134ed98",
   "metadata": {},
   "outputs": [
    {
     "name": "stdout",
     "output_type": "stream",
     "text": [
      "What's your good name: prr\n",
      "What year were you born: 2000\n",
      "Hi prr, you are 22 years old\n"
     ]
    }
   ],
   "source": [
    "name = input(\"What's your good name: \")\n",
    "birth_year = input(\"What year were you born: \")\n",
    "age = 2022 - int(birth_year)\n",
    "\n",
    "print(f\"Hi {name}, you are {age} years old\")"
   ]
  },
  {
   "cell_type": "markdown",
   "id": "6c0b0658",
   "metadata": {},
   "source": [
    "#### Exercise - Password Checker"
   ]
  },
  {
   "cell_type": "code",
   "execution_count": 150,
   "id": "fab58acf",
   "metadata": {},
   "outputs": [
    {
     "name": "stdout",
     "output_type": "stream",
     "text": [
      "Enter username: fdf\n",
      "Enter password: fdddf\n",
      "fdf, your password ***** is 5 letter long\n"
     ]
    }
   ],
   "source": [
    "username = input(\"Enter username: \")\n",
    "password = input(\"Enter password: \")\n",
    "\n",
    "password_length = len(password)\n",
    "hidden_password = '*' * password_length\n",
    "\n",
    "print(f'{username}, your password {hidden_password} is {password_length} letter long')"
   ]
  },
  {
   "cell_type": "markdown",
   "id": "8a3d8bf2",
   "metadata": {},
   "source": [
    "### Data Structures"
   ]
  },
  {
   "cell_type": "markdown",
   "id": "41124d50",
   "metadata": {},
   "source": [
    "#### list"
   ]
  },
  {
   "cell_type": "code",
   "execution_count": 151,
   "id": "ed40ef96",
   "metadata": {},
   "outputs": [
    {
     "name": "stdout",
     "output_type": "stream",
     "text": [
      "[1, 2, 3, 4, 5]\n",
      "['a', 'b', 'c', 'd']\n",
      "[1, 2.4, 'a', True]\n"
     ]
    }
   ],
   "source": [
    "li = [1,2,3,4,5]\n",
    "li2 = ['a', 'b', 'c', 'd']\n",
    "li3 = [1, 2.4, 'a', True]\n",
    "\n",
    "print(li)\n",
    "print(li2)\n",
    "print(li3)"
   ]
  },
  {
   "cell_type": "code",
   "execution_count": 152,
   "id": "ce21bfb2",
   "metadata": {},
   "outputs": [
    {
     "name": "stdout",
     "output_type": "stream",
     "text": [
      "notebooks\n",
      "sunglasses\n",
      "toys\n",
      "grapes \n",
      "\n",
      "['notebooks', 'toys']\n",
      "['laptop', 'sunglasses', 'toys', 'grapes']\n",
      "['gum', 'sunglasses', 'toys', 'grapes']\n"
     ]
    }
   ],
   "source": [
    "amazon_cart = ['notebooks',\n",
    "               'sunglasses',\n",
    "               'toys',\n",
    "               'grapes'\n",
    "              ]\n",
    "print(amazon_cart[0])\n",
    "print(amazon_cart[1])\n",
    "print(amazon_cart[2])\n",
    "print(amazon_cart[3], '\\n')\n",
    "\n",
    "\n",
    "# List Slicing\n",
    "print(amazon_cart[::2])\n",
    "amazon_cart[0] = 'laptop'\n",
    "print(amazon_cart)\n",
    "\n",
    "new_cart = amazon_cart[:]\n",
    "new_cart[0] = 'gum'\n",
    "print(new_cart)"
   ]
  },
  {
   "cell_type": "markdown",
   "id": "a83b91f2",
   "metadata": {},
   "source": [
    "Matrix"
   ]
  },
  {
   "cell_type": "code",
   "execution_count": 153,
   "id": "2ff37578",
   "metadata": {},
   "outputs": [
    {
     "name": "stdout",
     "output_type": "stream",
     "text": [
      "[[1, 0, 1], [0, 1, 0], [1, 0, 1]] \n",
      "\n",
      "[1, 0, 1]\n",
      "0 \n",
      "\n",
      "[0, 1, 0]\n",
      "1\n"
     ]
    }
   ],
   "source": [
    "matrix = [\n",
    "    [1,0,1],\n",
    "    [0,1,0],\n",
    "    [1,0,1]\n",
    "]\n",
    "\n",
    "print(matrix, '\\n')\n",
    "\n",
    "print(matrix[0])\n",
    "print(matrix[0][1], '\\n')\n",
    "\n",
    "print(matrix[1])\n",
    "print(matrix[1][1])"
   ]
  },
  {
   "cell_type": "markdown",
   "id": "cd02e40d",
   "metadata": {},
   "source": [
    "List Methods:"
   ]
  },
  {
   "cell_type": "code",
   "execution_count": 154,
   "id": "c7697331",
   "metadata": {},
   "outputs": [
    {
     "name": "stdout",
     "output_type": "stream",
     "text": [
      "[1, 2, 3, 4, 5]\n"
     ]
    }
   ],
   "source": [
    "li = [1,2,3,4,5]\n",
    "print(li)"
   ]
  },
  {
   "cell_type": "markdown",
   "id": "4b9563f6",
   "metadata": {},
   "source": [
    "adding (append)"
   ]
  },
  {
   "cell_type": "code",
   "execution_count": 155,
   "id": "f3aee772",
   "metadata": {},
   "outputs": [
    {
     "name": "stdout",
     "output_type": "stream",
     "text": [
      "[1, 2, 3, 4, 5, 100]\n",
      "None\n"
     ]
    }
   ],
   "source": [
    "new_li = li.append(100)\n",
    "print(li)\n",
    "print(new_li)"
   ]
  },
  {
   "cell_type": "markdown",
   "id": "a5ffcc99",
   "metadata": {},
   "source": [
    "insert"
   ]
  },
  {
   "cell_type": "code",
   "execution_count": 156,
   "id": "b6b46300",
   "metadata": {},
   "outputs": [
    {
     "name": "stdout",
     "output_type": "stream",
     "text": [
      "[1, 2, 200, 3, 4, 5, 100]\n",
      "None\n"
     ]
    }
   ],
   "source": [
    "new_li1 = li.insert(2, 200)\n",
    "print(li)\n",
    "print(new_li1)"
   ]
  },
  {
   "cell_type": "markdown",
   "id": "52e90778",
   "metadata": {},
   "source": [
    "extend"
   ]
  },
  {
   "cell_type": "code",
   "execution_count": 157,
   "id": "b15bc2a2",
   "metadata": {},
   "outputs": [
    {
     "name": "stdout",
     "output_type": "stream",
     "text": [
      "[1, 2, 200, 3, 4, 5, 100, 200, 300, 400]\n",
      "None\n"
     ]
    }
   ],
   "source": [
    "new_li2 = li.extend([200, 300, 400])\n",
    "print(li)\n",
    "print(new_li2)"
   ]
  },
  {
   "cell_type": "markdown",
   "id": "bc05d867",
   "metadata": {},
   "source": [
    "removing - pop"
   ]
  },
  {
   "cell_type": "code",
   "execution_count": 158,
   "id": "7a1d5348",
   "metadata": {},
   "outputs": [
    {
     "name": "stdout",
     "output_type": "stream",
     "text": [
      "400\n",
      "[1, 2, 200, 3, 4, 5, 100, 200, 300]\n",
      "[2, 200, 3, 4, 5, 100, 200, 300]\n"
     ]
    }
   ],
   "source": [
    "new_li3 = li.pop()\n",
    "print(new_li3)\n",
    "print(li)\n",
    "li.pop(0)\n",
    "print(li)"
   ]
  },
  {
   "cell_type": "markdown",
   "id": "86d70486",
   "metadata": {},
   "source": [
    "removing - remove"
   ]
  },
  {
   "cell_type": "code",
   "execution_count": 159,
   "id": "b1513986",
   "metadata": {},
   "outputs": [
    {
     "name": "stdout",
     "output_type": "stream",
     "text": [
      "[2, 200, 3, 4, 5, 100, 200, 300]\n",
      "None\n",
      "[2, 200, 3, 5, 100, 200, 300]\n"
     ]
    }
   ],
   "source": [
    "print(li)\n",
    "new_li4 = li.remove(4)\n",
    "print(new_li4)\n",
    "print(li)"
   ]
  },
  {
   "cell_type": "markdown",
   "id": "efe16e1a",
   "metadata": {},
   "source": [
    "clear"
   ]
  },
  {
   "cell_type": "code",
   "execution_count": 160,
   "id": "88a16556",
   "metadata": {},
   "outputs": [
    {
     "name": "stdout",
     "output_type": "stream",
     "text": [
      "None\n",
      "[]\n"
     ]
    }
   ],
   "source": [
    "new_li5 = li.clear()\n",
    "print(new_li5)\n",
    "print(li)"
   ]
  },
  {
   "cell_type": "markdown",
   "id": "52bf31f5",
   "metadata": {},
   "source": [
    "index"
   ]
  },
  {
   "cell_type": "code",
   "execution_count": 161,
   "id": "7ba4a23f",
   "metadata": {},
   "outputs": [
    {
     "name": "stdout",
     "output_type": "stream",
     "text": [
      "['a', 'b', 'c', 'c', 'd', 'e']\n",
      "4\n",
      "2\n"
     ]
    }
   ],
   "source": [
    "li = ['a', 'b', 'c', 'c', 'd', 'e']\n",
    "print(li)\n",
    "new_lis = li.index('d')\n",
    "print(new_lis)\n",
    "\n",
    "print(li.index('c', 0, 3))"
   ]
  },
  {
   "cell_type": "markdown",
   "id": "a73aa193",
   "metadata": {},
   "source": [
    "keyword - in"
   ]
  },
  {
   "cell_type": "code",
   "execution_count": 162,
   "id": "506c51ef",
   "metadata": {},
   "outputs": [
    {
     "name": "stdout",
     "output_type": "stream",
     "text": [
      "True\n",
      "False\n"
     ]
    }
   ],
   "source": [
    "print('d' in li)\n",
    "print('x' in li)"
   ]
  },
  {
   "cell_type": "markdown",
   "id": "0631bc02",
   "metadata": {},
   "source": [
    "count"
   ]
  },
  {
   "cell_type": "code",
   "execution_count": 163,
   "id": "5e1f6a34",
   "metadata": {},
   "outputs": [
    {
     "name": "stdout",
     "output_type": "stream",
     "text": [
      "2\n",
      "1\n"
     ]
    }
   ],
   "source": [
    "print(li.count('c'))\n",
    "print(li.count('d'))"
   ]
  },
  {
   "cell_type": "markdown",
   "id": "7c25c49b",
   "metadata": {},
   "source": [
    "sort"
   ]
  },
  {
   "cell_type": "code",
   "execution_count": 171,
   "id": "60544e50",
   "metadata": {},
   "outputs": [
    {
     "name": "stdout",
     "output_type": "stream",
     "text": [
      "[2, 4, 3, 5, 1, 6, 9, 7, 8]\n",
      "None\n",
      "[1, 2, 3, 4, 5, 6, 7, 8, 9]\n"
     ]
    }
   ],
   "source": [
    "li = [2,4,3,5,1,6,9,7,8]\n",
    "print(li)\n",
    "print(li.sort())\n",
    "\n",
    "li.sort()\n",
    "print(li)"
   ]
  },
  {
   "cell_type": "markdown",
   "id": "ed4d4a00",
   "metadata": {},
   "source": [
    "sorted"
   ]
  },
  {
   "cell_type": "code",
   "execution_count": 173,
   "id": "add4329a",
   "metadata": {},
   "outputs": [
    {
     "name": "stdout",
     "output_type": "stream",
     "text": [
      "[2, 4, 3, 5, 1, 6, 9, 7, 8]\n",
      "[1, 2, 3, 4, 5, 6, 7, 8, 9]\n"
     ]
    }
   ],
   "source": [
    "li = [2,4,3,5,1,6,9,7,8]\n",
    "print(li)\n",
    "print(sorted(li))"
   ]
  },
  {
   "cell_type": "markdown",
   "id": "406c5bc4",
   "metadata": {},
   "source": [
    "reverse"
   ]
  },
  {
   "cell_type": "code",
   "execution_count": 176,
   "id": "d8877c5d",
   "metadata": {},
   "outputs": [
    {
     "name": "stdout",
     "output_type": "stream",
     "text": [
      "[2, 4, 3, 5, 1, 6, 9, 7, 8]\n",
      "None\n",
      "[8, 7, 9, 6, 1, 5, 3, 4, 2]\n"
     ]
    }
   ],
   "source": [
    "li = [2,4,3,5,1,6,9,7,8]\n",
    "print(li)\n",
    "print(li.reverse())\n",
    "print(li)"
   ]
  },
  {
   "cell_type": "markdown",
   "id": "9711849b",
   "metadata": {},
   "source": [
    "copying"
   ]
  },
  {
   "cell_type": "code",
   "execution_count": 178,
   "id": "f94e9f5c",
   "metadata": {},
   "outputs": [
    {
     "name": "stdout",
     "output_type": "stream",
     "text": [
      "[8, 7, 9, 6, 1, 5, 3, 4, 2]\n",
      "[8, 7, 9, 6, 1, 5, 3, 4, 2]\n",
      "9 \n",
      "\n",
      "[9, 8, 7, 6, 5, 4, 3, 2, 1]\n",
      "[1, 2, 3, 4, 5, 6, 7, 8, 9]\n"
     ]
    }
   ],
   "source": [
    "new_li = li[:]\n",
    "print(new_li)\n",
    "\n",
    "new_li2 = li.copy()\n",
    "print(new_li2)\n",
    "\n",
    "print(len(new_li2),'\\n')\n",
    "\n",
    "li = [2,4,3,5,1,6,9,7,8]\n",
    "li.sort()\n",
    "li.reverse()\n",
    "print(li)\n",
    "print(li[::-1])"
   ]
  },
  {
   "cell_type": "markdown",
   "id": "e6dadb19",
   "metadata": {},
   "source": [
    "join"
   ]
  },
  {
   "cell_type": "code",
   "execution_count": 168,
   "id": "7e19ba91",
   "metadata": {},
   "outputs": [
    {
     "name": "stdout",
     "output_type": "stream",
     "text": [
      "hi my name is JOJO\n",
      "hi my name is JOJO\n"
     ]
    }
   ],
   "source": [
    "asentence = ' '\n",
    "new_sentence = sentence.join(['hi', 'my', 'name', 'is', 'JOJO'])\n",
    "print(new_sentence)\n",
    "\n",
    "# 2nd Method\n",
    "new_sentence = ' '.join(['hi', 'my', 'name', 'is', 'JOJO'])\n",
    "print(new_sentence)"
   ]
  },
  {
   "cell_type": "markdown",
   "id": "95199c4a",
   "metadata": {},
   "source": [
    "List Unpacking"
   ]
  },
  {
   "cell_type": "code",
   "execution_count": 169,
   "id": "c5043c4b",
   "metadata": {},
   "outputs": [
    {
     "name": "stdout",
     "output_type": "stream",
     "text": [
      "1\n",
      "2\n",
      "3\n",
      "[4, 5, 6, 7, 8]\n",
      "9\n"
     ]
    }
   ],
   "source": [
    "a,b,c, *other, d = [1,2,3,4,5,6,7,8,9]\n",
    "\n",
    "print(a)\n",
    "print(b)\n",
    "print(c)\n",
    "print(other)\n",
    "print(d)"
   ]
  },
  {
   "cell_type": "markdown",
   "id": "54887a87",
   "metadata": {},
   "source": [
    "None"
   ]
  },
  {
   "cell_type": "code",
   "execution_count": 180,
   "id": "32deb0ec",
   "metadata": {},
   "outputs": [
    {
     "name": "stdout",
     "output_type": "stream",
     "text": [
      "None\n"
     ]
    }
   ],
   "source": [
    "weapons = None\n",
    "print(weapons)"
   ]
  },
  {
   "cell_type": "markdown",
   "id": "1952e82b",
   "metadata": {},
   "source": [
    "#### Dictionary"
   ]
  },
  {
   "cell_type": "markdown",
   "id": "e00b0366",
   "metadata": {},
   "source": [
    "unordered -> key and value pairs"
   ]
  },
  {
   "cell_type": "markdown",
   "id": "8de9d7a9",
   "metadata": {},
   "source": [
    "key has to be unique -> key:value"
   ]
  },
  {
   "cell_type": "markdown",
   "id": "b14ea796",
   "metadata": {},
   "source": [
    "keys are immutable"
   ]
  },
  {
   "cell_type": "code",
   "execution_count": 200,
   "id": "cc20ba27",
   "metadata": {},
   "outputs": [
    {
     "name": "stdout",
     "output_type": "stream",
     "text": [
      "{'a': 1, 'b': [1, 2, 3, 'hi', True]}\n",
      "1\n",
      "hi\n"
     ]
    }
   ],
   "source": [
    "dictionary = {\n",
    "    'a': 1,\n",
    "    'b': [1,2,3,'hi', True]\n",
    "}\n",
    "print(dictionary)\n",
    "\n",
    "print(dictionary['a'])\n",
    "print(dictionary['b'][3])"
   ]
  },
  {
   "cell_type": "code",
   "execution_count": 208,
   "id": "072c4783",
   "metadata": {},
   "outputs": [
    {
     "name": "stdout",
     "output_type": "stream",
     "text": [
      "[{'a': [1, 2, 3], 'b': 'hello', 'c': True}, {'a': [4, 5, 6], 'b': 'hi', 'c': False}] \n",
      "\n",
      "3\n",
      "hi\n"
     ]
    }
   ],
   "source": [
    "my_list = [\n",
    "    {\n",
    "        'a': [1,2,3],\n",
    "        'b': 'hello',\n",
    "        'c': True\n",
    "    },\n",
    "    {\n",
    "        'a': [4,5,6],\n",
    "        'b': 'hi',\n",
    "        'c': False\n",
    "    }\n",
    "]\n",
    "print(my_list, '\\n')\n",
    "\n",
    "print(my_list[0]['a'][2])\n",
    "print(my_list[1]['b'])"
   ]
  },
  {
   "cell_type": "markdown",
   "id": "b66858d9",
   "metadata": {},
   "source": [
    "Dictionary Methods"
   ]
  },
  {
   "cell_type": "code",
   "execution_count": 215,
   "id": "69a3770e",
   "metadata": {},
   "outputs": [
    {
     "name": "stdout",
     "output_type": "stream",
     "text": [
      "[1, 2, 3, 4]\n",
      "None \n",
      "\n",
      "25\n"
     ]
    }
   ],
   "source": [
    "user = {\n",
    "    'basket': [1,2,3,4],\n",
    "    'greet': 'hello'\n",
    "}\n",
    "\n",
    "print(user['basket'])\n",
    "print(user.get('age'),'\\n')\n",
    "\n",
    "print(user.get('age', 25))   # assigning default value"
   ]
  },
  {
   "cell_type": "markdown",
   "id": "f755db75",
   "metadata": {},
   "source": [
    "Creating dictionary using -> dict()"
   ]
  },
  {
   "cell_type": "code",
   "execution_count": 225,
   "id": "da989c3e",
   "metadata": {},
   "outputs": [
    {
     "name": "stdout",
     "output_type": "stream",
     "text": [
      "{'name': 'Prabhat'}\n"
     ]
    }
   ],
   "source": [
    "user2 = dict(name='Prabhat')\n",
    "print(user2)"
   ]
  },
  {
   "cell_type": "markdown",
   "id": "7fc58495",
   "metadata": {},
   "source": [
    "Accessing items using keys and values"
   ]
  },
  {
   "cell_type": "code",
   "execution_count": 259,
   "id": "24cee380",
   "metadata": {},
   "outputs": [
    {
     "name": "stdout",
     "output_type": "stream",
     "text": [
      "True\n",
      "False \n",
      "\n",
      "True\n",
      "False \n",
      "\n",
      "True\n",
      "True\n",
      "False\n"
     ]
    }
   ],
   "source": [
    "user = {\n",
    "    'a': [1,2,3],\n",
    "    'b': 'hello',\n",
    "    'c': 20\n",
    "}\n",
    "print('a' in user)\n",
    "print('x' in user, '\\n')\n",
    "\n",
    "print('c' in user.keys())\n",
    "print('x' in user.keys(),'\\n')\n",
    "\n",
    "print('hello' in user.values())\n",
    "print(20 in user.values())\n",
    "print('x' in user.values())"
   ]
  },
  {
   "cell_type": "markdown",
   "id": "448d8b51",
   "metadata": {},
   "source": [
    "items"
   ]
  },
  {
   "cell_type": "code",
   "execution_count": 254,
   "id": "94ccdc94",
   "metadata": {},
   "outputs": [
    {
     "name": "stdout",
     "output_type": "stream",
     "text": [
      "dict_items([('b', 'hello'), ('c', 20)])\n"
     ]
    }
   ],
   "source": [
    "print(user.items())"
   ]
  },
  {
   "cell_type": "markdown",
   "id": "967e14f8",
   "metadata": {},
   "source": [
    "we can use -> copy, clear"
   ]
  },
  {
   "cell_type": "markdown",
   "id": "6209118e",
   "metadata": {},
   "source": [
    "pop"
   ]
  },
  {
   "cell_type": "code",
   "execution_count": 272,
   "id": "c0395c32",
   "metadata": {},
   "outputs": [
    {
     "name": "stdout",
     "output_type": "stream",
     "text": [
      "[1, 2, 3]\n",
      "{'b': 'hello', 'c': 20} \n",
      "\n",
      "('c', 20)\n",
      "{'b': 'hello'}\n"
     ]
    }
   ],
   "source": [
    "user = {\n",
    "    'a': [1,2,3],\n",
    "    'b': 'hello',\n",
    "    'c': 20\n",
    "}\n",
    "\n",
    "print(user.pop('a'))\n",
    "print(user, '\\n')\n",
    "\n",
    "print(user.popitem())\n",
    "print(user)"
   ]
  },
  {
   "cell_type": "markdown",
   "id": "703e0665",
   "metadata": {},
   "source": [
    "update"
   ]
  },
  {
   "cell_type": "code",
   "execution_count": 273,
   "id": "370e90dd",
   "metadata": {},
   "outputs": [
    {
     "name": "stdout",
     "output_type": "stream",
     "text": [
      "None\n",
      "{'b': 'hello', 'c': 55} \n",
      "\n",
      "None\n",
      "{'b': 'hello', 'c': 55, 'd': 155}\n"
     ]
    }
   ],
   "source": [
    "print(user.update({'c': 55}))\n",
    "print(user, '\\n')\n",
    "\n",
    "print(user.update({'d': 155}))\n",
    "print(user)"
   ]
  },
  {
   "cell_type": "markdown",
   "id": "054a041c",
   "metadata": {},
   "source": [
    "#### Tuple"
   ]
  },
  {
   "cell_type": "markdown",
   "id": "ad49ab0f",
   "metadata": {},
   "source": [
    "Tuple is immutable"
   ]
  },
  {
   "cell_type": "code",
   "execution_count": 293,
   "id": "f5f49c59",
   "metadata": {},
   "outputs": [
    {
     "name": "stdout",
     "output_type": "stream",
     "text": [
      "(1, 2, 3, 4, 5, 6) \n",
      "\n",
      "True\n",
      "2 \n",
      "\n",
      "(2, 3)\n"
     ]
    }
   ],
   "source": [
    "my_tuple = (1,2,3,4,5,6)\n",
    "print(my_tuple, '\\n')\n",
    "\n",
    "print(5 in my_tuple)\n",
    "print(my_tuple[1],'\\n')\n",
    "\n",
    "new_tuple = my_tuple[1:3]\n",
    "print(new_tuple)"
   ]
  },
  {
   "cell_type": "code",
   "execution_count": 289,
   "id": "fe3ee187",
   "metadata": {},
   "outputs": [
    {
     "name": "stdout",
     "output_type": "stream",
     "text": [
      "1\n",
      "2\n",
      "3\n",
      "[4, 5, 6, 7, 8]\n"
     ]
    }
   ],
   "source": [
    "x,y,z, *others = (1,2,3,4,5,6,7)\n",
    "print(x)\n",
    "print(y)\n",
    "print(z)\n",
    "print(other)"
   ]
  },
  {
   "cell_type": "markdown",
   "id": "529ef4cd",
   "metadata": {},
   "source": [
    "Tuple Methods"
   ]
  },
  {
   "cell_type": "code",
   "execution_count": 297,
   "id": "dbac0f6b",
   "metadata": {},
   "outputs": [
    {
     "name": "stdout",
     "output_type": "stream",
     "text": [
      "6 \n",
      "\n",
      "2 \n",
      "\n",
      "3\n"
     ]
    }
   ],
   "source": [
    "my_tuple = (1,2,3,4,5,5)\n",
    "\n",
    "print(len(my_tuple),'\\n')\n",
    "print(my_tuple.count(5), '\\n')\n",
    "\n",
    "print(my_tuple.index(4))"
   ]
  },
  {
   "cell_type": "markdown",
   "id": "3657ddf9",
   "metadata": {},
   "source": [
    "#### set"
   ]
  },
  {
   "cell_type": "markdown",
   "id": "8928bcb7",
   "metadata": {},
   "source": [
    "unordered collection of unique values -> no duplicates"
   ]
  },
  {
   "cell_type": "code",
   "execution_count": 302,
   "id": "ebd3a1a1",
   "metadata": {},
   "outputs": [
    {
     "name": "stdout",
     "output_type": "stream",
     "text": [
      "{1, 2, 3, 4, 5}\n"
     ]
    }
   ],
   "source": [
    "my_set = {1,2,3,4,5,5}\n",
    "print(my_set)"
   ]
  },
  {
   "cell_type": "code",
   "execution_count": 306,
   "id": "6136058f",
   "metadata": {},
   "outputs": [
    {
     "name": "stdout",
     "output_type": "stream",
     "text": [
      "{1, 2, 3, 4, 5, 100}\n"
     ]
    }
   ],
   "source": [
    "my_set.add(100)\n",
    "\n",
    "# duplicate\n",
    "my_set.add(2)    \n",
    "\n",
    "print(my_set)"
   ]
  },
  {
   "cell_type": "markdown",
   "id": "83f25da7",
   "metadata": {},
   "source": [
    "removing duplicates from a list"
   ]
  },
  {
   "cell_type": "code",
   "execution_count": 309,
   "id": "09da07b6",
   "metadata": {},
   "outputs": [
    {
     "name": "stdout",
     "output_type": "stream",
     "text": [
      "{1, 2, 3, 4, 5}\n"
     ]
    }
   ],
   "source": [
    "my_list = [1,2,3,4,5,5,5]\n",
    "print(set(my_list))"
   ]
  },
  {
   "cell_type": "code",
   "execution_count": 313,
   "id": "47c6eef7",
   "metadata": {},
   "outputs": [
    {
     "name": "stdout",
     "output_type": "stream",
     "text": [
      "True\n",
      "5\n",
      "[1, 2, 3, 4, 5]\n"
     ]
    }
   ],
   "source": [
    "my_set = {1,2,3,4,5,5}\n",
    "\n",
    "print(1 in my_set)\n",
    "print(len(my_set))\n",
    "print(list(my_set))"
   ]
  },
  {
   "cell_type": "code",
   "execution_count": 12,
   "id": "a51aa40f",
   "metadata": {},
   "outputs": [
    {
     "name": "stdout",
     "output_type": "stream",
     "text": [
      "{1, 2, 3, 4, 5} \n",
      "\n",
      "set()\n"
     ]
    }
   ],
   "source": [
    "new_set = my_set.copy()\n",
    "print(new_set, '\\n')\n",
    "\n",
    "new_set.clear()\n",
    "print(new_set)"
   ]
  },
  {
   "cell_type": "markdown",
   "id": "4e337f1f",
   "metadata": {},
   "source": [
    "difference"
   ]
  },
  {
   "cell_type": "code",
   "execution_count": 11,
   "id": "b6ec917a",
   "metadata": {},
   "outputs": [
    {
     "name": "stdout",
     "output_type": "stream",
     "text": [
      "{1, 2, 3}\n",
      "{8, 6, 7}\n"
     ]
    }
   ],
   "source": [
    "my_set = {1,2,3,4,5}\n",
    "your_set = {4,5,6,7,8}\n",
    "\n",
    "print(my_set.difference(your_set))\n",
    "print(your_set.difference(my_set))"
   ]
  },
  {
   "cell_type": "markdown",
   "id": "459d0f19",
   "metadata": {},
   "source": [
    "discard"
   ]
  },
  {
   "cell_type": "code",
   "execution_count": 10,
   "id": "0ff6a42b",
   "metadata": {},
   "outputs": [
    {
     "name": "stdout",
     "output_type": "stream",
     "text": [
      "None\n",
      "{1, 2, 3, 4}\n"
     ]
    }
   ],
   "source": [
    "my_set = {1,2,3,4,5}\n",
    "your_set = {4,5,6,7,8}\n",
    "\n",
    "print(my_set.discard(5))\n",
    "print(my_set)"
   ]
  },
  {
   "cell_type": "markdown",
   "id": "1181e935",
   "metadata": {},
   "source": [
    "difference_update"
   ]
  },
  {
   "cell_type": "code",
   "execution_count": 9,
   "id": "6e7588c6",
   "metadata": {},
   "outputs": [
    {
     "name": "stdout",
     "output_type": "stream",
     "text": [
      "None\n",
      "{1, 2, 3}\n"
     ]
    }
   ],
   "source": [
    "my_set = {1,2,3,4,5}\n",
    "your_set = {4,5,6,7,8}\n",
    "\n",
    "print(my_set.difference_update(your_set))\n",
    "print(my_set)"
   ]
  },
  {
   "cell_type": "markdown",
   "id": "2710c133",
   "metadata": {},
   "source": [
    "intersection"
   ]
  },
  {
   "cell_type": "code",
   "execution_count": 34,
   "id": "bb93c76f",
   "metadata": {},
   "outputs": [
    {
     "name": "stdout",
     "output_type": "stream",
     "text": [
      "set()\n",
      "set()\n"
     ]
    }
   ],
   "source": [
    "my_set = {1,2,3,4,5}\n",
    "your_set = {4,5,6,7,8}\n",
    "\n",
    "print(my_set.intersection(your_set))\n",
    "\n",
    "print(my_set & your_set)"
   ]
  },
  {
   "cell_type": "markdown",
   "id": "90a9f8f0",
   "metadata": {},
   "source": [
    "isdisjoint"
   ]
  },
  {
   "cell_type": "code",
   "execution_count": 38,
   "id": "02ea50e0",
   "metadata": {},
   "outputs": [
    {
     "name": "stdout",
     "output_type": "stream",
     "text": [
      "True\n"
     ]
    }
   ],
   "source": [
    "my_set = {1,2,3}\n",
    "your_set = {4,5,6,7,8}\n",
    "\n",
    "# has nothing in common\n",
    "print(my_set.isdisjoint(your_set))"
   ]
  },
  {
   "cell_type": "markdown",
   "id": "e287d7f5",
   "metadata": {},
   "source": [
    "issubset"
   ]
  },
  {
   "cell_type": "code",
   "execution_count": 35,
   "id": "a4a58307",
   "metadata": {},
   "outputs": [
    {
     "name": "stdout",
     "output_type": "stream",
     "text": [
      "True\n"
     ]
    }
   ],
   "source": [
    "my_set = {4,5}\n",
    "your_set = {4,5,6,7,8}\n",
    "\n",
    "print(my_set.issubset(your_set))"
   ]
  },
  {
   "cell_type": "markdown",
   "id": "626c4595",
   "metadata": {},
   "source": [
    "issuperset"
   ]
  },
  {
   "cell_type": "code",
   "execution_count": 37,
   "id": "2ef36d8c",
   "metadata": {},
   "outputs": [
    {
     "name": "stdout",
     "output_type": "stream",
     "text": [
      "True\n"
     ]
    }
   ],
   "source": [
    "my_set = {4,5}\n",
    "your_set = {4,5,6,7,8}\n",
    "\n",
    "print(your_set.issuperset(my_set))"
   ]
  },
  {
   "cell_type": "markdown",
   "id": "272b1da4",
   "metadata": {},
   "source": [
    "union"
   ]
  },
  {
   "cell_type": "code",
   "execution_count": 31,
   "id": "d5f74955",
   "metadata": {},
   "outputs": [
    {
     "name": "stdout",
     "output_type": "stream",
     "text": [
      "{1, 2, 3, 4, 5, 6, 7, 8}\n",
      "{1, 2, 3, 4, 5, 6, 7, 8}\n"
     ]
    }
   ],
   "source": [
    "my_set = {1,2,3,4,5}\n",
    "your_set = {4,5,6,7,8}\n",
    "\n",
    "# combines and removes duplicates\n",
    "print(my_set.union(your_set))\n",
    "\n",
    "print(my_set | your_set)"
   ]
  }
 ],
 "metadata": {
  "kernelspec": {
   "display_name": "Python 3 (ipykernel)",
   "language": "python",
   "name": "python3"
  },
  "language_info": {
   "codemirror_mode": {
    "name": "ipython",
    "version": 3
   },
   "file_extension": ".py",
   "mimetype": "text/x-python",
   "name": "python",
   "nbconvert_exporter": "python",
   "pygments_lexer": "ipython3",
   "version": "3.9.7"
  },
  "toc": {
   "base_numbering": 1,
   "nav_menu": {},
   "number_sections": false,
   "sideBar": true,
   "skip_h1_title": false,
   "title_cell": "Table of Contents",
   "title_sidebar": "Contents",
   "toc_cell": false,
   "toc_position": {},
   "toc_section_display": true,
   "toc_window_display": true
  }
 },
 "nbformat": 4,
 "nbformat_minor": 5
}
