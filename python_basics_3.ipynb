{
 "cells": [
  {
   "cell_type": "markdown",
   "id": "56ec3413",
   "metadata": {},
   "source": [
    "#### args and kwargs"
   ]
  },
  {
   "cell_type": "code",
   "execution_count": 13,
   "id": "7dfb65e1",
   "metadata": {},
   "outputs": [
    {
     "name": "stdout",
     "output_type": "stream",
     "text": [
      "1 2 3 4 5\n",
      "(1, 2, 3, 4, 5)\n"
     ]
    },
    {
     "data": {
      "text/plain": [
       "15"
      ]
     },
     "execution_count": 13,
     "metadata": {},
     "output_type": "execute_result"
    }
   ],
   "source": [
    "# *args\n",
    "\n",
    "def super_function(*args):\n",
    "    print(*args)\n",
    "    print(args)\n",
    "    return sum(args)\n",
    "\n",
    "super_function(1,2,3,4,5)"
   ]
  },
  {
   "cell_type": "code",
   "execution_count": 18,
   "id": "dd837a50",
   "metadata": {},
   "outputs": [
    {
     "name": "stdout",
     "output_type": "stream",
     "text": [
      "{'num1': 23, 'num2': 34}\n"
     ]
    },
    {
     "data": {
      "text/plain": [
       "67"
      ]
     },
     "execution_count": 18,
     "metadata": {},
     "output_type": "execute_result"
    }
   ],
   "source": [
    "# *kwargs\n",
    "\n",
    "def super_function(*args, **kwargs):\n",
    "    total = 0\n",
    "    for items in kwargs.values():\n",
    "        total += items\n",
    "    print(kwargs)\n",
    "    return sum(args) + total\n",
    "\n",
    "super_function(1,2,3,4, num1=23, num2= 34)"
   ]
  },
  {
   "cell_type": "code",
   "execution_count": 37,
   "id": "2130e90e",
   "metadata": {},
   "outputs": [
    {
     "name": "stdout",
     "output_type": "stream",
     "text": [
      "Welcome, Prabhat\n",
      "Age: 22\n",
      "Verified:  Yes\n"
     ]
    },
    {
     "data": {
      "text/plain": [
       "21"
      ]
     },
     "execution_count": 37,
     "metadata": {},
     "output_type": "execute_result"
    }
   ],
   "source": [
    "# Rule: params, *args, default parameters, **kwargs\n",
    "# Example: super_function(name, age, *args, verified=False, **kwargs)\n",
    "\n",
    "def super_function(name, age, *args, is_vefified='No', **kwargs):\n",
    "    print(f'Welcome, {name}')\n",
    "    print(f'Age: {age}')\n",
    "    print('Verified: ', is_vefified)\n",
    "    \n",
    "    total = 0\n",
    "    for items in kwargs.values():\n",
    "        total += items\n",
    "    return sum(args) + total\n",
    "\n",
    "super_function('Prabhat', 22, 1,2,3,4, is_vefified='Yes', num1=5, num2=6)\n"
   ]
  },
  {
   "cell_type": "markdown",
   "id": "8222f4ad",
   "metadata": {},
   "source": [
    "exercise"
   ]
  },
  {
   "cell_type": "code",
   "execution_count": 45,
   "id": "f7ecbfdc",
   "metadata": {},
   "outputs": [
    {
     "name": "stdout",
     "output_type": "stream",
     "text": [
      "10\n"
     ]
    }
   ],
   "source": [
    "def highest_even(li):\n",
    "    evens = []\n",
    "    for item in li:\n",
    "        if item % 2 == 0:\n",
    "            evens.append(item)\n",
    "    return max(evens)\n",
    "    pass\n",
    "\n",
    "print(highest_even([10,2,3,4,6,7,13]))"
   ]
  },
  {
   "cell_type": "markdown",
   "id": "4882df3f",
   "metadata": {},
   "source": [
    "walrus operator"
   ]
  },
  {
   "cell_type": "code",
   "execution_count": 63,
   "id": "16819595",
   "metadata": {},
   "outputs": [
    {
     "name": "stdout",
     "output_type": "stream",
     "text": [
      "too long 15 elements.\n",
      "\n",
      "too long 15 elements.\n"
     ]
    }
   ],
   "source": [
    "a = 'hellloooooooooo'\n",
    "\n",
    "if len(a) > 10:\n",
    "    print(f'too long {len(a)} elements.' + '\\n')\n",
    "    \n",
    "if ((n := len(a)) > 10):\n",
    "    print(f'too long {n} elements.')"
   ]
  },
  {
   "cell_type": "code",
   "execution_count": 66,
   "id": "d0e82c3b",
   "metadata": {},
   "outputs": [
    {
     "name": "stdout",
     "output_type": "stream",
     "text": [
      "15\n",
      "14\n",
      "13\n",
      "12\n",
      "11\n",
      "10\n",
      "9\n",
      "8\n",
      "hellloo\n"
     ]
    }
   ],
   "source": [
    "a = 'hellloooooooooo'\n",
    "while ((n := len(a)) > 7):\n",
    "    print(n)\n",
    "    a = a[:-1]\n",
    "    \n",
    "print(a)"
   ]
  },
  {
   "cell_type": "markdown",
   "id": "e49072af",
   "metadata": {},
   "source": [
    "#### Scope\n",
    "\n",
    "What variables do I have access to?\n",
    "\n",
    "#1 - start with local\n",
    "\n",
    "#2 - parent local\n",
    "\n",
    "#3 - global\n",
    "\n",
    "#4 - built in python functions"
   ]
  },
  {
   "cell_type": "code",
   "execution_count": 74,
   "id": "fff641c1",
   "metadata": {},
   "outputs": [
    {
     "name": "stdout",
     "output_type": "stream",
     "text": [
      "100\n",
      "100000\n",
      "100\n"
     ]
    }
   ],
   "source": [
    "total = 100   # global scope\n",
    "def some_sun():\n",
    "    total2 = 100000  # local scope \n",
    "    return total2\n",
    "    \n",
    "print(total)\n",
    "print(some_sun())\n",
    "print(total)"
   ]
  },
  {
   "cell_type": "code",
   "execution_count": 83,
   "id": "86b7906b",
   "metadata": {},
   "outputs": [
    {
     "name": "stdout",
     "output_type": "stream",
     "text": [
      "200\n",
      "100\n"
     ]
    }
   ],
   "source": [
    "a = 100   # global scope\n",
    "\n",
    "def parent():\n",
    "    a=200     # parent scope\n",
    "    def some_sun():\n",
    "        return a  # local scope\n",
    "    return some_sun()\n",
    "\n",
    "print(parent())\n",
    "print(a)"
   ]
  },
  {
   "cell_type": "code",
   "execution_count": 84,
   "id": "17a017e0",
   "metadata": {},
   "outputs": [
    {
     "name": "stdout",
     "output_type": "stream",
     "text": [
      "100\n",
      "100\n"
     ]
    }
   ],
   "source": [
    "a = 100\n",
    "\n",
    "def parent():\n",
    "    def some_sun():\n",
    "        return a\n",
    "    return some_sun()\n",
    "\n",
    "print(parent())\n",
    "print(a)"
   ]
  },
  {
   "cell_type": "code",
   "execution_count": 87,
   "id": "916eb70f",
   "metadata": {},
   "outputs": [
    {
     "name": "stdout",
     "output_type": "stream",
     "text": [
      "<built-in function sum>\n",
      "100\n"
     ]
    }
   ],
   "source": [
    "a = 100   # global scope\n",
    "\n",
    "def parent():\n",
    "    def some_sun():\n",
    "        return sum\n",
    "    return some_sun()\n",
    "\n",
    "print(parent())\n",
    "print(a)"
   ]
  },
  {
   "cell_type": "markdown",
   "id": "0971529c",
   "metadata": {},
   "source": [
    "nonlocal"
   ]
  },
  {
   "cell_type": "code",
   "execution_count": 94,
   "id": "a7d99859",
   "metadata": {},
   "outputs": [
    {
     "name": "stdout",
     "output_type": "stream",
     "text": [
      "inner:  nonlocal\n",
      "outer:  nonlocal\n"
     ]
    }
   ],
   "source": [
    "def outer():\n",
    "    x = 'local'\n",
    "    def inner():\n",
    "        nonlocal x\n",
    "        x = 'nonlocal'\n",
    "        print('inner: ', x)\n",
    "\n",
    "    inner()\n",
    "    print('outer: ', x)\n",
    "    \n",
    "outer()"
   ]
  }
 ],
 "metadata": {
  "kernelspec": {
   "display_name": "Python 3 (ipykernel)",
   "language": "python",
   "name": "python3"
  },
  "language_info": {
   "codemirror_mode": {
    "name": "ipython",
    "version": 3
   },
   "file_extension": ".py",
   "mimetype": "text/x-python",
   "name": "python",
   "nbconvert_exporter": "python",
   "pygments_lexer": "ipython3",
   "version": "3.9.7"
  }
 },
 "nbformat": 4,
 "nbformat_minor": 5
}
