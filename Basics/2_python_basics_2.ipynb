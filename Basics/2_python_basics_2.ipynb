{
 "cells": [
  {
   "cell_type": "markdown",
   "id": "b9824567",
   "metadata": {},
   "source": [
    "#### conditional logic"
   ]
  },
  {
   "cell_type": "code",
   "execution_count": 118,
   "id": "6875f19f",
   "metadata": {},
   "outputs": [
    {
     "name": "stdout",
     "output_type": "stream",
     "text": [
      "you are old enough to drive!\n",
      "Finish\n"
     ]
    }
   ],
   "source": [
    "is_old = True\n",
    "is_licenced = True\n",
    "\n",
    "if is_old:\n",
    "    print('you are old enough to drive!')\n",
    "else:\n",
    "    print('you are not old enough to drive!')\n",
    "    \n",
    "print('Finish')"
   ]
  },
  {
   "cell_type": "code",
   "execution_count": 119,
   "id": "89076f07",
   "metadata": {},
   "outputs": [
    {
     "name": "stdout",
     "output_type": "stream",
     "text": [
      "you can drive now!\n",
      "Finish\n"
     ]
    }
   ],
   "source": [
    "is_old = False\n",
    "is_licenced = True\n",
    "\n",
    "if is_old:\n",
    "    print('you are old enough to drive!')\n",
    "elif is_licenced:\n",
    "    print('you can drive now!')\n",
    "else:\n",
    "    print('Something went wrong!')\n",
    "    \n",
    "print('Finish')"
   ]
  },
  {
   "cell_type": "code",
   "execution_count": 120,
   "id": "c3566304",
   "metadata": {},
   "outputs": [
    {
     "name": "stdout",
     "output_type": "stream",
     "text": [
      "you are old enough to drive and you have a licence!\n",
      "Finish\n"
     ]
    }
   ],
   "source": [
    "is_old = True\n",
    "is_licenced = True\n",
    "\n",
    "if is_old and is_licenced:\n",
    "    print('you are old enough to drive and you have a licence!')\n",
    "else:\n",
    "    print(\"you can't drive!\")\n",
    "    \n",
    "print('Finish')"
   ]
  },
  {
   "cell_type": "code",
   "execution_count": 121,
   "id": "47551987",
   "metadata": {},
   "outputs": [
    {
     "name": "stdout",
     "output_type": "stream",
     "text": [
      "logging in...\n",
      "welcome\n"
     ]
    }
   ],
   "source": [
    "username = 'john'\n",
    "password = '1234'\n",
    "\n",
    "if username and password:\n",
    "    print('logging in...')\n",
    "    print('welcome')\n",
    "else:\n",
    "    print('Please check your username and password')"
   ]
  },
  {
   "cell_type": "code",
   "execution_count": 122,
   "id": "ccb46aa6",
   "metadata": {},
   "outputs": [
    {
     "name": "stdout",
     "output_type": "stream",
     "text": [
      "not allowed to message\n"
     ]
    }
   ],
   "source": [
    "is_friend = False\n",
    "can_message = \"message allowed\" if is_friend else \"not allowed to message\"\n",
    "\n",
    "print(can_message)"
   ]
  },
  {
   "cell_type": "markdown",
   "id": "54ac69d2",
   "metadata": {},
   "source": [
    "#### short circuiting"
   ]
  },
  {
   "cell_type": "code",
   "execution_count": 123,
   "id": "17258a18",
   "metadata": {},
   "outputs": [
    {
     "name": "stdout",
     "output_type": "stream",
     "text": [
      "True \n",
      "\n",
      "best friends forever\n"
     ]
    }
   ],
   "source": [
    "is_Friend = True\n",
    "is_User = True\n",
    "\n",
    "print(is_Friend and is_User, '\\n')\n",
    "\n",
    "if is_Friend and is_User:\n",
    "    print('best friends forever')"
   ]
  },
  {
   "cell_type": "code",
   "execution_count": 124,
   "id": "fda33064",
   "metadata": {},
   "outputs": [
    {
     "name": "stdout",
     "output_type": "stream",
     "text": [
      "not a friend\n"
     ]
    }
   ],
   "source": [
    "is_Friend = True\n",
    "is_User = True\n",
    "\n",
    "if False and is_User:\n",
    "    print('best friends forever')\n",
    "else:\n",
    "    print('not a friend')"
   ]
  },
  {
   "cell_type": "code",
   "execution_count": 125,
   "id": "a1c29f9e",
   "metadata": {},
   "outputs": [
    {
     "name": "stdout",
     "output_type": "stream",
     "text": [
      "best friends forever\n"
     ]
    }
   ],
   "source": [
    "is_Friend = True\n",
    "is_User = True\n",
    "\n",
    "if False or is_User:\n",
    "    print('best friends forever')\n",
    "else:\n",
    "    print('not a friend')"
   ]
  },
  {
   "cell_type": "markdown",
   "id": "bcc7a696",
   "metadata": {},
   "source": [
    "#### logical operators\n",
    "{>, <, >=, <=, ==, !=, not}"
   ]
  },
  {
   "cell_type": "code",
   "execution_count": 126,
   "id": "5ef8c7bd",
   "metadata": {},
   "outputs": [
    {
     "name": "stdout",
     "output_type": "stream",
     "text": [
      "False\n",
      "True \n",
      "\n",
      "False \n",
      "\n",
      "True\n",
      "False \n",
      "\n",
      "True\n",
      "False \n",
      "\n",
      "True \n",
      "\n",
      "False\n",
      "True\n"
     ]
    }
   ],
   "source": [
    "print(4 > 5)\n",
    "print(4 < 5, '\\n')\n",
    "\n",
    "print(1 < 2 > 3 < 4.,'\\n')\n",
    "\n",
    "print(0 <= 1)\n",
    "print(0 >= 1, '\\n')\n",
    "\n",
    "print(1 == 1)\n",
    "print(1 == 2, '\\n')\n",
    "\n",
    "print(1 != 2, '\\n')\n",
    "\n",
    "print(not(1 == 1))\n",
    "print(not(1 != 1))"
   ]
  },
  {
   "cell_type": "code",
   "execution_count": 127,
   "id": "8951b62e",
   "metadata": {},
   "outputs": [
    {
     "name": "stdout",
     "output_type": "stream",
     "text": [
      "You need magic powers\n"
     ]
    }
   ],
   "source": [
    "is_magician = False\n",
    "is_expert = False\n",
    "\n",
    "if is_magician and is_expert:\n",
    "    print('You are a master magician')\n",
    "elif is_magician and not is_expert:\n",
    "    print('At least you\\'re getting there')\n",
    "elif not is_magician:\n",
    "    print('You need magic powers')"
   ]
  },
  {
   "cell_type": "code",
   "execution_count": 128,
   "id": "3fb0967e",
   "metadata": {},
   "outputs": [
    {
     "name": "stdout",
     "output_type": "stream",
     "text": [
      "True\n",
      "False\n",
      "False\n",
      "True\n",
      "True\n"
     ]
    }
   ],
   "source": [
    "print(True == 1)\n",
    "print('' == 1)\n",
    "print([] == 1)\n",
    "print(10 == 10.0)\n",
    "print([] == [])"
   ]
  },
  {
   "cell_type": "markdown",
   "id": "7d3c477a",
   "metadata": {},
   "source": [
    "is"
   ]
  },
  {
   "cell_type": "code",
   "execution_count": 129,
   "id": "38ce6a81",
   "metadata": {},
   "outputs": [
    {
     "name": "stdout",
     "output_type": "stream",
     "text": [
      "True\n",
      "False\n",
      "True\n"
     ]
    },
    {
     "name": "stderr",
     "output_type": "stream",
     "text": [
      "<>:1: SyntaxWarning: \"is\" with a literal. Did you mean \"==\"?\n",
      "<>:3: SyntaxWarning: \"is\" with a literal. Did you mean \"==\"?\n",
      "<>:1: SyntaxWarning: \"is\" with a literal. Did you mean \"==\"?\n",
      "<>:3: SyntaxWarning: \"is\" with a literal. Did you mean \"==\"?\n",
      "C:\\Users\\gprab\\AppData\\Local\\Temp/ipykernel_1092/1774946001.py:1: SyntaxWarning: \"is\" with a literal. Did you mean \"==\"?\n",
      "  print(1 is 1)\n",
      "C:\\Users\\gprab\\AppData\\Local\\Temp/ipykernel_1092/1774946001.py:3: SyntaxWarning: \"is\" with a literal. Did you mean \"==\"?\n",
      "  print('hi' is 'hi')\n"
     ]
    }
   ],
   "source": [
    "print(1 is 1)\n",
    "print([] is [])\n",
    "print('hi' is 'hi')"
   ]
  },
  {
   "cell_type": "markdown",
   "id": "33ca9eec",
   "metadata": {},
   "source": [
    "#### Loops"
   ]
  },
  {
   "cell_type": "markdown",
   "id": "9bd17671",
   "metadata": {},
   "source": [
    "##### for loop"
   ]
  },
  {
   "cell_type": "code",
   "execution_count": 130,
   "id": "c152e7b3",
   "metadata": {},
   "outputs": [
    {
     "name": "stdout",
     "output_type": "stream",
     "text": [
      "h\n",
      "e\n",
      "l\n",
      "l\n",
      "o\n",
      " \n",
      "w\n",
      "o\n",
      "r\n",
      "l\n",
      "d\n"
     ]
    }
   ],
   "source": [
    "# iterate\n",
    "for item in 'hello world':\n",
    "    print(item)"
   ]
  },
  {
   "cell_type": "code",
   "execution_count": 131,
   "id": "178c3b53",
   "metadata": {},
   "outputs": [
    {
     "name": "stdout",
     "output_type": "stream",
     "text": [
      "1\n",
      "2\n",
      "3\n",
      "4\n",
      "5\n",
      "\n",
      " 5\n"
     ]
    }
   ],
   "source": [
    "for item in [1,2,3,4,5]:\n",
    "    print(item)  \n",
    "print('\\n',item)"
   ]
  },
  {
   "cell_type": "code",
   "execution_count": 132,
   "id": "ffe54877",
   "metadata": {},
   "outputs": [
    {
     "name": "stdout",
     "output_type": "stream",
     "text": [
      "a\n",
      "a\n",
      "b\n",
      "b\n",
      "c\n",
      "c\n",
      "d\n",
      "d\n",
      "\n",
      " d\n"
     ]
    }
   ],
   "source": [
    "for item in ('a', 'b', 'c', 'd'):\n",
    "    print(item)\n",
    "    print(item)\n",
    "print('\\n',item)"
   ]
  },
  {
   "cell_type": "markdown",
   "id": "d9b7739a",
   "metadata": {},
   "source": [
    "##### nested loops"
   ]
  },
  {
   "cell_type": "code",
   "execution_count": 133,
   "id": "741a4d72",
   "metadata": {},
   "outputs": [
    {
     "name": "stdout",
     "output_type": "stream",
     "text": [
      "1 a\n",
      "1 b\n",
      "1 c\n",
      "2 a\n",
      "2 b\n",
      "2 c\n",
      "3 a\n",
      "3 b\n",
      "3 c\n",
      "4 a\n",
      "4 b\n",
      "4 c\n",
      "5 a\n",
      "5 b\n",
      "5 c\n"
     ]
    }
   ],
   "source": [
    "for item in (1,2,3,4,5):\n",
    "    for x in ['a', 'b', 'c']:\n",
    "        print(item, x)"
   ]
  },
  {
   "cell_type": "markdown",
   "id": "23cc2278",
   "metadata": {},
   "source": [
    "iterable -> list, dictionary, tuple, set, string\n",
    "\n",
    "iterate -> one by one check each item in the collection"
   ]
  },
  {
   "cell_type": "code",
   "execution_count": 134,
   "id": "1e9dc21b",
   "metadata": {},
   "outputs": [
    {
     "name": "stdout",
     "output_type": "stream",
     "text": [
      "name\n",
      "age\n",
      "can_swim\n",
      " \n",
      "('name', 'Golam')\n",
      "('age', 22)\n",
      "('can_swim', False)\n",
      " \n",
      "Golam\n",
      "22\n",
      "False\n",
      " \n",
      "name\n",
      "age\n",
      "can_swim\n"
     ]
    }
   ],
   "source": [
    "user = {\n",
    "    'name': 'Golam',\n",
    "    'age': 22,\n",
    "    'can_swim': False\n",
    "}\n",
    "\n",
    "for item in user:\n",
    "    print(item)\n",
    "\n",
    "print(' ')\n",
    "for item in user.items():\n",
    "    print(item)\n",
    "    \n",
    "print(' ')\n",
    "for item in user.values():\n",
    "    print(item)\n",
    "    \n",
    "print(' ')\n",
    "for item in user.keys():\n",
    "    print(item)"
   ]
  },
  {
   "cell_type": "code",
   "execution_count": 135,
   "id": "656949e4",
   "metadata": {},
   "outputs": [
    {
     "name": "stdout",
     "output_type": "stream",
     "text": [
      "('name', 'Golam')\n",
      "('age', 22)\n",
      "('can_swim', False)\n",
      " \n",
      "name : Golam\n",
      "age : 22\n",
      "can_swim : False\n",
      " \n",
      "name : Golam\n",
      "age : 22\n",
      "can_swim : False\n"
     ]
    }
   ],
   "source": [
    "for item in user.items():\n",
    "    print(item)\n",
    "    \n",
    "print(' ')\n",
    "for item in user.items():\n",
    "    key, value = item\n",
    "    print(key, ':', value)\n",
    "    \n",
    "print(' ')\n",
    "for key, value in user.items():\n",
    "    print(key, ':', value)"
   ]
  },
  {
   "cell_type": "markdown",
   "id": "f0c5a411",
   "metadata": {},
   "source": [
    "##### exercise"
   ]
  },
  {
   "cell_type": "code",
   "execution_count": 136,
   "id": "b435be01",
   "metadata": {},
   "outputs": [
    {
     "name": "stdout",
     "output_type": "stream",
     "text": [
      "55\n"
     ]
    }
   ],
   "source": [
    "#counter\n",
    "my_list = [1,2,3,4,5,6,7,8,9,10]\n",
    "\n",
    "counter = 0\n",
    "for item in my_list:\n",
    "    counter += item\n",
    "#     print(counter)\n",
    "\n",
    "print(counter)"
   ]
  },
  {
   "cell_type": "code",
   "execution_count": 137,
   "id": "6c161b04",
   "metadata": {},
   "outputs": [
    {
     "name": "stdout",
     "output_type": "stream",
     "text": [
      "email sended to num:  1\n",
      "email sended to num:  2\n",
      "email sended to num:  3\n",
      "email sended to num:  4\n",
      "email sended to num:  5\n",
      "email sended to num:  6\n",
      "email sended to num:  7\n",
      "email sended to num:  8\n",
      "email sended to num:  9\n",
      "email sended to num:  10\n"
     ]
    }
   ],
   "source": [
    "for num in range(1, 11):\n",
    "    print('email sended to num: ',num)"
   ]
  },
  {
   "cell_type": "code",
   "execution_count": 138,
   "id": "88375895",
   "metadata": {},
   "outputs": [
    {
     "name": "stdout",
     "output_type": "stream",
     "text": [
      "0\n",
      "2\n",
      "4\n",
      "6\n",
      "8\n",
      "10\n",
      " \n",
      "10\n",
      "8\n",
      "6\n",
      "4\n",
      "2\n"
     ]
    }
   ],
   "source": [
    "for _ in range(0, 11, 2):\n",
    "    print(_)\n",
    "    \n",
    "print(' ')\n",
    "for _ in range(10, 0, -2):\n",
    "    print(_)"
   ]
  },
  {
   "cell_type": "code",
   "execution_count": 139,
   "id": "c6030f8c",
   "metadata": {},
   "outputs": [
    {
     "name": "stdout",
     "output_type": "stream",
     "text": [
      "[1, 2, 3, 4, 5, 6, 7, 8, 9, 10]\n",
      "[1, 2, 3, 4, 5, 6, 7, 8, 9, 10]\n",
      "[1, 2, 3, 4, 5, 6, 7, 8, 9, 10]\n",
      "[1, 2, 3, 4, 5, 6, 7, 8, 9, 10]\n",
      "[1, 2, 3, 4, 5, 6, 7, 8, 9, 10]\n"
     ]
    }
   ],
   "source": [
    "for _ in range(5):\n",
    "    print(list(range(1, 11)))"
   ]
  },
  {
   "cell_type": "markdown",
   "id": "59368cb3",
   "metadata": {},
   "source": [
    "##### enumerate"
   ]
  },
  {
   "cell_type": "code",
   "execution_count": 140,
   "id": "d516aff3",
   "metadata": {},
   "outputs": [
    {
     "name": "stdout",
     "output_type": "stream",
     "text": [
      "(0, 'H')\n",
      "(1, 'e')\n",
      "(2, 'l')\n",
      "(3, 'l')\n",
      "(4, 'o')\n",
      "(5, ' ')\n",
      "(6, 'W')\n",
      "(7, 'o')\n",
      "(8, 'r')\n",
      "(9, 'l')\n",
      "(10, 'd')\n"
     ]
    }
   ],
   "source": [
    "for char in enumerate('Hello World'):\n",
    "    print(char)"
   ]
  },
  {
   "cell_type": "code",
   "execution_count": 141,
   "id": "898caf2d",
   "metadata": {},
   "outputs": [
    {
     "name": "stdout",
     "output_type": "stream",
     "text": [
      "0 1\n",
      "1 2\n",
      "2 3\n",
      "3 4\n",
      "4 5\n",
      "5 6\n"
     ]
    }
   ],
   "source": [
    "for i,char in enumerate([1,2,3,4,5,6]):\n",
    "    print(i,char)"
   ]
  },
  {
   "cell_type": "code",
   "execution_count": 142,
   "id": "0f327921",
   "metadata": {},
   "outputs": [
    {
     "name": "stdout",
     "output_type": "stream",
     "text": [
      "0\n",
      "1\n",
      "2\n",
      "3\n",
      " \n",
      "1\n",
      "2\n",
      "3\n",
      "4\n"
     ]
    }
   ],
   "source": [
    "for i,char in enumerate((1,2,3,4)):\n",
    "    print(i)\n",
    "    \n",
    "print(' ')\n",
    "for i,char in enumerate((1,2,3,4)):\n",
    "    print(char)"
   ]
  },
  {
   "cell_type": "code",
   "execution_count": 143,
   "id": "63b0de6d",
   "metadata": {},
   "outputs": [
    {
     "name": "stdout",
     "output_type": "stream",
     "text": [
      "0 40\n",
      "1 41\n",
      "2 42\n",
      "3 43\n",
      "4 44\n",
      "5 45\n",
      "6 46\n",
      "7 47\n",
      "8 48\n",
      "9 49\n",
      "10 50\n",
      "index of 50 is: 10\n",
      "11 51\n",
      "12 52\n",
      "13 53\n",
      "14 54\n",
      "15 55\n",
      "16 56\n",
      "17 57\n",
      "18 58\n",
      "19 59\n",
      "20 60\n"
     ]
    }
   ],
   "source": [
    "for i,char in enumerate(list(range(40, 61))):\n",
    "    print(i, char)\n",
    "    if char == 50:\n",
    "        print(f'index of 50 is: {i}')"
   ]
  },
  {
   "cell_type": "markdown",
   "id": "ebbd9a14",
   "metadata": {},
   "source": [
    "##### while loop"
   ]
  },
  {
   "cell_type": "code",
   "execution_count": 144,
   "id": "f7baa61d",
   "metadata": {},
   "outputs": [
    {
     "name": "stdout",
     "output_type": "stream",
     "text": [
      "0\n",
      "1\n",
      "2\n",
      "3\n",
      "4\n",
      "5\n",
      "6\n",
      "7\n",
      "8\n",
      "9\n",
      "10\n",
      "11\n",
      "12\n",
      "13\n",
      "14\n",
      "15\n",
      "16\n",
      "17\n",
      "18\n",
      "19\n",
      "Done with all the work\n"
     ]
    }
   ],
   "source": [
    "i = 0\n",
    "while i < 20:\n",
    "    print(i)\n",
    "    i += 1\n",
    "print('Done with all the work')"
   ]
  },
  {
   "cell_type": "code",
   "execution_count": 145,
   "id": "9d1bd845",
   "metadata": {},
   "outputs": [
    {
     "name": "stdout",
     "output_type": "stream",
     "text": [
      "0\n",
      "1\n",
      "2\n",
      "3\n",
      "4\n",
      "5\n",
      "6\n",
      "7\n",
      "8\n",
      "9\n",
      "10\n",
      "11\n",
      "12\n",
      "13\n",
      "14\n",
      "15\n",
      "16\n",
      "17\n",
      "18\n",
      "19\n",
      "Done with all the work\n"
     ]
    }
   ],
   "source": [
    "i = 0\n",
    "while i < 20:\n",
    "    print(i)\n",
    "    i += 1\n",
    "#     break\n",
    "else:\n",
    "    print('Done with all the work')"
   ]
  },
  {
   "cell_type": "code",
   "execution_count": 146,
   "id": "16b4e3e1",
   "metadata": {},
   "outputs": [
    {
     "name": "stdout",
     "output_type": "stream",
     "text": [
      "1\n",
      "2\n",
      "3\n",
      "4\n",
      "5\n"
     ]
    }
   ],
   "source": [
    "my_list = [1,2,3,4,5]\n",
    "i = 0\n",
    "\n",
    "while i < len(my_list):\n",
    "    print(my_list[i])\n",
    "    i += 1"
   ]
  },
  {
   "cell_type": "code",
   "execution_count": 147,
   "id": "968800b4",
   "metadata": {},
   "outputs": [
    {
     "name": "stdout",
     "output_type": "stream",
     "text": [
      "say 'bye' to exit\n",
      "say something: hi\n",
      "say something: fgfg\n",
      "say something: fgdfg\n",
      "say something: fgd\n",
      "say something: bye\n"
     ]
    }
   ],
   "source": [
    "print('say \\'bye\\' to exit')\n",
    "\n",
    "while True:\n",
    "    res = input('say something: ')\n",
    "    if (res == 'bye'):\n",
    "        break"
   ]
  },
  {
   "cell_type": "code",
   "execution_count": 148,
   "id": "855d7887",
   "metadata": {},
   "outputs": [
    {
     "name": "stdout",
     "output_type": "stream",
     "text": [
      "1\n",
      "2\n",
      "3\n",
      " \n"
     ]
    }
   ],
   "source": [
    "my_list = [1,2,3]\n",
    "for item in my_list:\n",
    "    print(item)\n",
    "    continue\n",
    "    \n",
    "print(' ')\n",
    "for item in my_list:\n",
    "    continue\n",
    "    print(item)"
   ]
  },
  {
   "cell_type": "code",
   "execution_count": 149,
   "id": "85925119",
   "metadata": {},
   "outputs": [
    {
     "name": "stdout",
     "output_type": "stream",
     "text": [
      "say something: gdfg\n",
      "say something: fgdfg\n",
      "say something: dffgdfg\n",
      "say something: dfg\n",
      "say something: bye\n"
     ]
    }
   ],
   "source": [
    "while True:\n",
    "    res = input('say something: ')\n",
    "    if (res == 'hi'):\n",
    "        continue\n",
    "    elif (res == 'bye'):\n",
    "        break"
   ]
  },
  {
   "cell_type": "code",
   "execution_count": 150,
   "id": "bb518f86",
   "metadata": {},
   "outputs": [
    {
     "name": "stdout",
     "output_type": "stream",
     "text": [
      "0\n",
      "1\n",
      "2\n",
      "3\n",
      "4\n",
      "5\n",
      "6\n",
      "7\n",
      "8\n",
      "9\n"
     ]
    }
   ],
   "source": [
    "for i in range(10):\n",
    "    pass\n",
    "    print(i)"
   ]
  },
  {
   "cell_type": "markdown",
   "id": "e48a9f0c",
   "metadata": {},
   "source": [
    "##### exercise"
   ]
  },
  {
   "cell_type": "code",
   "execution_count": 151,
   "id": "a09a22ea",
   "metadata": {},
   "outputs": [
    {
     "name": "stdout",
     "output_type": "stream",
     "text": [
      "   *   \n",
      "  ***  \n",
      " ****  \n",
      "*******\n",
      "   *   \n",
      "   *   \n"
     ]
    }
   ],
   "source": [
    "picture = [\n",
    "    [0,0,0,1,0,0,0],\n",
    "    [0,0,1,1,1,0,0],\n",
    "    [0,1,1,1,1,0,0],\n",
    "    [1,1,1,1,1,1,1],\n",
    "    [0,0,0,1,0,0,0],\n",
    "    [0,0,0,1,0,0,0]\n",
    "]\n",
    "\n",
    "# iterate over picture\n",
    "    # if 0 -> print blank_space\n",
    "    # if 1 -> print *\n",
    "    \n",
    "for row in picture:\n",
    "    for pixel in row:\n",
    "        if (pixel == 1):\n",
    "            print('*', end='')\n",
    "        else:\n",
    "            print(' ', end='')\n",
    "    print('') # need a new line after every row"
   ]
  },
  {
   "cell_type": "markdown",
   "id": "bce851b8",
   "metadata": {},
   "source": [
    "##### check duplicates in list"
   ]
  },
  {
   "cell_type": "code",
   "execution_count": 152,
   "id": "d46b4415",
   "metadata": {},
   "outputs": [
    {
     "name": "stdout",
     "output_type": "stream",
     "text": [
      "['a', 'b', 'e']\n"
     ]
    }
   ],
   "source": [
    "some_list = ['a', 'b', 'c', 'b', 'a', 'd', 'e', 'e']\n",
    "\n",
    "duplicates = []\n",
    "for value in some_list:\n",
    "    if some_list.count(value) > 1:\n",
    "        if value not in duplicates:\n",
    "            duplicates.append(value)\n",
    "        \n",
    "print(duplicates)"
   ]
  },
  {
   "cell_type": "markdown",
   "id": "5fa41ff3",
   "metadata": {},
   "source": [
    "#### functions\n",
    "DRY - Don't Repeat Yourself"
   ]
  },
  {
   "cell_type": "code",
   "execution_count": 153,
   "id": "95e95341",
   "metadata": {},
   "outputs": [
    {
     "name": "stdout",
     "output_type": "stream",
     "text": [
      "Computer is saying, Hello\n"
     ]
    }
   ],
   "source": [
    "def say_hello():\n",
    "    print('Computer is saying, Hello')\n",
    "\n",
    "say_hello()"
   ]
  },
  {
   "cell_type": "code",
   "execution_count": 154,
   "id": "89fb12f8",
   "metadata": {},
   "outputs": [
    {
     "name": "stdout",
     "output_type": "stream",
     "text": [
      "   *   \n",
      "  ***  \n",
      " ****  \n",
      "*******\n",
      "   *   \n",
      "   *   \n",
      "\n",
      "   *   \n",
      "  ***  \n",
      " ****  \n",
      "*******\n",
      "   *   \n",
      "   *   \n",
      "\n",
      "<function show_tree at 0x0000019BF0225550>\n"
     ]
    }
   ],
   "source": [
    "picture = [\n",
    "    [0,0,0,1,0,0,0],\n",
    "    [0,0,1,1,1,0,0],\n",
    "    [0,1,1,1,1,0,0],\n",
    "    [1,1,1,1,1,1,1],\n",
    "    [0,0,0,1,0,0,0],\n",
    "    [0,0,0,1,0,0,0]\n",
    "]\n",
    "\n",
    "def show_tree():\n",
    "    for row in picture:\n",
    "        for pixel in row:\n",
    "            if (pixel == 1):\n",
    "                print('*', end='')\n",
    "            else:\n",
    "                print(' ', end='')\n",
    "        print('')\n",
    "        \n",
    "show_tree()\n",
    "\n",
    "print('')\n",
    "show_tree()\n",
    "\n",
    "print('')\n",
    "print(show_tree)"
   ]
  },
  {
   "cell_type": "markdown",
   "id": "3b9b6816",
   "metadata": {},
   "source": [
    "#### arguments vs parameters"
   ]
  },
  {
   "cell_type": "code",
   "execution_count": 155,
   "id": "4dff1699",
   "metadata": {},
   "outputs": [
    {
     "name": "stdout",
     "output_type": "stream",
     "text": [
      "Addition of 12 and 32 is: 44\n",
      "Addition of 1 and 4 is: 5\n"
     ]
    }
   ],
   "source": [
    "# parameters\n",
    "def addition(a,b):\n",
    "    print(f'Addition of {a} and {b} is: {a+b}')\n",
    "\n",
    "# arguments\n",
    "addition(12,32)  #call, invoking function\n",
    "addition(1,4)"
   ]
  },
  {
   "cell_type": "code",
   "execution_count": 156,
   "id": "3ce1f81a",
   "metadata": {},
   "outputs": [
    {
     "name": "stdout",
     "output_type": "stream",
     "text": [
      "hello, Prabhat 😀😀\n"
     ]
    }
   ],
   "source": [
    "# positional parameters\n",
    "def say_hello(name, emoji):\n",
    "    print(f'hello, {name} {emoji}')\n",
    "    \n",
    "# positional arguments\n",
    "say_hello('Prabhat', '😀😀')"
   ]
  },
  {
   "cell_type": "markdown",
   "id": "a5b4d34a",
   "metadata": {},
   "source": [
    "#### default parameters"
   ]
  },
  {
   "cell_type": "code",
   "execution_count": 157,
   "id": "0d47049e",
   "metadata": {},
   "outputs": [
    {
     "name": "stdout",
     "output_type": "stream",
     "text": [
      "hellloooo Prabhat 👍\n",
      "hellloooo John 😁\n",
      "hellloooo Vedas 👌\n",
      "\n",
      "hellloooo Jhonny 👌\n",
      "hellloooo Vedas 🤣\n"
     ]
    }
   ],
   "source": [
    "def say_about(name='Vedas', emoji='👌'):\n",
    "    print(f'hellloooo {name} {emoji}')\n",
    "    \n",
    "say_about('Prabhat', '👍')\n",
    "say_about(name='John', emoji='😁')\n",
    "say_about()\n",
    "\n",
    "print('')\n",
    "say_about('Jhonny')\n",
    "say_about(emoji='🤣')"
   ]
  },
  {
   "cell_type": "code",
   "execution_count": 158,
   "id": "10b8e24a",
   "metadata": {},
   "outputs": [
    {
     "name": "stdout",
     "output_type": "stream",
     "text": [
      "9\n",
      "117\n"
     ]
    }
   ],
   "source": [
    "def add(num1, num2):\n",
    "    return num1 + num2\n",
    "    \n",
    "print(add(4,5))\n",
    "print(add(54,63))"
   ]
  },
  {
   "cell_type": "code",
   "execution_count": 159,
   "id": "81e7ecbc",
   "metadata": {},
   "outputs": [
    {
     "name": "stdout",
     "output_type": "stream",
     "text": [
      "43\n"
     ]
    }
   ],
   "source": [
    "def add(num1, num2):\n",
    "    def another_func(n1, n2):\n",
    "        return n1 + n2\n",
    "    return another_func(num1, num2)\n",
    "\n",
    "total = add(21, 22)\n",
    "print(total)"
   ]
  },
  {
   "cell_type": "markdown",
   "id": "77bc4058",
   "metadata": {},
   "source": [
    "#### doc string"
   ]
  },
  {
   "cell_type": "code",
   "execution_count": 160,
   "id": "e38caa4e",
   "metadata": {},
   "outputs": [
    {
     "name": "stdout",
     "output_type": "stream",
     "text": [
      "57\n",
      "\n",
      "    Info: This function returns sum of numbers\n",
      "    \n"
     ]
    }
   ],
   "source": [
    "def test(a, b):\n",
    "    '''\n",
    "    Info: This function returns sum of numbers\n",
    "    '''\n",
    "    return a + b\n",
    "    \n",
    "print(test(12,45))\n",
    "print(test.__doc__)"
   ]
  },
  {
   "cell_type": "markdown",
   "id": "fe2e8a14",
   "metadata": {},
   "source": [
    "#### clean code"
   ]
  },
  {
   "cell_type": "code",
   "execution_count": 161,
   "id": "08178041",
   "metadata": {},
   "outputs": [
    {
     "name": "stdout",
     "output_type": "stream",
     "text": [
      "True\n"
     ]
    }
   ],
   "source": [
    "def is_even(num):\n",
    "    if num % 2 == 0:\n",
    "        return True\n",
    "    elif num % 2 != 0:\n",
    "        return False\n",
    "    \n",
    "print(is_even(22))"
   ]
  },
  {
   "cell_type": "code",
   "execution_count": 162,
   "id": "f916fcfe",
   "metadata": {},
   "outputs": [
    {
     "name": "stdout",
     "output_type": "stream",
     "text": [
      "True\n"
     ]
    }
   ],
   "source": [
    "def is_even(num):\n",
    "    if num % 2 == 0:\n",
    "        return True\n",
    "    else:\n",
    "        return False\n",
    "    \n",
    "print(is_even(22))"
   ]
  },
  {
   "cell_type": "code",
   "execution_count": 163,
   "id": "5795d1f0",
   "metadata": {},
   "outputs": [
    {
     "name": "stdout",
     "output_type": "stream",
     "text": [
      "True\n"
     ]
    }
   ],
   "source": [
    "def is_even(num):\n",
    "    if num % 2 == 0:\n",
    "        return True\n",
    "    return False\n",
    "    \n",
    "print(is_even(22))"
   ]
  },
  {
   "cell_type": "code",
   "execution_count": 178,
   "id": "34efeeb9",
   "metadata": {},
   "outputs": [
    {
     "name": "stdout",
     "output_type": "stream",
     "text": [
      "True\n"
     ]
    }
   ],
   "source": [
    "def is_even(num):\n",
    "    return num % 2 == 0\n",
    "    \n",
    "print(is_even(22))"
   ]
  }
 ],
 "metadata": {
  "kernelspec": {
   "display_name": "Python 3 (ipykernel)",
   "language": "python",
   "name": "python3"
  },
  "language_info": {
   "codemirror_mode": {
    "name": "ipython",
    "version": 3
   },
   "file_extension": ".py",
   "mimetype": "text/x-python",
   "name": "python",
   "nbconvert_exporter": "python",
   "pygments_lexer": "ipython3",
   "version": "3.9.7"
  },
  "toc": {
   "base_numbering": 1,
   "nav_menu": {},
   "number_sections": false,
   "sideBar": true,
   "skip_h1_title": false,
   "title_cell": "Table of Contents",
   "title_sidebar": "Contents",
   "toc_cell": false,
   "toc_position": {},
   "toc_section_display": true,
   "toc_window_display": true
  }
 },
 "nbformat": 4,
 "nbformat_minor": 5
}
