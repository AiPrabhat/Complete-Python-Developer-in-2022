{
 "cells": [
  {
   "cell_type": "markdown",
   "id": "a71c5be1",
   "metadata": {},
   "source": [
    "#### Functional Programming\n",
    "\n",
    "#### Decorators"
   ]
  },
  {
   "cell_type": "markdown",
   "id": "84fb6500",
   "metadata": {},
   "source": [
    "Pure Function"
   ]
  },
  {
   "cell_type": "code",
   "execution_count": 63,
   "id": "948be39a",
   "metadata": {},
   "outputs": [
    {
     "name": "stdout",
     "output_type": "stream",
     "text": [
      "[2, 4, 6, 8, 10]\n"
     ]
    }
   ],
   "source": [
    "def multiply_by2(li):\n",
    "    new_list = []\n",
    "    for item in li:\n",
    "        new_list.append(item*2)\n",
    "    return new_list\n",
    "\n",
    "print(multiply_by2([1,2,3,4,5]))"
   ]
  },
  {
   "cell_type": "markdown",
   "id": "8c1bdecd",
   "metadata": {},
   "source": [
    "useful functions"
   ]
  },
  {
   "cell_type": "markdown",
   "id": "51aac1f1",
   "metadata": {},
   "source": [
    "map"
   ]
  },
  {
   "cell_type": "code",
   "execution_count": 64,
   "id": "340819f8",
   "metadata": {},
   "outputs": [
    {
     "name": "stdout",
     "output_type": "stream",
     "text": [
      "[2, 4, 6, 8]\n",
      "[1, 2, 3, 4]\n"
     ]
    }
   ],
   "source": [
    "# map\n",
    "my_list = [1,2,3,4]\n",
    "def multiply_by2(item):\n",
    "    return item*2\n",
    "\n",
    "print(list(map(multiply_by2, my_list)))\n",
    "print(my_list)"
   ]
  },
  {
   "cell_type": "markdown",
   "id": "31591a2b",
   "metadata": {},
   "source": [
    "filter"
   ]
  },
  {
   "cell_type": "code",
   "execution_count": 65,
   "id": "5b012ce1",
   "metadata": {},
   "outputs": [
    {
     "name": "stdout",
     "output_type": "stream",
     "text": [
      "[1, 3]\n",
      "[1, 2, 3, 4]\n"
     ]
    }
   ],
   "source": [
    "my_list = [1,2,3,4]\n",
    "def only_odd(item):\n",
    "    return item % 2 != 0\n",
    "\n",
    "print(list(filter(only_odd, my_list)))\n",
    "print(my_list)"
   ]
  },
  {
   "cell_type": "markdown",
   "id": "6e73c74d",
   "metadata": {},
   "source": [
    "zip"
   ]
  },
  {
   "cell_type": "code",
   "execution_count": 66,
   "id": "95c176b6",
   "metadata": {},
   "outputs": [
    {
     "name": "stdout",
     "output_type": "stream",
     "text": [
      "[(1, 5), (2, 6), (3, 7), (4, 8)]\n"
     ]
    }
   ],
   "source": [
    "my_list = [1,2,3,4]\n",
    "your_list = [5,6,7,8]\n",
    "\n",
    "print(list(zip(my_list, your_list)))"
   ]
  },
  {
   "cell_type": "code",
   "execution_count": 67,
   "id": "94a99bdc",
   "metadata": {},
   "outputs": [
    {
     "name": "stdout",
     "output_type": "stream",
     "text": [
      "[(1, 5, 9), (2, 6, 10), (3, 7, 11), (4, 8, 12)]\n"
     ]
    }
   ],
   "source": [
    "my_list = [1,2,3,4]\n",
    "your_list = (5,6,7,8)\n",
    "their_list = {9,10,11,12}\n",
    "\n",
    "print(list(zip(my_list, your_list, their_list)))"
   ]
  },
  {
   "cell_type": "markdown",
   "id": "ee8dd0ad",
   "metadata": {},
   "source": [
    "reduce"
   ]
  },
  {
   "cell_type": "code",
   "execution_count": 68,
   "id": "ada5dd70",
   "metadata": {},
   "outputs": [
    {
     "name": "stdout",
     "output_type": "stream",
     "text": [
      "10\n"
     ]
    }
   ],
   "source": [
    "from functools import reduce\n",
    "my_list = [1,2,3,4]\n",
    "def accumulator(acc, item):\n",
    "#     print(acc, item)\n",
    "    return acc + item\n",
    "\n",
    "print(reduce(accumulator ,my_list, 0))"
   ]
  },
  {
   "cell_type": "markdown",
   "id": "b0f8c100",
   "metadata": {},
   "source": [
    "lambda expressions"
   ]
  },
  {
   "cell_type": "code",
   "execution_count": 69,
   "id": "eadd159d",
   "metadata": {},
   "outputs": [
    {
     "name": "stdout",
     "output_type": "stream",
     "text": [
      "[2, 4, 6, 8]\n"
     ]
    }
   ],
   "source": [
    "# lambda param: action(param)\n",
    "print(list(map(lambda item: item*2, [1,2,3,4])))"
   ]
  },
  {
   "cell_type": "code",
   "execution_count": 70,
   "id": "2b4c684c",
   "metadata": {},
   "outputs": [
    {
     "name": "stdout",
     "output_type": "stream",
     "text": [
      "[2, 4]\n"
     ]
    }
   ],
   "source": [
    "print(list(filter(lambda item: item%2 == 0, [1,2,3,4])))"
   ]
  },
  {
   "cell_type": "code",
   "execution_count": 71,
   "id": "1e834748",
   "metadata": {},
   "outputs": [
    {
     "name": "stdout",
     "output_type": "stream",
     "text": [
      "10\n"
     ]
    }
   ],
   "source": [
    "print(reduce(lambda acc, item: acc + item, [1,2,3,4]))"
   ]
  },
  {
   "cell_type": "markdown",
   "id": "0320dd07",
   "metadata": {},
   "source": [
    "ecercise"
   ]
  },
  {
   "cell_type": "code",
   "execution_count": 72,
   "id": "8f7ce956",
   "metadata": {},
   "outputs": [
    {
     "name": "stdout",
     "output_type": "stream",
     "text": [
      "[25, 16, 9, 4]\n"
     ]
    }
   ],
   "source": [
    "# Square\n",
    "my_list = [5,4,3,2]\n",
    "\n",
    "new_list = list(map(lambda item: item**2, my_list))\n",
    "print(new_list)"
   ]
  },
  {
   "cell_type": "code",
   "execution_count": 73,
   "id": "4502df4c",
   "metadata": {},
   "outputs": [
    {
     "name": "stdout",
     "output_type": "stream",
     "text": [
      "[(10, -1), (1, 2), (7, 9), (9, 9)]\n"
     ]
    }
   ],
   "source": [
    "# Sorting\n",
    "my_list = [(1,2), (7,9), (9,9), (10, -1)]\n",
    "\n",
    "my_list.sort(key=lambda x: x[1])\n",
    "print(my_list)"
   ]
  },
  {
   "cell_type": "markdown",
   "id": "304e5b43",
   "metadata": {},
   "source": [
    "#### Decorators"
   ]
  },
  {
   "cell_type": "code",
   "execution_count": 74,
   "id": "8ebe5524",
   "metadata": {},
   "outputs": [
    {
     "name": "stdout",
     "output_type": "stream",
     "text": [
      "still here!\n",
      "None\n"
     ]
    }
   ],
   "source": [
    "def hello(func):\n",
    "    func()\n",
    "    \n",
    "def greet():\n",
    "    print('still here!')\n",
    "    \n",
    "a = hello(greet)\n",
    "\n",
    "print(a)"
   ]
  },
  {
   "cell_type": "code",
   "execution_count": 75,
   "id": "008b0814",
   "metadata": {},
   "outputs": [],
   "source": [
    "# Higher Order Function --> HOC\n",
    "\n",
    "def greet(func):\n",
    "    func()\n",
    "    \n",
    "def greet2():\n",
    "    def func():\n",
    "        return 5\n",
    "    return func"
   ]
  },
  {
   "cell_type": "code",
   "execution_count": 76,
   "id": "e004f3a5",
   "metadata": {},
   "outputs": [
    {
     "name": "stdout",
     "output_type": "stream",
     "text": [
      "***********\n",
      "helllooooo\n",
      "***********\n",
      "\n",
      "byeee\n"
     ]
    }
   ],
   "source": [
    "# Decorator\n",
    "\n",
    "def my_decorator(func):\n",
    "    def wrap_func():\n",
    "        print('***********')\n",
    "        func()\n",
    "        print('***********')\n",
    "    return wrap_func\n",
    "\n",
    "@my_decorator\n",
    "def hello():\n",
    "    print('helllooooo')\n",
    "    \n",
    "hello()\n",
    "\n",
    "def bye():\n",
    "    print('\\nbyeee')\n",
    "bye()"
   ]
  },
  {
   "cell_type": "code",
   "execution_count": 77,
   "id": "5faac0ae",
   "metadata": {},
   "outputs": [
    {
     "name": "stdout",
     "output_type": "stream",
     "text": [
      "***********\n",
      "helllooooo\n",
      "***********\n"
     ]
    }
   ],
   "source": [
    "def my_decorator(func):\n",
    "    def wrap_func():\n",
    "        print('***********')\n",
    "        func()\n",
    "        print('***********')\n",
    "    return wrap_func\n",
    "\n",
    "def hello():\n",
    "    print('helllooooo')\n",
    "    \n",
    "hello2 = my_decorator(hello)()"
   ]
  },
  {
   "cell_type": "code",
   "execution_count": 78,
   "id": "a21e79a1",
   "metadata": {},
   "outputs": [
    {
     "name": "stdout",
     "output_type": "stream",
     "text": [
      "***********\n",
      "Hiiiii\n",
      "***********\n"
     ]
    }
   ],
   "source": [
    "def my_decorator(func):\n",
    "    def wrap_func(x):\n",
    "        print('***********')\n",
    "        func(x)\n",
    "        print('***********')\n",
    "    return wrap_func\n",
    "\n",
    "@my_decorator\n",
    "def hello(greeting):\n",
    "    print(greeting)\n",
    "    \n",
    "hello('Hiiiii')"
   ]
  },
  {
   "cell_type": "code",
   "execution_count": 79,
   "id": "7ad595d0",
   "metadata": {},
   "outputs": [
    {
     "name": "stdout",
     "output_type": "stream",
     "text": [
      "***********\n",
      "Hiiiii :)\n",
      "***********\n"
     ]
    }
   ],
   "source": [
    "def my_decorator(func):\n",
    "    def wrap_func(x, y):\n",
    "        print('***********')\n",
    "        func(x, y)\n",
    "        print('***********')\n",
    "    return wrap_func\n",
    "\n",
    "@my_decorator\n",
    "def hello(greeting, emoji):\n",
    "    print(greeting, emoji)\n",
    "    \n",
    "hello('Hiiiii', ':)')"
   ]
  },
  {
   "cell_type": "code",
   "execution_count": 80,
   "id": "9681d917",
   "metadata": {},
   "outputs": [
    {
     "name": "stdout",
     "output_type": "stream",
     "text": [
      "***********\n",
      "Helloo :(\n",
      "***********\n"
     ]
    }
   ],
   "source": [
    "# Decorator Pattern\n",
    "def my_decorator(func):\n",
    "    def wrap_func(*args, **kwargs):\n",
    "        print('***********')\n",
    "        func(*args, *kwargs)\n",
    "        print('***********')\n",
    "    return wrap_func\n",
    "\n",
    "@my_decorator\n",
    "def hello(greeting, emoji=':('):\n",
    "    print(greeting, emoji)\n",
    "    \n",
    "hello('Helloo')"
   ]
  },
  {
   "cell_type": "code",
   "execution_count": 81,
   "id": "bcb413f5",
   "metadata": {},
   "outputs": [
    {
     "name": "stdout",
     "output_type": "stream",
     "text": [
      "took 1.5521361827850342 s\n"
     ]
    }
   ],
   "source": [
    "from time import time\n",
    "\n",
    "def performance(fn):\n",
    "    def wrapper(*args, **kwargs):\n",
    "        t1 = time()\n",
    "        result = fn(*args, **kwargs)\n",
    "        t2 = time()\n",
    "        print(f'took {t2 - t1} s')\n",
    "        return result\n",
    "    return wrapper\n",
    "\n",
    "@performance\n",
    "def long_time():\n",
    "    for i in range(10000000):\n",
    "        i*5\n",
    "        \n",
    "long_time()"
   ]
  }
 ],
 "metadata": {
  "kernelspec": {
   "display_name": "Python 3 (ipykernel)",
   "language": "python",
   "name": "python3"
  },
  "language_info": {
   "codemirror_mode": {
    "name": "ipython",
    "version": 3
   },
   "file_extension": ".py",
   "mimetype": "text/x-python",
   "name": "python",
   "nbconvert_exporter": "python",
   "pygments_lexer": "ipython3",
   "version": "3.9.7"
  }
 },
 "nbformat": 4,
 "nbformat_minor": 5
}
