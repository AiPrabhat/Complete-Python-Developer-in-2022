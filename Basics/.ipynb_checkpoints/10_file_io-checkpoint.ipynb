{
 "cells": [
  {
   "cell_type": "markdown",
   "id": "35951b7c",
   "metadata": {},
   "source": [
    "#### read file"
   ]
  },
  {
   "cell_type": "code",
   "execution_count": 1,
   "id": "bfeb282e",
   "metadata": {},
   "outputs": [
    {
     "name": "stdout",
     "output_type": "stream",
     "text": [
      "<_io.TextIOWrapper name='10_io_sample.txt' mode='r' encoding='cp1252'> \n",
      "\n",
      "\n"
     ]
    }
   ],
   "source": [
    "my_file = open('10_io_sample.txt')\n",
    "\n",
    "print(my_file,'\\n')\n",
    "print(my_file.read())"
   ]
  },
  {
   "cell_type": "code",
   "execution_count": 2,
   "id": "a3141ca5",
   "metadata": {},
   "outputs": [
    {
     "name": "stdout",
     "output_type": "stream",
     "text": [
      "\n",
      "\n",
      "\n"
     ]
    }
   ],
   "source": [
    "print(my_file.read())\n",
    "print(my_file.read())\n",
    "print(my_file.read())"
   ]
  },
  {
   "cell_type": "code",
   "execution_count": 3,
   "id": "7609b9ca",
   "metadata": {},
   "outputs": [
    {
     "name": "stdout",
     "output_type": "stream",
     "text": [
      "\n",
      "\n"
     ]
    }
   ],
   "source": [
    "my_file.seek(0)\n",
    "print(my_file.read())\n",
    "my_file.seek(0)\n",
    "print(my_file.read())"
   ]
  },
  {
   "cell_type": "code",
   "execution_count": 4,
   "id": "05599a36",
   "metadata": {},
   "outputs": [
    {
     "name": "stdout",
     "output_type": "stream",
     "text": [
      "\n",
      "\n",
      "\n"
     ]
    }
   ],
   "source": [
    "my_file.seek(0)\n",
    "print(my_file.readline())\n",
    "print(my_file.readline())\n",
    "print(my_file.readline())"
   ]
  },
  {
   "cell_type": "code",
   "execution_count": 5,
   "id": "d7c5a13e",
   "metadata": {},
   "outputs": [
    {
     "name": "stdout",
     "output_type": "stream",
     "text": [
      "[]\n"
     ]
    }
   ],
   "source": [
    "my_file.seek(0)\n",
    "print(my_file.readlines())"
   ]
  },
  {
   "cell_type": "code",
   "execution_count": 6,
   "id": "a9b2287c",
   "metadata": {},
   "outputs": [],
   "source": [
    "my_file.close()"
   ]
  },
  {
   "cell_type": "code",
   "execution_count": 7,
   "id": "a0b1ff1a",
   "metadata": {},
   "outputs": [
    {
     "name": "stdout",
     "output_type": "stream",
     "text": [
      "[]\n"
     ]
    }
   ],
   "source": [
    "# this way we don't have to close a file\n",
    "\n",
    "with open('10_io_sample.txt') as my_file:\n",
    "    print(my_file.readlines())"
   ]
  },
  {
   "cell_type": "code",
   "execution_count": 8,
   "id": "cddac1ab",
   "metadata": {},
   "outputs": [
    {
     "name": "stdout",
     "output_type": "stream",
     "text": [
      "[]\n"
     ]
    }
   ],
   "source": [
    "with open('10_io_sample.txt', mode='r') as my_file:\n",
    "    print(my_file.readlines())"
   ]
  },
  {
   "cell_type": "code",
   "execution_count": 9,
   "id": "a7760cb4",
   "metadata": {},
   "outputs": [
    {
     "ename": "UnsupportedOperation",
     "evalue": "not readable",
     "output_type": "error",
     "traceback": [
      "\u001b[1;31m---------------------------------------------------------------------------\u001b[0m",
      "\u001b[1;31mUnsupportedOperation\u001b[0m                      Traceback (most recent call last)",
      "\u001b[1;32m~\\AppData\\Local\\Temp/ipykernel_11664/184119084.py\u001b[0m in \u001b[0;36m<module>\u001b[1;34m\u001b[0m\n\u001b[0;32m      1\u001b[0m \u001b[1;32mwith\u001b[0m \u001b[0mopen\u001b[0m\u001b[1;33m(\u001b[0m\u001b[1;34m'10_io_sample.txt'\u001b[0m\u001b[1;33m,\u001b[0m \u001b[0mmode\u001b[0m\u001b[1;33m=\u001b[0m\u001b[1;34m'w'\u001b[0m\u001b[1;33m)\u001b[0m \u001b[1;32mas\u001b[0m \u001b[0mmy_file\u001b[0m\u001b[1;33m:\u001b[0m\u001b[1;33m\u001b[0m\u001b[1;33m\u001b[0m\u001b[0m\n\u001b[1;32m----> 2\u001b[1;33m     \u001b[0mprint\u001b[0m\u001b[1;33m(\u001b[0m\u001b[0mmy_file\u001b[0m\u001b[1;33m.\u001b[0m\u001b[0mreadlines\u001b[0m\u001b[1;33m(\u001b[0m\u001b[1;33m)\u001b[0m\u001b[1;33m)\u001b[0m\u001b[1;33m\u001b[0m\u001b[1;33m\u001b[0m\u001b[0m\n\u001b[0m",
      "\u001b[1;31mUnsupportedOperation\u001b[0m: not readable"
     ]
    }
   ],
   "source": [
    "with open('10_io_sample.txt', mode='w') as my_file:\n",
    "    print(my_file.readlines())"
   ]
  },
  {
   "cell_type": "code",
   "execution_count": 11,
   "id": "7aecab96",
   "metadata": {},
   "outputs": [
    {
     "ename": "ValueError",
     "evalue": "must have exactly one of create/read/write/append mode",
     "output_type": "error",
     "traceback": [
      "\u001b[1;31m---------------------------------------------------------------------------\u001b[0m",
      "\u001b[1;31mValueError\u001b[0m                                Traceback (most recent call last)",
      "\u001b[1;32m~\\AppData\\Local\\Temp/ipykernel_11664/3325302695.py\u001b[0m in \u001b[0;36m<module>\u001b[1;34m\u001b[0m\n\u001b[1;32m----> 1\u001b[1;33m \u001b[1;32mwith\u001b[0m \u001b[0mopen\u001b[0m\u001b[1;33m(\u001b[0m\u001b[1;34m'10_io_sample.txt'\u001b[0m\u001b[1;33m,\u001b[0m \u001b[0mmode\u001b[0m\u001b[1;33m=\u001b[0m\u001b[1;34m'rw'\u001b[0m\u001b[1;33m)\u001b[0m \u001b[1;32mas\u001b[0m \u001b[0mmy_file\u001b[0m\u001b[1;33m:\u001b[0m\u001b[1;33m\u001b[0m\u001b[1;33m\u001b[0m\u001b[0m\n\u001b[0m\u001b[0;32m      2\u001b[0m     \u001b[0mprint\u001b[0m\u001b[1;33m(\u001b[0m\u001b[0mmy_file\u001b[0m\u001b[1;33m.\u001b[0m\u001b[0mreadlines\u001b[0m\u001b[1;33m(\u001b[0m\u001b[1;33m)\u001b[0m\u001b[1;33m)\u001b[0m\u001b[1;33m\u001b[0m\u001b[1;33m\u001b[0m\u001b[0m\n",
      "\u001b[1;31mValueError\u001b[0m: must have exactly one of create/read/write/append mode"
     ]
    }
   ],
   "source": [
    "with open('10_io_sample.txt', mode='rw') as my_file:\n",
    "    print(my_file.readlines())"
   ]
  },
  {
   "cell_type": "markdown",
   "id": "af21275b",
   "metadata": {},
   "source": [
    "#### write"
   ]
  },
  {
   "cell_type": "code",
   "execution_count": 12,
   "id": "c3d76906",
   "metadata": {},
   "outputs": [
    {
     "name": "stdout",
     "output_type": "stream",
     "text": [
      "10\n"
     ]
    }
   ],
   "source": [
    "with open('10_io_sample_2.txt', mode='r+') as my_file:\n",
    "    text = my_file.write('hey it\\' me')\n",
    "    print(text)"
   ]
  },
  {
   "cell_type": "code",
   "execution_count": 13,
   "id": "39cbfe16",
   "metadata": {},
   "outputs": [
    {
     "name": "stdout",
     "output_type": "stream",
     "text": [
      "6\n"
     ]
    }
   ],
   "source": [
    "with open('10_io_sample_2.txt', mode='r+') as my_file:\n",
    "    text = my_file.write('it\\' me')\n",
    "    print(text)"
   ]
  },
  {
   "cell_type": "code",
   "execution_count": 14,
   "id": "6f2d6f48",
   "metadata": {},
   "outputs": [
    {
     "name": "stdout",
     "output_type": "stream",
     "text": [
      "15\n"
     ]
    }
   ],
   "source": [
    "with open('10_io_sample_3.txt', mode='w') as my_file:\n",
    "    text = my_file.write('write it\\' me :)')\n",
    "    print(text)"
   ]
  },
  {
   "cell_type": "code",
   "execution_count": 15,
   "id": "76475a77",
   "metadata": {},
   "outputs": [
    {
     "name": "stdout",
     "output_type": "stream",
     "text": [
      "9\n"
     ]
    }
   ],
   "source": [
    "with open('10_io_sample_3.txt', mode='w') as my_file:\n",
    "    text = my_file.write('it\\' me :)')\n",
    "    print(text)"
   ]
  },
  {
   "cell_type": "code",
   "execution_count": 16,
   "id": "5ab59ff7",
   "metadata": {},
   "outputs": [
    {
     "name": "stdout",
     "output_type": "stream",
     "text": [
      "14\n"
     ]
    }
   ],
   "source": [
    "with open('10_io_sample_3.txt', mode='a') as my_file:\n",
    "    text = my_file.write('\\nnew it\\' me :)')\n",
    "    print(text)"
   ]
  },
  {
   "cell_type": "code",
   "execution_count": 17,
   "id": "71484851",
   "metadata": {},
   "outputs": [
    {
     "name": "stdout",
     "output_type": "stream",
     "text": [
      "13\n"
     ]
    }
   ],
   "source": [
    "with open('10_io_sample_4.txt', mode='r+') as my_file:\n",
    "    text = my_file.write('hey it\\' me :)')\n",
    "    print(text)"
   ]
  },
  {
   "cell_type": "markdown",
   "id": "73033c8e",
   "metadata": {},
   "source": [
    "creates new file and writes in it"
   ]
  },
  {
   "cell_type": "code",
   "execution_count": 18,
   "id": "baf01221",
   "metadata": {},
   "outputs": [
    {
     "name": "stdout",
     "output_type": "stream",
     "text": [
      "15\n"
     ]
    }
   ],
   "source": [
    "with open('10_io_sample_4.txt', mode='w') as my_file:\n",
    "    text = my_file.write('file created :)')\n",
    "    print(text)"
   ]
  },
  {
   "cell_type": "code",
   "execution_count": 19,
   "id": "815bdefb",
   "metadata": {},
   "outputs": [
    {
     "name": "stdout",
     "output_type": "stream",
     "text": [
      ":)\n",
      "\n"
     ]
    }
   ],
   "source": [
    "with open('io_sample/sad.txt', mode='r') as my_file:\n",
    "    text = my_file.read()\n",
    "    print(text)"
   ]
  },
  {
   "cell_type": "code",
   "execution_count": 20,
   "id": "bf6f6e5b",
   "metadata": {},
   "outputs": [
    {
     "name": "stdout",
     "output_type": "stream",
     "text": [
      "File does not exist\n"
     ]
    }
   ],
   "source": [
    "try:\n",
    "    with open('sad.txt', mode='r') as my_file:\n",
    "        text = my_file.read()\n",
    "except FileNotFoundError as err:\n",
    "        print('File does not exist')\n",
    "#         raise err"
   ]
  },
  {
   "cell_type": "code",
   "execution_count": 21,
   "id": "ded02732",
   "metadata": {},
   "outputs": [
    {
     "name": "stdout",
     "output_type": "stream",
     "text": [
      "IO Error\n"
     ]
    }
   ],
   "source": [
    "try:\n",
    "    with open('sad.txt', mode='r') as my_file:\n",
    "        text = my_file.read()\n",
    "except IOError as err:\n",
    "        print('IO Error')\n",
    "#         raise err"
   ]
  },
  {
   "cell_type": "markdown",
   "id": "4db9547e",
   "metadata": {},
   "source": [
    "#### exercise (translate to japnense)"
   ]
  },
  {
   "cell_type": "code",
   "execution_count": 31,
   "id": "db4a999d",
   "metadata": {},
   "outputs": [],
   "source": [
    "from translate import Translator\n",
    "\n",
    "translator = Translator(to_lang=\"ja\")\n",
    "\n",
    "try:\n",
    "    with open('io_sample/io_exrcise.txt', mode='r') as my_file:\n",
    "        text = my_file.read()\n",
    "        translation = translator.translate(text)\n",
    "        with open('io_sample/io_exercise_output.txt', mode='w', encoding=\"utf-8\") as my_file2:\n",
    "            \n",
    "            my_file2.write('text = ' + text + '\\nTranslation = ' + translation)\n",
    "except FileNotFoundError as err:\n",
    "    print(\"File not found\")"
   ]
  },
  {
   "cell_type": "markdown",
   "id": "89559003",
   "metadata": {},
   "source": [
    "#### using user input"
   ]
  },
  {
   "cell_type": "code",
   "execution_count": 48,
   "id": "1c08c214",
   "metadata": {
    "scrolled": true
   },
   "outputs": [
    {
     "name": "stdout",
     "output_type": "stream",
     "text": [
      "Enter what yo want to translate: Prabhat Gupta\n",
      "\n",
      "Please check 'io_exercise_output_user.txt' for ouput\n",
      "\n",
      "text = Prabhat Gupta\n",
      "Translation = プラバト・グプタ\n"
     ]
    }
   ],
   "source": [
    "from translate import Translator\n",
    "\n",
    "translator = Translator(to_lang=\"ja\")\n",
    "\n",
    "try:\n",
    "    text = input('Enter what yo want to translate: ')\n",
    "    translation = translator.translate(text)\n",
    "    with open('io_sample/io_exercise_output_user.txt', mode='w', encoding=\"utf-8\") as my_file:\n",
    "        my_file.write('text = ' + text + '\\nTranslation = ' + translation)\n",
    "        \n",
    "        print('\\nPlease check \\'io_exercise_output_user.txt\\' for ouput')\n",
    "# or\n",
    "    with open('io_sample/io_exercise_output_user.txt', mode='r', encoding=\"utf-8\") as my_file2:\n",
    "        output = my_file2.read()\n",
    "        print('\\n' + output)\n",
    "            \n",
    "except FileNotFoundError as err:\n",
    "    print(\"File not found\")"
   ]
  }
 ],
 "metadata": {
  "kernelspec": {
   "display_name": "Python 3 (ipykernel)",
   "language": "python",
   "name": "python3"
  },
  "language_info": {
   "codemirror_mode": {
    "name": "ipython",
    "version": 3
   },
   "file_extension": ".py",
   "mimetype": "text/x-python",
   "name": "python",
   "nbconvert_exporter": "python",
   "pygments_lexer": "ipython3",
   "version": "3.9.7"
  },
  "toc": {
   "base_numbering": 1,
   "nav_menu": {},
   "number_sections": false,
   "sideBar": true,
   "skip_h1_title": false,
   "title_cell": "Table of Contents",
   "title_sidebar": "Contents",
   "toc_cell": false,
   "toc_position": {},
   "toc_section_display": true,
   "toc_window_display": true
  }
 },
 "nbformat": 4,
 "nbformat_minor": 5
}
