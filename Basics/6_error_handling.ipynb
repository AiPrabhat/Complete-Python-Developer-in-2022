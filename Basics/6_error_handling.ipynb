{
 "cells": [
  {
   "cell_type": "markdown",
   "id": "121df7ef",
   "metadata": {},
   "source": [
    "#### Error Handling"
   ]
  },
  {
   "cell_type": "code",
   "execution_count": 6,
   "id": "af3390aa",
   "metadata": {},
   "outputs": [
    {
     "name": "stdout",
     "output_type": "stream",
     "text": [
      "What is your age? : 22\n",
      "thank you\n"
     ]
    }
   ],
   "source": [
    "while True:\n",
    "    try:\n",
    "        age = int(input('What is your age? : '))\n",
    "    except:\n",
    "        print('Please enter a number')\n",
    "    else:\n",
    "        print('thank you')\n",
    "        break"
   ]
  },
  {
   "cell_type": "code",
   "execution_count": 7,
   "id": "bb0c6ae7",
   "metadata": {},
   "outputs": [
    {
     "name": "stdout",
     "output_type": "stream",
     "text": [
      "What is your age? : 22\n",
      "thank you\n"
     ]
    }
   ],
   "source": [
    "while True:\n",
    "    try:\n",
    "        age = int(input('What is your age? : '))\n",
    "        10/age       \n",
    "    except ValueError:\n",
    "        print('Please enter a number')      \n",
    "    except ZeroDivisionError:\n",
    "        print('Please enter age higher than 0')    \n",
    "    else:\n",
    "        print('thank you')\n",
    "        break"
   ]
  },
  {
   "cell_type": "code",
   "execution_count": 8,
   "id": "96f9eb46",
   "metadata": {},
   "outputs": [
    {
     "name": "stdout",
     "output_type": "stream",
     "text": [
      "Please enter numbers\n",
      " unsupported operand type(s) for +: 'int' and 'str'\n",
      "None\n"
     ]
    }
   ],
   "source": [
    "def add(num1, num2):\n",
    "    try:\n",
    "        return num1 + num2\n",
    "    except TypeError as err:\n",
    "        print(f'Please enter numbers\\n {err}')\n",
    "    \n",
    "print(add(1,'2'))\n",
    "# print(add(1,2))"
   ]
  },
  {
   "cell_type": "code",
   "execution_count": 9,
   "id": "fe742943",
   "metadata": {},
   "outputs": [
    {
     "name": "stdout",
     "output_type": "stream",
     "text": [
      "OOOPS!! --> unsupported operand type(s) for /: 'int' and 'str'\n",
      "None\n"
     ]
    }
   ],
   "source": [
    "def add(num1, num2):\n",
    "    try:\n",
    "        return num1 / num2\n",
    "    except (TypeError, ZeroDivisionError) as err:\n",
    "        print(f'OOOPS!! --> {err}')\n",
    "    \n",
    "# print(add(1,0))\n",
    "print(add(1,'2'))"
   ]
  },
  {
   "cell_type": "code",
   "execution_count": 10,
   "id": "235cf724",
   "metadata": {},
   "outputs": [
    {
     "name": "stdout",
     "output_type": "stream",
     "text": [
      "What is your age? : 22\n",
      "thank you\n",
      "ok, i am finally done\n"
     ]
    }
   ],
   "source": [
    "while True:\n",
    "    try:\n",
    "        age = int(input('What is your age? : '))\n",
    "        10/age       \n",
    "    except ValueError:\n",
    "        print('Please enter a number')      \n",
    "    except ZeroDivisionError:\n",
    "        print('Please enter age higher than 0')    \n",
    "    else:\n",
    "        print('thank you')\n",
    "        break\n",
    "    finally:\n",
    "        print('ok, i am finally done')"
   ]
  },
  {
   "cell_type": "code",
   "execution_count": 11,
   "id": "317f7ad2",
   "metadata": {},
   "outputs": [
    {
     "name": "stdout",
     "output_type": "stream",
     "text": [
      "What is your age? : 22\n",
      "thank you\n",
      "ok, i am finally done\n"
     ]
    }
   ],
   "source": [
    "while True:\n",
    "    try:\n",
    "        age = int(input('What is your age? : '))\n",
    "        10/age       \n",
    "    except ValueError:\n",
    "        print('Please enter a number')\n",
    "        continue\n",
    "    except ZeroDivisionError:\n",
    "        print('Please enter age higher than 0')\n",
    "        break\n",
    "    else:\n",
    "        print('thank you')\n",
    "        break\n",
    "    finally:\n",
    "        print('ok, i am finally done')\n",
    "    print('can you hear me?')"
   ]
  },
  {
   "cell_type": "code",
   "execution_count": 12,
   "id": "5a51bd79",
   "metadata": {},
   "outputs": [
    {
     "name": "stdout",
     "output_type": "stream",
     "text": [
      "What is your age? : 22\n",
      "ok, i am finally done\n"
     ]
    },
    {
     "ename": "Exception",
     "evalue": "hey cut it out",
     "output_type": "error",
     "traceback": [
      "\u001b[1;31m---------------------------------------------------------------------------\u001b[0m",
      "\u001b[1;31mException\u001b[0m                                 Traceback (most recent call last)",
      "\u001b[1;32m~\\AppData\\Local\\Temp/ipykernel_6840/859239727.py\u001b[0m in \u001b[0;36m<module>\u001b[1;34m\u001b[0m\n\u001b[0;32m      6\u001b[0m         \u001b[1;36m10\u001b[0m\u001b[1;33m/\u001b[0m\u001b[0mage\u001b[0m\u001b[1;33m\u001b[0m\u001b[1;33m\u001b[0m\u001b[0m\n\u001b[0;32m      7\u001b[0m \u001b[1;31m#         raise ValueError('hey cut it out')\u001b[0m\u001b[1;33m\u001b[0m\u001b[1;33m\u001b[0m\u001b[0m\n\u001b[1;32m----> 8\u001b[1;33m         \u001b[1;32mraise\u001b[0m \u001b[0mException\u001b[0m\u001b[1;33m(\u001b[0m\u001b[1;34m'hey cut it out'\u001b[0m\u001b[1;33m)\u001b[0m\u001b[1;33m\u001b[0m\u001b[1;33m\u001b[0m\u001b[0m\n\u001b[0m\u001b[0;32m      9\u001b[0m     \u001b[1;32mexcept\u001b[0m \u001b[0mZeroDivisionError\u001b[0m\u001b[1;33m:\u001b[0m\u001b[1;33m\u001b[0m\u001b[1;33m\u001b[0m\u001b[0m\n\u001b[0;32m     10\u001b[0m         \u001b[0mprint\u001b[0m\u001b[1;33m(\u001b[0m\u001b[1;34m'Please enter age higher than 0'\u001b[0m\u001b[1;33m)\u001b[0m\u001b[1;33m\u001b[0m\u001b[1;33m\u001b[0m\u001b[0m\n",
      "\u001b[1;31mException\u001b[0m: hey cut it out"
     ]
    }
   ],
   "source": [
    "# creating own error\n",
    "\n",
    "while True:\n",
    "    try:\n",
    "        age = int(input('What is your age? : '))\n",
    "        10/age\n",
    "#         raise ValueError('hey cut it out')\n",
    "        raise Exception('hey cut it out')\n",
    "    except ZeroDivisionError:\n",
    "        print('Please enter age higher than 0')\n",
    "    else:\n",
    "        print('thank you')\n",
    "        break\n",
    "    finally:\n",
    "        print('ok, i am finally done')\n",
    "    print('can you hear me?')"
   ]
  }
 ],
 "metadata": {
  "kernelspec": {
   "display_name": "Python 3 (ipykernel)",
   "language": "python",
   "name": "python3"
  },
  "language_info": {
   "codemirror_mode": {
    "name": "ipython",
    "version": 3
   },
   "file_extension": ".py",
   "mimetype": "text/x-python",
   "name": "python",
   "nbconvert_exporter": "python",
   "pygments_lexer": "ipython3",
   "version": "3.9.7"
  },
  "toc": {
   "base_numbering": 1,
   "nav_menu": {},
   "number_sections": true,
   "sideBar": true,
   "skip_h1_title": false,
   "title_cell": "Table of Contents",
   "title_sidebar": "Contents",
   "toc_cell": false,
   "toc_position": {},
   "toc_section_display": true,
   "toc_window_display": true
  }
 },
 "nbformat": 4,
 "nbformat_minor": 5
}
