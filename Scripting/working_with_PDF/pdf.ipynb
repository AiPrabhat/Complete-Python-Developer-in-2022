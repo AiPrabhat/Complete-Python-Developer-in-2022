{
 "cells": [
  {
   "cell_type": "code",
   "execution_count": 8,
   "id": "89a56945",
   "metadata": {},
   "outputs": [
    {
     "name": "stdout",
     "output_type": "stream",
     "text": [
      "2\n"
     ]
    }
   ],
   "source": [
    "import PyPDF2\n",
    "\n",
    "with open('twopage.pdf', 'rb') as file:\n",
    "    reader = PyPDF2.PdfFileReader(file)\n",
    "    print(reader.numPages)"
   ]
  },
  {
   "cell_type": "code",
   "execution_count": 10,
   "id": "c001d09f",
   "metadata": {},
   "outputs": [
    {
     "name": "stdout",
     "output_type": "stream",
     "text": [
      "1\n"
     ]
    }
   ],
   "source": [
    "with open('dummy.pdf', 'rb') as file:\n",
    "    reader = PyPDF2.PdfFileReader(file)\n",
    "    print(reader.numPages)"
   ]
  },
  {
   "cell_type": "code",
   "execution_count": 13,
   "id": "b36a9d36",
   "metadata": {},
   "outputs": [
    {
     "name": "stdout",
     "output_type": "stream",
     "text": [
      "{'/Type': '/Page', '/Parent': IndirectObject(4, 0), '/Resources': IndirectObject(11, 0), '/MediaBox': [0, 0, 595, 842], '/Group': {'/S': '/Transparency', '/CS': '/DeviceRGB', '/I': <PyPDF2.generic.BooleanObject object at 0x00000209107FE070>}, '/Contents': IndirectObject(2, 0)}\n"
     ]
    }
   ],
   "source": [
    "with open('dummy.pdf', 'rb') as file:\n",
    "    reader = PyPDF2.PdfFileReader(file)\n",
    "    print(reader.getPage(0))"
   ]
  },
  {
   "cell_type": "code",
   "execution_count": 24,
   "id": "f9699146",
   "metadata": {},
   "outputs": [],
   "source": [
    "with open('dummy.pdf', 'rb') as file:\n",
    "    reader = PyPDF2.PdfFileReader(file)\n",
    "    page = reader.getPage(0)\n",
    "    page.rotateCounterClockwise(180)\n",
    "    writer = PyPDF2.PdfFileWriter()\n",
    "    writer.addPage(page)\n",
    "    with open('rot_dummy_180.pdf', 'wb') as new_file:\n",
    "        writer.write(new_file)"
   ]
  },
  {
   "cell_type": "markdown",
   "id": "d392fb5a",
   "metadata": {},
   "source": [
    "PDF Combiner"
   ]
  },
  {
   "cell_type": "code",
   "execution_count": 12,
   "id": "9e63dab4",
   "metadata": {},
   "outputs": [
    {
     "name": "stdout",
     "output_type": "stream",
     "text": [
      "twopage.pdf\n",
      "dummy.pdf\n",
      "super3.pdf\n",
      "super2.pdf\n",
      "super2.pdf\n",
      "super3.pdf\n"
     ]
    }
   ],
   "source": [
    "# find pdf_combiner.py in folder\n",
    "! python -u pdf_combiner.py twopage.pdf dummy.pdf"
   ]
  },
  {
   "cell_type": "code",
   "execution_count": 20,
   "id": "abda7758",
   "metadata": {
    "scrolled": true
   },
   "outputs": [
    {
     "ename": "TypeError",
     "evalue": "'NullObject' object is not iterable",
     "output_type": "error",
     "traceback": [
      "\u001b[1;31m---------------------------------------------------------------------------\u001b[0m",
      "\u001b[1;31mTypeError\u001b[0m                                 Traceback (most recent call last)",
      "\u001b[1;32m~\\AppData\\Local\\Temp/ipykernel_1876/1687206976.py\u001b[0m in \u001b[0;36m<module>\u001b[1;34m\u001b[0m\n\u001b[0;32m      7\u001b[0m \u001b[1;32mfor\u001b[0m \u001b[0mi\u001b[0m \u001b[1;32min\u001b[0m \u001b[0mrange\u001b[0m\u001b[1;33m(\u001b[0m\u001b[0mtemplate\u001b[0m\u001b[1;33m.\u001b[0m\u001b[0mgetNumPages\u001b[0m\u001b[1;33m(\u001b[0m\u001b[1;33m)\u001b[0m\u001b[1;33m)\u001b[0m\u001b[1;33m:\u001b[0m\u001b[1;33m\u001b[0m\u001b[1;33m\u001b[0m\u001b[0m\n\u001b[0;32m      8\u001b[0m     \u001b[0mpage\u001b[0m \u001b[1;33m=\u001b[0m \u001b[0mtemplate\u001b[0m\u001b[1;33m.\u001b[0m\u001b[0mgetPage\u001b[0m\u001b[1;33m(\u001b[0m\u001b[0mi\u001b[0m\u001b[1;33m)\u001b[0m\u001b[1;33m\u001b[0m\u001b[1;33m\u001b[0m\u001b[0m\n\u001b[1;32m----> 9\u001b[1;33m     \u001b[0mpage\u001b[0m\u001b[1;33m.\u001b[0m\u001b[0mmergePage\u001b[0m\u001b[1;33m(\u001b[0m\u001b[0mwatermark\u001b[0m\u001b[1;33m.\u001b[0m\u001b[0mgetPage\u001b[0m\u001b[1;33m(\u001b[0m\u001b[1;36m0\u001b[0m\u001b[1;33m)\u001b[0m\u001b[1;33m)\u001b[0m\u001b[1;33m\u001b[0m\u001b[1;33m\u001b[0m\u001b[0m\n\u001b[0m\u001b[0;32m     10\u001b[0m     \u001b[0moutput\u001b[0m\u001b[1;33m.\u001b[0m\u001b[0maddPage\u001b[0m\u001b[1;33m(\u001b[0m\u001b[0mpage\u001b[0m\u001b[1;33m)\u001b[0m\u001b[1;33m\u001b[0m\u001b[1;33m\u001b[0m\u001b[0m\n\u001b[0;32m     11\u001b[0m \u001b[1;33m\u001b[0m\u001b[0m\n",
      "\u001b[1;32m~\\anaconda3\\envs\\dev\\lib\\site-packages\\PyPDF2\\_page.py\u001b[0m in \u001b[0;36mmergePage\u001b[1;34m(self, page2)\u001b[0m\n\u001b[0;32m    266\u001b[0m             \u001b[0man\u001b[0m \u001b[0minstance\u001b[0m \u001b[0mof\u001b[0m \u001b[1;33m:\u001b[0m\u001b[1;32mclass\u001b[0m\u001b[1;33m:\u001b[0m\u001b[0;31m`\u001b[0m\u001b[0mPageObject\u001b[0m\u001b[1;33m<\u001b[0m\u001b[0mPageObject\u001b[0m\u001b[1;33m>\u001b[0m\u001b[0;31m`\u001b[0m\u001b[1;33m.\u001b[0m\u001b[1;33m\u001b[0m\u001b[1;33m\u001b[0m\u001b[0m\n\u001b[0;32m    267\u001b[0m         \"\"\"\n\u001b[1;32m--> 268\u001b[1;33m         \u001b[0mself\u001b[0m\u001b[1;33m.\u001b[0m\u001b[0m_mergePage\u001b[0m\u001b[1;33m(\u001b[0m\u001b[0mpage2\u001b[0m\u001b[1;33m)\u001b[0m\u001b[1;33m\u001b[0m\u001b[1;33m\u001b[0m\u001b[0m\n\u001b[0m\u001b[0;32m    269\u001b[0m \u001b[1;33m\u001b[0m\u001b[0m\n\u001b[0;32m    270\u001b[0m     \u001b[1;32mdef\u001b[0m \u001b[0m_mergePage\u001b[0m\u001b[1;33m(\u001b[0m\u001b[0mself\u001b[0m\u001b[1;33m,\u001b[0m \u001b[0mpage2\u001b[0m\u001b[1;33m,\u001b[0m \u001b[0mpage2transformation\u001b[0m\u001b[1;33m=\u001b[0m\u001b[1;32mNone\u001b[0m\u001b[1;33m,\u001b[0m \u001b[0mctm\u001b[0m\u001b[1;33m=\u001b[0m\u001b[1;32mNone\u001b[0m\u001b[1;33m,\u001b[0m \u001b[0mexpand\u001b[0m\u001b[1;33m=\u001b[0m\u001b[1;32mFalse\u001b[0m\u001b[1;33m)\u001b[0m\u001b[1;33m:\u001b[0m\u001b[1;33m\u001b[0m\u001b[1;33m\u001b[0m\u001b[0m\n",
      "\u001b[1;32m~\\anaconda3\\envs\\dev\\lib\\site-packages\\PyPDF2\\_page.py\u001b[0m in \u001b[0;36m_mergePage\u001b[1;34m(self, page2, page2transformation, ctm, expand)\u001b[0m\n\u001b[0;32m    304\u001b[0m         \u001b[1;31m# Combine /ProcSet sets.\u001b[0m\u001b[1;33m\u001b[0m\u001b[1;33m\u001b[0m\u001b[0m\n\u001b[0;32m    305\u001b[0m         new_resources[NameObject(RES.PROC_SET)] = ArrayObject(\n\u001b[1;32m--> 306\u001b[1;33m             frozenset(\n\u001b[0m\u001b[0;32m    307\u001b[0m                 \u001b[0moriginal_resources\u001b[0m\u001b[1;33m.\u001b[0m\u001b[0mget\u001b[0m\u001b[1;33m(\u001b[0m\u001b[0mRES\u001b[0m\u001b[1;33m.\u001b[0m\u001b[0mPROC_SET\u001b[0m\u001b[1;33m,\u001b[0m \u001b[0mArrayObject\u001b[0m\u001b[1;33m(\u001b[0m\u001b[1;33m)\u001b[0m\u001b[1;33m)\u001b[0m\u001b[1;33m.\u001b[0m\u001b[0mgetObject\u001b[0m\u001b[1;33m(\u001b[0m\u001b[1;33m)\u001b[0m\u001b[1;33m\u001b[0m\u001b[1;33m\u001b[0m\u001b[0m\n\u001b[0;32m    308\u001b[0m             \u001b[1;33m)\u001b[0m\u001b[1;33m.\u001b[0m\u001b[0munion\u001b[0m\u001b[1;33m(\u001b[0m\u001b[1;33m\u001b[0m\u001b[1;33m\u001b[0m\u001b[0m\n",
      "\u001b[1;31mTypeError\u001b[0m: 'NullObject' object is not iterable"
     ]
    }
   ],
   "source": [
    "import PyPDF2\n",
    "\n",
    "template = PyPDF2.PdfFileReader(open('super.pdf', 'rb'))\n",
    "watermark = PyPDF2.PdfFileReader(open('wtr.pdf', 'rb'))\n",
    "output = PyPDF2.PdfFileWriter()\n",
    "\n",
    "for i in range(template.getNumPages()):\n",
    "    page = template.getPage(i)\n",
    "    page.mergePage(watermark.getPage(0))\n",
    "    output.addPage(page)\n",
    "    \n",
    "    with open('watermarked_output.pdf', 'wb') as file:\n",
    "        output.write(file)"
   ]
  }
 ],
 "metadata": {
  "interpreter": {
   "hash": "610f53f6574e74870c25a90d1508403301c7403161a2cfe28317d1cc7b964d92"
  },
  "kernelspec": {
   "display_name": "Python 3 (ipykernel)",
   "language": "python",
   "name": "python3"
  },
  "language_info": {
   "codemirror_mode": {
    "name": "ipython",
    "version": 3
   },
   "file_extension": ".py",
   "mimetype": "text/x-python",
   "name": "python",
   "nbconvert_exporter": "python",
   "pygments_lexer": "ipython3",
   "version": "3.9.7"
  }
 },
 "nbformat": 4,
 "nbformat_minor": 5
}
