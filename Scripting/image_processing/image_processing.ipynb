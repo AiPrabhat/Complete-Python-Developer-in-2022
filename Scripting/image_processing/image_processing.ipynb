{
 "cells": [
  {
   "cell_type": "code",
   "execution_count": 81,
   "id": "35197ca0",
   "metadata": {},
   "outputs": [
    {
     "name": "stdout",
     "output_type": "stream",
     "text": [
      "<PIL.JpegImagePlugin.JpegImageFile image mode=RGB size=736x736 at 0x1E854B09B50>\n"
     ]
    }
   ],
   "source": [
    "from PIL import Image, ImageFilter\n",
    "\n",
    "img = Image.open('./Pokedex/pikachu.jpg')\n",
    "print(img)"
   ]
  },
  {
   "cell_type": "code",
   "execution_count": 82,
   "id": "0a09c073",
   "metadata": {},
   "outputs": [
    {
     "name": "stdout",
     "output_type": "stream",
     "text": [
      "JPEG\n",
      "(736, 736)\n",
      "RGB\n"
     ]
    }
   ],
   "source": [
    "print(img.format)\n",
    "print(img.size)\n",
    "print(img.mode)"
   ]
  },
  {
   "cell_type": "code",
   "execution_count": 83,
   "id": "16c40b7c",
   "metadata": {},
   "outputs": [
    {
     "name": "stdout",
     "output_type": "stream",
     "text": [
      "['_Image__transformer', '__array__', '__class__', '__copy__', '__delattr__', '__dict__', '__dir__', '__doc__', '__enter__', '__eq__', '__exit__', '__format__', '__ge__', '__getattr__', '__getattribute__', '__getstate__', '__gt__', '__hash__', '__init__', '__init_subclass__', '__le__', '__lt__', '__module__', '__ne__', '__new__', '__reduce__', '__reduce_ex__', '__repr__', '__setattr__', '__setstate__', '__sizeof__', '__str__', '__subclasshook__', '__weakref__', '_category', '_close_exclusive_fp_after_loading', '_copy', '_crop', '_dump', '_ensure_mutable', '_exclusive_fp', '_exif', '_expand', '_get_safe_box', '_getexif', '_getmp', '_getxmp', '_min_frame', '_new', '_open', '_repr_png_', '_seek_check', '_size', 'alpha_composite', 'app', 'applist', 'bits', 'close', 'convert', 'copy', 'crop', 'custom_mimetype', 'decoderconfig', 'decodermaxblock', 'draft', 'effect_spread', 'entropy', 'filename', 'filter', 'format', 'format_description', 'fp', 'frombytes', 'get_format_mimetype', 'getbands', 'getbbox', 'getchannel', 'getcolors', 'getdata', 'getexif', 'getextrema', 'getim', 'getpalette', 'getpixel', 'getprojection', 'getxmp', 'height', 'histogram', 'huffman_ac', 'huffman_dc', 'icclist', 'im', 'info', 'layer', 'layers', 'load', 'load_djpeg', 'load_end', 'load_prepare', 'load_read', 'mode', 'palette', 'paste', 'point', 'putalpha', 'putdata', 'putpalette', 'putpixel', 'pyaccess', 'quantization', 'quantize', 'readonly', 'reduce', 'remap_palette', 'resize', 'rotate', 'save', 'seek', 'show', 'size', 'split', 'tell', 'thumbnail', 'tile', 'tobitmap', 'tobytes', 'toqimage', 'toqpixmap', 'transform', 'transpose', 'verify', 'width']\n"
     ]
    }
   ],
   "source": [
    "print(dir(img))"
   ]
  },
  {
   "cell_type": "code",
   "execution_count": 84,
   "id": "a9faf8e2",
   "metadata": {},
   "outputs": [],
   "source": [
    "filtered_img = img.filter(ImageFilter.BLUR)\n",
    "filtered_img.save('processed_img/blur.png', 'png')\n",
    "filtered_img.show()"
   ]
  },
  {
   "cell_type": "code",
   "execution_count": 85,
   "id": "0f28d135",
   "metadata": {},
   "outputs": [],
   "source": [
    "filtered_img = img.filter(ImageFilter.SMOOTH)\n",
    "filtered_img.save('processed_img/smooth.png', 'png')\n",
    "filtered_img.show()"
   ]
  },
  {
   "cell_type": "code",
   "execution_count": 86,
   "id": "7889ae09",
   "metadata": {},
   "outputs": [],
   "source": [
    "filtered_img = img.filter(ImageFilter.SHARPEN)\n",
    "filtered_img.save('processed_img/sharpen.png', 'png')\n",
    "filtered_img.show()"
   ]
  },
  {
   "cell_type": "code",
   "execution_count": 87,
   "id": "a2a599db",
   "metadata": {},
   "outputs": [],
   "source": [
    "filtered_img = img.convert('L')\n",
    "filtered_img.save('processed_img/grey(L).png', 'png')\n",
    "filtered_img.show()"
   ]
  },
  {
   "cell_type": "code",
   "execution_count": 90,
   "id": "d7fd2351",
   "metadata": {},
   "outputs": [],
   "source": [
    "crooked = filtered_img.rotate(90)\n",
    "crooked.save('processed_img/grey(rot-90).png', 'png')\n",
    "crooked.show()"
   ]
  },
  {
   "cell_type": "code",
   "execution_count": 91,
   "id": "df8aab10",
   "metadata": {},
   "outputs": [],
   "source": [
    "crooked2 = filtered_img.rotate(180)\n",
    "crooked2.save('processed_img/grey(rot-180).png', 'png')\n",
    "crooked2.show()"
   ]
  },
  {
   "cell_type": "code",
   "execution_count": 93,
   "id": "57246404",
   "metadata": {},
   "outputs": [],
   "source": [
    "box = (100, 100, 400, 400)\n",
    "region = filtered_img.crop(box)\n",
    "region.save('processed_img/croped.png', 'png')\n",
    "region.show()"
   ]
  },
  {
   "cell_type": "code",
   "execution_count": 97,
   "id": "a2d6c93d",
   "metadata": {},
   "outputs": [
    {
     "name": "stdout",
     "output_type": "stream",
     "text": [
      "(10315, 7049)\n"
     ]
    }
   ],
   "source": [
    "img = Image.open('./chart.jpg')\n",
    "print(img.size)"
   ]
  },
  {
   "cell_type": "code",
   "execution_count": 101,
   "id": "f7ceaae6",
   "metadata": {},
   "outputs": [
    {
     "name": "stdout",
     "output_type": "stream",
     "text": [
      "(400, 400)\n"
     ]
    }
   ],
   "source": [
    "new_img = img.resize((400, 400))\n",
    "new_img.save('thumbnail.jpg')\n",
    "print(new_img.size)"
   ]
  },
  {
   "cell_type": "code",
   "execution_count": 103,
   "id": "7e075c76",
   "metadata": {},
   "outputs": [
    {
     "name": "stdout",
     "output_type": "stream",
     "text": [
      "(400, 273)\n"
     ]
    }
   ],
   "source": [
    "new_img = img\n",
    "new_img.thumbnail((400, 400))\n",
    "new_img.save('thumbnail2.jpg')\n",
    "print(new_img.size)"
   ]
  }
 ],
 "metadata": {
  "interpreter": {
   "hash": "610f53f6574e74870c25a90d1508403301c7403161a2cfe28317d1cc7b964d92"
  },
  "kernelspec": {
   "display_name": "Python 3 (ipykernel)",
   "language": "python",
   "name": "python3"
  },
  "language_info": {
   "codemirror_mode": {
    "name": "ipython",
    "version": 3
   },
   "file_extension": ".py",
   "mimetype": "text/x-python",
   "name": "python",
   "nbconvert_exporter": "python",
   "pygments_lexer": "ipython3",
   "version": "3.9.7"
  }
 },
 "nbformat": 4,
 "nbformat_minor": 5
}
