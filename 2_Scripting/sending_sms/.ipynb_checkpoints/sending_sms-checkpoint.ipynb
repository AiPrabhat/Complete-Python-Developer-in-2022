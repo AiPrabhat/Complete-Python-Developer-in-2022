{
 "cells": [
  {
   "cell_type": "code",
   "execution_count": 9,
   "id": "8403dd6c",
   "metadata": {},
   "outputs": [
    {
     "name": "stdout",
     "output_type": "stream",
     "text": [
      "SMd4aed97dc6af460bbda03b751ae30078\n"
     ]
    }
   ],
   "source": [
    "from twilio.rest import Client \n",
    " \n",
    "account_sid = 'AC8cdbce53489d98ee703ee139609517a1' \n",
    "auth_token = 'e8670f128b8b33bdd00a71d40ccb193d' \n",
    "client = Client(account_sid, auth_token) \n",
    " \n",
    "message = client.messages.create(  \n",
    "                              messaging_service_sid='MG67c54701e996d75c7bc503871388dab1', \n",
    "                              body='I CANT BELIEVE THIS WORKS',      \n",
    "                              to='+918691885209' \n",
    "                          ) \n",
    " \n",
    "print(message.sid)"
   ]
  }
 ],
 "metadata": {
  "kernelspec": {
   "display_name": "Python 3 (ipykernel)",
   "language": "python",
   "name": "python3"
  },
  "language_info": {
   "codemirror_mode": {
    "name": "ipython",
    "version": 3
   },
   "file_extension": ".py",
   "mimetype": "text/x-python",
   "name": "python",
   "nbconvert_exporter": "python",
   "pygments_lexer": "ipython3",
   "version": "3.9.7"
  },
  "toc": {
   "base_numbering": 1,
   "nav_menu": {},
   "number_sections": true,
   "sideBar": true,
   "skip_h1_title": false,
   "title_cell": "Table of Contents",
   "title_sidebar": "Contents",
   "toc_cell": false,
   "toc_position": {},
   "toc_section_display": true,
   "toc_window_display": false
  }
 },
 "nbformat": 4,
 "nbformat_minor": 5
}
