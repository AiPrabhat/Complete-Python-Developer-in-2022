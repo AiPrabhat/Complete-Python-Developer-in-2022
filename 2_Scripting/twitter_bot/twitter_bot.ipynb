{
 "cells": [
  {
   "cell_type": "markdown",
   "id": "6257c6ed",
   "metadata": {},
   "source": [
    "### Twitter Bot"
   ]
  },
  {
   "cell_type": "code",
   "execution_count": 11,
   "id": "ec7c25e7",
   "metadata": {},
   "outputs": [
    {
     "name": "stdout",
     "output_type": "stream",
     "text": [
      "Successful Authentication\n",
      "Prabhat Gupta 🇮🇳\n",
      "I liked that tweet\n",
      "I liked that tweet\n"
     ]
    }
   ],
   "source": [
    "import tweepy\n",
    "import time\n",
    "\n",
    "auth = tweepy.OAuth1UserHandler(\n",
    "    'bGtwQ2RhNd4i39UQ9GRLfIzdx',\n",
    "    'HkrotjxlNQDSnHLyDTD90yZVA7khC8PiD0oZVzgINOGItaXJ1Y',\n",
    "    '710703057865195520-P3TBLjreo0uJYIoMKpyRKn1u0IUvn1T',\n",
    "    '3h22JlTxMUXPc10ayXMAl7w70TCpmmd944ZlnRWqDuPdS'\n",
    ")\n",
    "\n",
    "api = tweepy.API(auth)\n",
    "\n",
    "try:\n",
    "    api.verify_credentials()\n",
    "    print('Successful Authentication')\n",
    "except:\n",
    "    print('Failed authentication\\n')\n",
    "    \n",
    "user = api.get_user(screen_name='gprabhat06')\n",
    "print(user.name)\n",
    "\n",
    "def limit_handler(cursor):\n",
    "    try:\n",
    "        while True:\n",
    "            yield cursor.next()\n",
    "    except StopIteration:\n",
    "        time.sleep(300)\n",
    "\n",
    "# for follower in limit_handler(tweepy.Cursor(api.get_followers).items()):\n",
    "#     print(follower.name)\n",
    "#     if follower.name == 'Mayank Jain':\n",
    "#         follower.follow()\n",
    "#         break\n",
    "\n",
    "search_str = 'python'\n",
    "numberOfTweets = 2\n",
    "\n",
    "for tweet in tweepy.Cursor(api.search_tweets, search_str).items(numberOfTweets):\n",
    "    try:\n",
    "        tweet.favorite()\n",
    "        print('I liked that tweet')\n",
    "    except tweepy.TweepyException as e:\n",
    "        print(e.reason)\n",
    "    except StopIteration:\n",
    "        break"
   ]
  }
 ],
 "metadata": {
  "kernelspec": {
   "display_name": "Python 3 (ipykernel)",
   "language": "python",
   "name": "python3"
  },
  "language_info": {
   "codemirror_mode": {
    "name": "ipython",
    "version": 3
   },
   "file_extension": ".py",
   "mimetype": "text/x-python",
   "name": "python",
   "nbconvert_exporter": "python",
   "pygments_lexer": "ipython3",
   "version": "3.9.7"
  },
  "toc": {
   "base_numbering": 1,
   "nav_menu": {},
   "number_sections": true,
   "sideBar": true,
   "skip_h1_title": false,
   "title_cell": "Table of Contents",
   "title_sidebar": "Contents",
   "toc_cell": false,
   "toc_position": {},
   "toc_section_display": true,
   "toc_window_display": false
  }
 },
 "nbformat": 4,
 "nbformat_minor": 5
}
