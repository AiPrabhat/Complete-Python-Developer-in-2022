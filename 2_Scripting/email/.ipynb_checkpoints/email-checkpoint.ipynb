{
 "cells": [
  {
   "cell_type": "markdown",
   "id": "23b74be5",
   "metadata": {},
   "source": [
    "#### Email"
   ]
  },
  {
   "cell_type": "code",
   "execution_count": 15,
   "id": "01cfd091",
   "metadata": {},
   "outputs": [],
   "source": [
    "import smtplib\n",
    "from email.message import EmailMessage\n",
    "\n",
    "email = EmailMessage()\n",
    "email['from'] = 'Prabhat Gupta'\n",
    "email['to'] = 'gprabhat830@gmail.com'\n",
    "email['subject'] = 'You won 1,000,000 dollars!'\n",
    "\n",
    "email.set_content('I am a Python Master!')\n",
    "\n",
    "with smtplib.SMTP(host='smtp.gmail.com', port=587) as smtp:\n",
    "    smtp.ehlo()\n",
    "    smtp.starttls()\n",
    "    smtp.login('iamdummyemail86@gmail.com', 'Dummy86@mail')\n",
    "    smtp.send_message(email)\n",
    "    print('all good boss!')"
   ]
  },
  {
   "cell_type": "code",
   "execution_count": 19,
   "id": "fd9c47d9",
   "metadata": {},
   "outputs": [
    {
     "name": "stdout",
     "output_type": "stream",
     "text": [
      "all good boss!\n"
     ]
    }
   ],
   "source": [
    "import smtplib\n",
    "from email.message import EmailMessage\n",
    "from string import Template\n",
    "from pathlib import Path\n",
    "\n",
    "html = Template(Path('index.html').read_text())\n",
    "email = EmailMessage()\n",
    "email['from'] = 'Prabhat Gupta'\n",
    "email['to'] = 'gprabhat126@gmail.com'\n",
    "email['subject'] = 'You won 1,000,000 dollars!'\n",
    "\n",
    "email.set_content(html.substitute({'name': 'TinTin'}), 'html')\n",
    "\n",
    "with smtplib.SMTP(host='smtp.gmail.com', port=587) as smtp:\n",
    "    smtp.ehlo()\n",
    "    smtp.starttls()\n",
    "    smtp.login('iamdummyemail86@gmail.com', 'Dummy86@mail')\n",
    "    smtp.send_message(email)\n",
    "    print('all good boss!')"
   ]
  }
 ],
 "metadata": {
  "kernelspec": {
   "display_name": "Python 3 (ipykernel)",
   "language": "python",
   "name": "python3"
  },
  "language_info": {
   "codemirror_mode": {
    "name": "ipython",
    "version": 3
   },
   "file_extension": ".py",
   "mimetype": "text/x-python",
   "name": "python",
   "nbconvert_exporter": "python",
   "pygments_lexer": "ipython3",
   "version": "3.9.7"
  },
  "notify_time": "5",
  "toc": {
   "base_numbering": 1,
   "nav_menu": {
    "height": "140px",
    "width": "160px"
   },
   "number_sections": false,
   "sideBar": true,
   "skip_h1_title": false,
   "title_cell": "Table of Contents",
   "title_sidebar": "Contents",
   "toc_cell": false,
   "toc_position": {
    "height": "calc(100% - 180px)",
    "left": "10px",
    "top": "150px",
    "width": "174.188px"
   },
   "toc_section_display": true,
   "toc_window_display": false
  }
 },
 "nbformat": 4,
 "nbformat_minor": 5
}
