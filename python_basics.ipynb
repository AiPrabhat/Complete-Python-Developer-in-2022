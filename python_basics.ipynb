{
 "cells": [
  {
   "cell_type": "markdown",
   "id": "e4187675",
   "metadata": {},
   "source": [
    "#### Print Hello World"
   ]
  },
  {
   "cell_type": "code",
   "execution_count": 29,
   "id": "5a89823b",
   "metadata": {},
   "outputs": [
    {
     "name": "stdout",
     "output_type": "stream",
     "text": [
      "Hello World\n",
      "2\n",
      "34.45\n",
      "True\n",
      "6\n"
     ]
    }
   ],
   "source": [
    "print(\"Hello World\")\n",
    "print(2)\n",
    "print(34.45)\n",
    "print(True)\n",
    "print(2+4)\n",
    "\n",
    "### Comments\n",
    "# Comments start with #\n",
    "# This is a example of comment"
   ]
  },
  {
   "cell_type": "markdown",
   "id": "02466e0b",
   "metadata": {},
   "source": [
    "#### int and float"
   ]
  },
  {
   "cell_type": "code",
   "execution_count": 4,
   "id": "c41954af",
   "metadata": {},
   "outputs": [
    {
     "name": "stdout",
     "output_type": "stream",
     "text": [
      "6\n",
      "<class 'int'>\n",
      "-2\n",
      "<class 'int'>\n",
      "8\n",
      "<class 'int'>\n",
      "0.5\n",
      "<class 'float'>\n",
      "0\n",
      "<class 'int'>\n",
      "10.34\n",
      "<class 'float'>\n"
     ]
    }
   ],
   "source": [
    "print(2+4)\n",
    "print(type(2+4))\n",
    "\n",
    "print(2-4)\n",
    "print(type(2-4))\n",
    "\n",
    "print(2*4)\n",
    "print(type(2*4))\n",
    "\n",
    "print(2/4)\n",
    "print(type(2/4))\n",
    "\n",
    "print(0)\n",
    "print(type(0))\n",
    "\n",
    "print(10.34)\n",
    "print(type(10.34))"
   ]
  },
  {
   "cell_type": "code",
   "execution_count": 5,
   "id": "bdc25ab4",
   "metadata": {},
   "outputs": [
    {
     "name": "stdout",
     "output_type": "stream",
     "text": [
      "3\n",
      "2 \n",
      "\n",
      "20\n",
      "20\n"
     ]
    }
   ],
   "source": [
    "#Math functions\n",
    "print(round(2.6))\n",
    "print(round(2.4),'\\n')\n",
    "\n",
    "print(abs(-20))\n",
    "print(abs(20))"
   ]
  },
  {
   "cell_type": "markdown",
   "id": "980ca346",
   "metadata": {},
   "source": [
    "#### Operator Precedence "
   ]
  },
  {
   "cell_type": "code",
   "execution_count": 6,
   "id": "048063b4",
   "metadata": {},
   "outputs": [
    {
     "name": "stdout",
     "output_type": "stream",
     "text": [
      "21\n"
     ]
    }
   ],
   "source": [
    "print((20 - 3) + 2 ** 2)\n",
    "\n",
    "# Sequence\n",
    "# ()\n",
    "# **\n",
    "# * /\n",
    "# + -"
   ]
  },
  {
   "cell_type": "markdown",
   "id": "6f8d42f7",
   "metadata": {},
   "source": [
    "#### bin()"
   ]
  },
  {
   "cell_type": "code",
   "execution_count": 7,
   "id": "23d8d880",
   "metadata": {},
   "outputs": [
    {
     "name": "stdout",
     "output_type": "stream",
     "text": [
      "0b101\n",
      "5\n"
     ]
    }
   ],
   "source": [
    "print(bin(5))\n",
    "print(int('0b101', 2))"
   ]
  },
  {
   "cell_type": "markdown",
   "id": "1667bc19",
   "metadata": {},
   "source": [
    "#### Variables"
   ]
  },
  {
   "cell_type": "code",
   "execution_count": 8,
   "id": "61515d42",
   "metadata": {},
   "outputs": [
    {
     "name": "stdout",
     "output_type": "stream",
     "text": [
      "Prabhat\n",
      "22\n",
      "True\n"
     ]
    }
   ],
   "source": [
    "_name = \"Prabhat\"\n",
    "user_age = 22\n",
    "python3 = True\n",
    "\n",
    "print(_name)\n",
    "print(user_age)\n",
    "print(python3)\n",
    "\n",
    "# Variable name - Must start with character\n",
    "    # user\n",
    "    # user_id\n",
    "    # _user_id\n",
    "    # user2_id4"
   ]
  },
  {
   "cell_type": "code",
   "execution_count": 9,
   "id": "8f0bddde",
   "metadata": {},
   "outputs": [
    {
     "name": "stdout",
     "output_type": "stream",
     "text": [
      "190\n",
      "47.5\n",
      "47.5\n"
     ]
    }
   ],
   "source": [
    "iq = 190\n",
    "user1_age = iq/4\n",
    "\n",
    "print(iq)\n",
    "print(user1_age)\n",
    "\n",
    "a = user1_age\n",
    "print(a)"
   ]
  },
  {
   "cell_type": "code",
   "execution_count": 10,
   "id": "edfc88e3",
   "metadata": {},
   "outputs": [
    {
     "name": "stdout",
     "output_type": "stream",
     "text": [
      "3.14\n",
      "0\n"
     ]
    }
   ],
   "source": [
    "#Constants - should never be change\n",
    "PI = 3.14\n",
    "print(PI)\n",
    "\n",
    "PI = 0\n",
    "print(PI)"
   ]
  },
  {
   "cell_type": "code",
   "execution_count": 11,
   "id": "615e71da",
   "metadata": {},
   "outputs": [
    {
     "name": "stdout",
     "output_type": "stream",
     "text": [
      "1\n",
      "2\n",
      "3\n"
     ]
    }
   ],
   "source": [
    "a,b,c = 1,2,3\n",
    "\n",
    "print(a)\n",
    "print(b)\n",
    "print(c)"
   ]
  },
  {
   "cell_type": "markdown",
   "id": "d28daa61",
   "metadata": {},
   "source": [
    "#### augmented assignment operator"
   ]
  },
  {
   "cell_type": "code",
   "execution_count": 12,
   "id": "ee9a394d",
   "metadata": {},
   "outputs": [
    {
     "name": "stdout",
     "output_type": "stream",
     "text": [
      "7\n",
      "9 \n",
      "\n",
      "10\n"
     ]
    }
   ],
   "source": [
    "some_value = 5\n",
    "\n",
    "some_value = some_value + 2\n",
    "print(some_value)\n",
    "\n",
    "some_value += 2\n",
    "print(some_value, '\\n')\n",
    "\n",
    "some_mul = 5\n",
    "some_mul *= 2\n",
    "print(some_mul)"
   ]
  },
  {
   "cell_type": "markdown",
   "id": "f8c16d3e",
   "metadata": {},
   "source": [
    "#### str"
   ]
  },
  {
   "cell_type": "code",
   "execution_count": 13,
   "id": "18ddfa14",
   "metadata": {},
   "outputs": [
    {
     "name": "stdout",
     "output_type": "stream",
     "text": [
      "<class 'str'>\n",
      "<class 'str'>\n",
      "\n",
      "WOW\n",
      "O O\n",
      "---\n",
      "\n"
     ]
    }
   ],
   "source": [
    "name = \"Prabhat\"\n",
    "print(type(name))\n",
    "\n",
    "intro = \"Hello, my name is prabhat and i am 22 years old\"\n",
    "print(type(intro))\n",
    "\n",
    "long_string = '''\n",
    "WOW\n",
    "O O\n",
    "---\n",
    "'''\n",
    "\n",
    "print(long_string)"
   ]
  },
  {
   "cell_type": "code",
   "execution_count": 14,
   "id": "cc85c293",
   "metadata": {},
   "outputs": [
    {
     "name": "stdout",
     "output_type": "stream",
     "text": [
      "hello prabhat\n",
      "Prabhat Gupta\n"
     ]
    }
   ],
   "source": [
    "# String Concatenation\n",
    "print('hello ' + 'prabhat')\n",
    "\n",
    "first_name = \"Prabhat\"\n",
    "last_name = \"Gupta\"\n",
    "full_name = first_name + ' ' + last_name\n",
    "\n",
    "print(full_name)"
   ]
  },
  {
   "cell_type": "code",
   "execution_count": 15,
   "id": "d2ae0e4c",
   "metadata": {
    "scrolled": true
   },
   "outputs": [
    {
     "name": "stdout",
     "output_type": "stream",
     "text": [
      "<class 'int'>\n",
      "<class 'str'>\n",
      "<class 'int'> \n",
      "\n",
      "<class 'str'>\n",
      "<class 'int'>\n",
      "<class 'float'>\n"
     ]
    }
   ],
   "source": [
    "# str()\n",
    "print(type(5))\n",
    "print(type(str(5)))\n",
    "print(type(int(str(5))), '\\n')\n",
    "\n",
    "a = str(100)\n",
    "b = int(a)\n",
    "c = float(a)\n",
    "print(type(a))\n",
    "print(type(b))\n",
    "print(type(c))"
   ]
  },
  {
   "cell_type": "markdown",
   "id": "9fb6f7d5",
   "metadata": {},
   "source": [
    "#### Escape Sequence, tab and new line"
   ]
  },
  {
   "cell_type": "code",
   "execution_count": 16,
   "id": "4bb24ac0",
   "metadata": {},
   "outputs": [
    {
     "name": "stdout",
     "output_type": "stream",
     "text": [
      "\t Its's \"kind of\" sunny \n",
      " New line\n"
     ]
    }
   ],
   "source": [
    "weather = \"\\t Its\\'s \\\"kind of\\\" sunny \\n New line\"\n",
    "print(weather)"
   ]
  },
  {
   "cell_type": "markdown",
   "id": "a00f8847",
   "metadata": {},
   "source": [
    "#### Formatted Strings"
   ]
  },
  {
   "cell_type": "code",
   "execution_count": 17,
   "id": "d34febb0",
   "metadata": {},
   "outputs": [
    {
     "name": "stdout",
     "output_type": "stream",
     "text": [
      "hi Prabhat You are 22 years old.\n",
      "hi Prabhat You are 22 years old.\n"
     ]
    }
   ],
   "source": [
    "name = \"Prabhat\"\n",
    "age = 22\n",
    "\n",
    "print(\"hi \" + name + \" You are\", age, \"years old.\")\n",
    "\n",
    "print(\"hi {} You are {} years old.\".format(name, age))"
   ]
  },
  {
   "cell_type": "code",
   "execution_count": 18,
   "id": "0f9039f8",
   "metadata": {},
   "outputs": [
    {
     "name": "stdout",
     "output_type": "stream",
     "text": [
      "hi Prabhat you are 22 years old. \n",
      "\n",
      "hi 22 you are Prabhat years old. \n",
      "\n",
      "hi Jhonny you are 43 years old.\n"
     ]
    }
   ],
   "source": [
    "print(\"hi {} you are {} years old.\".format(name, age), '\\n')\n",
    "\n",
    "print(\"hi {1} you are {0} years old.\".format(name, age),'\\n')\n",
    "\n",
    "print(\"hi {name} you are {age} years old.\".format(name = \"Jhonny\", age = 43))"
   ]
  },
  {
   "cell_type": "code",
   "execution_count": 19,
   "id": "e7823778",
   "metadata": {},
   "outputs": [
    {
     "name": "stdout",
     "output_type": "stream",
     "text": [
      "hi Prabhat you are 22 years old.\n"
     ]
    }
   ],
   "source": [
    "print(f\"hi {name} you are {age} years old.\")"
   ]
  },
  {
   "cell_type": "markdown",
   "id": "d4402419",
   "metadata": {},
   "source": [
    "#### String indexes"
   ]
  },
  {
   "cell_type": "markdown",
   "id": "07ab9379",
   "metadata": {},
   "source": [
    "Strings are immutable"
   ]
  },
  {
   "cell_type": "code",
   "execution_count": 20,
   "id": "04ce01a2",
   "metadata": {},
   "outputs": [
    {
     "name": "stdout",
     "output_type": "stream",
     "text": [
      "3\n",
      "1 \n",
      "\n",
      "234\n",
      "0123456789\n",
      "01234567\n",
      "0123456789 \n",
      "\n",
      "02468\n",
      "02468 \n",
      "\n",
      "9876543210\n"
     ]
    }
   ],
   "source": [
    "name = \"0123456789\"\n",
    "\n",
    "print(name[3])\n",
    "print(name[1], '\\n')\n",
    "\n",
    "print(name[2:5])\n",
    "print(name[0:])\n",
    "print(name[0:8])\n",
    "print(name[:], '\\n')\n",
    "\n",
    "# [start:stop:stepover]\n",
    "print(name[0:9:2])\n",
    "print(name[::2], '\\n')\n",
    "\n",
    "print(name[::-1])"
   ]
  },
  {
   "cell_type": "markdown",
   "id": "e2a9ff88",
   "metadata": {},
   "source": [
    "#### String Methods"
   ]
  },
  {
   "cell_type": "code",
   "execution_count": 21,
   "id": "784592c0",
   "metadata": {},
   "outputs": [
    {
     "name": "stdout",
     "output_type": "stream",
     "text": [
      "TO BE OR NOT TO BE\n",
      "To be or not to be\n",
      "to be or not to be\n",
      "3\n",
      "to me OR not to me\n",
      "to be OR not to be\n"
     ]
    }
   ],
   "source": [
    "quote = \"to be OR not to be\"\n",
    "\n",
    "print(quote.upper())\n",
    "print(quote.capitalize())\n",
    "print(quote.lower())\n",
    "\n",
    "print(quote.find('be'))\n",
    "\n",
    "print(quote.replace('be', 'me'))\n",
    "\n",
    "print(quote)"
   ]
  },
  {
   "cell_type": "markdown",
   "id": "9b8c7467",
   "metadata": {},
   "source": [
    "#### Boolean"
   ]
  },
  {
   "cell_type": "code",
   "execution_count": 22,
   "id": "6a754026",
   "metadata": {},
   "outputs": [
    {
     "name": "stdout",
     "output_type": "stream",
     "text": [
      "True\n",
      "False\n",
      "True\n"
     ]
    }
   ],
   "source": [
    "name = \"Prabhat\"\n",
    "is_cool = True\n",
    "\n",
    "print(bool(1))\n",
    "print(bool(0))\n",
    "print(bool(\"Hello\"))"
   ]
  },
  {
   "cell_type": "markdown",
   "id": "5e5a089b",
   "metadata": {},
   "source": [
    "#### Taking input from user"
   ]
  },
  {
   "cell_type": "code",
   "execution_count": 23,
   "id": "b134ed98",
   "metadata": {},
   "outputs": [
    {
     "name": "stdout",
     "output_type": "stream",
     "text": [
      "What's your good name: Prabhat\n",
      "What year were you born: 2000\n",
      "Hi Prabhat, you are 22 years old\n"
     ]
    }
   ],
   "source": [
    "name = input(\"What's your good name: \")\n",
    "birth_year = input(\"What year were you born: \")\n",
    "age = 2022 - int(birth_year)\n",
    "\n",
    "print(f\"Hi {name}, you are {age} years old\")"
   ]
  },
  {
   "cell_type": "markdown",
   "id": "6c0b0658",
   "metadata": {},
   "source": [
    "#### Exercise - Password Checker"
   ]
  },
  {
   "cell_type": "code",
   "execution_count": 24,
   "id": "fab58acf",
   "metadata": {},
   "outputs": [
    {
     "name": "stdout",
     "output_type": "stream",
     "text": [
      "Enter username: gprabhat6\n",
      "Enter password: prebhsdfdfd\n",
      "gprabhat6, your password *********** is 11 letter long\n"
     ]
    }
   ],
   "source": [
    "username = input(\"Enter username: \")\n",
    "password = input(\"Enter password: \")\n",
    "\n",
    "password_length = len(password)\n",
    "hidden_password = '*' * password_length\n",
    "\n",
    "print(f'{username}, your password {hidden_password} is {password_length} letter long')"
   ]
  },
  {
   "cell_type": "markdown",
   "id": "8a3d8bf2",
   "metadata": {},
   "source": [
    "### Data Structures"
   ]
  },
  {
   "cell_type": "markdown",
   "id": "41124d50",
   "metadata": {},
   "source": [
    "#### list"
   ]
  },
  {
   "cell_type": "code",
   "execution_count": 25,
   "id": "ed40ef96",
   "metadata": {},
   "outputs": [
    {
     "name": "stdout",
     "output_type": "stream",
     "text": [
      "[1, 2, 3, 4, 5]\n",
      "['a', 'b', 'c', 'd']\n",
      "[1, 2.4, 'a', True]\n"
     ]
    }
   ],
   "source": [
    "li = [1,2,3,4,5]\n",
    "li2 = ['a', 'b', 'c', 'd']\n",
    "li3 = [1, 2.4, 'a', True]\n",
    "\n",
    "print(li)\n",
    "print(li2)\n",
    "print(li3)"
   ]
  },
  {
   "cell_type": "code",
   "execution_count": 26,
   "id": "ce21bfb2",
   "metadata": {},
   "outputs": [
    {
     "name": "stdout",
     "output_type": "stream",
     "text": [
      "notebooks\n",
      "sunglasses\n",
      "toys\n",
      "grapes \n",
      "\n",
      "['notebooks', 'toys']\n",
      "['laptop', 'sunglasses', 'toys', 'grapes']\n",
      "['gum', 'sunglasses', 'toys', 'grapes']\n"
     ]
    }
   ],
   "source": [
    "amazon_cart = ['notebooks',\n",
    "               'sunglasses',\n",
    "               'toys',\n",
    "               'grapes'\n",
    "              ]\n",
    "print(amazon_cart[0])\n",
    "print(amazon_cart[1])\n",
    "print(amazon_cart[2])\n",
    "print(amazon_cart[3], '\\n')\n",
    "\n",
    "\n",
    "# List Slicing\n",
    "print(amazon_cart[::2])\n",
    "amazon_cart[0] = 'laptop'\n",
    "print(amazon_cart)\n",
    "\n",
    "new_cart = amazon_cart[:]\n",
    "new_cart[0] = 'gum'\n",
    "print(new_cart)"
   ]
  },
  {
   "cell_type": "markdown",
   "id": "a83b91f2",
   "metadata": {},
   "source": [
    "#### Matrix"
   ]
  },
  {
   "cell_type": "code",
   "execution_count": 27,
   "id": "2ff37578",
   "metadata": {},
   "outputs": [
    {
     "name": "stdout",
     "output_type": "stream",
     "text": [
      "[[1, 0, 1], [0, 1, 0], [1, 0, 1]] \n",
      "\n",
      "[1, 0, 1]\n",
      "0 \n",
      "\n",
      "[0, 1, 0]\n",
      "1\n"
     ]
    }
   ],
   "source": [
    "matrix = [\n",
    "    [1,0,1],\n",
    "    [0,1,0],\n",
    "    [1,0,1]\n",
    "]\n",
    "\n",
    "print(matrix, '\\n')\n",
    "\n",
    "print(matrix[0])\n",
    "print(matrix[0][1], '\\n')\n",
    "\n",
    "print(matrix[1])\n",
    "print(matrix[1][1])"
   ]
  },
  {
   "cell_type": "markdown",
   "id": "cd02e40d",
   "metadata": {},
   "source": [
    "#### List Methods"
   ]
  },
  {
   "cell_type": "code",
   "execution_count": 28,
   "id": "c7697331",
   "metadata": {},
   "outputs": [
    {
     "name": "stdout",
     "output_type": "stream",
     "text": [
      "\n"
     ]
    }
   ],
   "source": [
    "li = [1,2,3,4,5]"
   ]
  }
 ],
 "metadata": {
  "kernelspec": {
   "display_name": "Python 3 (ipykernel)",
   "language": "python",
   "name": "python3"
  },
  "language_info": {
   "codemirror_mode": {
    "name": "ipython",
    "version": 3
   },
   "file_extension": ".py",
   "mimetype": "text/x-python",
   "name": "python",
   "nbconvert_exporter": "python",
   "pygments_lexer": "ipython3",
   "version": "3.9.7"
  }
 },
 "nbformat": 4,
 "nbformat_minor": 5
}
